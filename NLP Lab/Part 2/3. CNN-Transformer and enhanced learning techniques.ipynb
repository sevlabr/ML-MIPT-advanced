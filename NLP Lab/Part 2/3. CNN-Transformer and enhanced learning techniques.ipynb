{
  "nbformat": 4,
  "nbformat_minor": 0,
  "metadata": {
    "colab": {
      "name": "3. CNN-Transformer and enhanced learning techniques.ipynb",
      "provenance": []
    },
    "kernelspec": {
      "name": "python3",
      "display_name": "Python 3"
    },
    "language_info": {
      "name": "python"
    },
    "accelerator": "GPU"
  },
  "cells": [
    {
      "cell_type": "markdown",
      "metadata": {
        "id": "8h1UEnc0zoFC"
      },
      "source": [
        "## CNN в качестве энкодера, декодер из трансформера и улучшенные техники обучения\n",
        "\n",
        "Работа вдохновлена туториалами [bentrevett](https://github.com/bentrevett) по Seq2Seq [5](https://github.com/bentrevett/pytorch-seq2seq/blob/master/5%20-%20Convolutional%20Sequence%20to%20Sequence%20Learning.ipynb) и [6](https://github.com/bentrevett/pytorch-seq2seq/blob/master/6%20-%20Attention%20is%20All%20You%20Need.ipynb), а также туторилами по Image Classification [3](https://github.com/bentrevett/pytorch-image-classification/blob/master/3_alexnet.ipynb) и [5](https://github.com/bentrevett/pytorch-image-classification/blob/master/5_resnet.ipynb). Основной идеей этого подхода была апробация комбинации нескольких разных архитектур и техник. Работа носит якро выраженный экспериментальный характер.\n",
        "\n",
        "**Описание подхода.**\n",
        "\n",
        "1. Подготовка данных принципиально не отличается от baseline ноутбука.\n",
        "2. Модель является симбиозом CNN-энкодера и Transformer-декодера:\n",
        "  - За основу экнодера взят код [отсюда](https://github.com/bentrevett/pytorch-seq2seq/blob/master/5%20-%20Convolutional%20Sequence%20to%20Sequence%20Learning.ipynb). К нему были добавлены\n",
        "    - Inception-блоки, одновременно сворачивающие последовательность как фильтром размера 3, так и фильтром размера 5.\n",
        "    - Skip-connection'ы через каждые 2 блока, аналогичные применяемым в архитектуре ResNet'а.\n",
        "    - Реализован Batch Norm.\n",
        "    \n",
        "    Энкодер возвращает два тензора: conved и combined. Первый является выходным результатом всех сверточных слоев сети, второй — сумма conved с эмбеддингом соответствующего слова. Combined несет больше локальной информации, а conved — интегральной обо всей последовательности.\n",
        "\n",
        " - Декодер, в целом, повторяет идеи, примененные в подходе с [DistilBert-энкодером](https://colab.research.google.com/drive/1sT5tPaRasXq2M55whxb1hPnz-adBan6e?usp=sharing), которые были, в свою очередь, основаны на [этом туториале](https://github.com/bentrevett/pytorch-seq2seq/blob/master/6%20-%20Attention%20is%20All%20You%20Need.ipynb). Однако в качестве эксперимента в self-attention слой декодера, обрабатывающий выход энкодера, теперь подается не одно представление source-предложения, а два: conved и combined. Причем combined подается в самый первый слой декодера и в самый последний, а в остальные приходит conved. Это сделано из предположения, что при обработке первого слоя, агрегирующего более локальную информацию, а также последнего слоя, выход которого непосредственно используется для предсказаний, более важна локальная информация, содержащаяся в combined.\n",
        "\n",
        "3. Подготовка модели к обучению и выбор гиперпараметров включает в себя комбинацию нескольких техник:\n",
        " - Инициализация весов модели происходит по-разному для энкодера и декодера. Последний инициализируется посредством nn.init.xavier_uniform_ для весов. В энкодере свертки инициализируются nn.init.xavier_normal_ c множителем для сигмоиды, а линейные слои — nn.init.kaiming_normal_ для leaky_relu. Bias'ы везде приравниваются 0.\n",
        " - Реализован поиск оптимального learning_rate'а, основанный на подходе, продемонстрированном [здесь](https://github.com/bentrevett/pytorch-image-classification/blob/master/3_alexnet.ipynb), который, в свою очередь, вдохновлен идеями [отсюда](https://github.com/davidtvs/pytorch-lr-finder).\n",
        "\n",
        "4. Обучение также включает в себя несколько моментов, на которые можно обратить внимание:\n",
        " - Оптимизатором является AdamW, с разными learning_rate'ами для экнодера и декодера. Несмотря на наличие большого количества skip-connection'ов, для энкодера этот гиперпараметр выбран бОльшим, чем для декодера, что, возможно, дополнительно решает проблему затухающих градиентов. (Энкодер учится с нуля. Иначе было бы наоборот: у декодера learning_rate имело бы смысл делать больше.)\n",
        " - После первых 5 эпох активируется изменение leraning_rate'а с использованием [CosineAnnealingLR](https://pytorch.org/docs/stable/generated/torch.optim.lr_scheduler.CosineAnnealingLR.html#torch.optim.lr_scheduler.CosineAnnealingLR).\n",
        "\n",
        "5. Оценка результатов перевода и BLEU score аналогична остальным подходам."
      ]
    },
    {
      "cell_type": "markdown",
      "metadata": {
        "id": "TlrR9r99ziE-"
      },
      "source": [
        "### Подготовка данных"
      ]
    },
    {
      "cell_type": "code",
      "metadata": {
        "colab": {
          "base_uri": "https://localhost:8080/"
        },
        "id": "cZbfgbtM02UL",
        "outputId": "38c69906-7571-4ee1-a053-535bc8f69727"
      },
      "source": [
        "!nvidia-smi"
      ],
      "execution_count": null,
      "outputs": [
        {
          "output_type": "stream",
          "name": "stdout",
          "text": [
            "Sun Oct 24 21:42:09 2021       \n",
            "+-----------------------------------------------------------------------------+\n",
            "| NVIDIA-SMI 470.74       Driver Version: 460.32.03    CUDA Version: 11.2     |\n",
            "|-------------------------------+----------------------+----------------------+\n",
            "| GPU  Name        Persistence-M| Bus-Id        Disp.A | Volatile Uncorr. ECC |\n",
            "| Fan  Temp  Perf  Pwr:Usage/Cap|         Memory-Usage | GPU-Util  Compute M. |\n",
            "|                               |                      |               MIG M. |\n",
            "|===============================+======================+======================|\n",
            "|   0  Tesla K80           Off  | 00000000:00:04.0 Off |                    0 |\n",
            "| N/A   34C    P8    27W / 149W |      0MiB / 11441MiB |      0%      Default |\n",
            "|                               |                      |                  N/A |\n",
            "+-------------------------------+----------------------+----------------------+\n",
            "                                                                               \n",
            "+-----------------------------------------------------------------------------+\n",
            "| Processes:                                                                  |\n",
            "|  GPU   GI   CI        PID   Type   Process name                  GPU Memory |\n",
            "|        ID   ID                                                   Usage      |\n",
            "|=============================================================================|\n",
            "|  No running processes found                                                 |\n",
            "+-----------------------------------------------------------------------------+\n"
          ]
        }
      ]
    },
    {
      "cell_type": "code",
      "metadata": {
        "id": "HP5j39r4NpSF"
      },
      "source": [
        "import numpy as np\n",
        "\n",
        "import matplotlib\n",
        "matplotlib.rcParams.update({'font.size': 14})\n",
        "import matplotlib.pyplot as plt\n",
        "%matplotlib inline\n",
        "from IPython.display import clear_output\n",
        "\n",
        "import torch\n",
        "import torch.nn as nn\n",
        "import torch.optim as optim\n",
        "import torch.nn.functional as F\n",
        "from torch.optim.lr_scheduler import _LRScheduler\n",
        "\n",
        "from torchtext.legacy.datasets import TranslationDataset, Multi30k\n",
        "from torchtext.legacy.data import Field, BucketIterator, TabularDataset\n",
        "\n",
        "import spacy\n",
        "from nltk.tokenize import WordPunctTokenizer\n",
        "\n",
        "import random\n",
        "import time\n",
        "import math\n",
        "\n",
        "import os\n",
        "import json"
      ],
      "execution_count": null,
      "outputs": []
    },
    {
      "cell_type": "code",
      "metadata": {
        "id": "QsPjmi_-0yLh"
      },
      "source": [
        "SEED = 1234\n",
        "\n",
        "random.seed(SEED)\n",
        "np.random.seed(SEED)\n",
        "torch.manual_seed(SEED)\n",
        "torch.cuda.manual_seed(SEED)\n",
        "torch.backends.cudnn.deterministic = True"
      ],
      "execution_count": null,
      "outputs": []
    },
    {
      "cell_type": "code",
      "metadata": {
        "colab": {
          "base_uri": "https://localhost:8080/"
        },
        "id": "xV6SuFQO03UE",
        "outputId": "30c4db94-d1f7-4dc5-f23c-71188f705eba"
      },
      "source": [
        "# Thanks to YSDA NLP course team for the data\n",
        "# (who thanks tilda and deephack teams for the data in their turn)\n",
        "\n",
        "path_do_data = '../../datasets/Machine_translation_EN_RU/data.txt'\n",
        "if not os.path.exists(path_do_data):\n",
        "    print(\"Dataset not found locally. Downloading from github. Loading special files as well\")\n",
        "    !wget https://raw.githubusercontent.com/girafe-ai/ml-mipt/master/datasets/Machine_translation_EN_RU/data.txt -nc\n",
        "    path_do_data = './data.txt'"
      ],
      "execution_count": null,
      "outputs": [
        {
          "output_type": "stream",
          "name": "stdout",
          "text": [
            "Dataset not found locally. Downloading from github. Loading special files as well\n",
            "--2021-10-24 21:42:43--  https://raw.githubusercontent.com/girafe-ai/ml-mipt/master/datasets/Machine_translation_EN_RU/data.txt\n",
            "Resolving raw.githubusercontent.com (raw.githubusercontent.com)... 185.199.109.133, 185.199.111.133, 185.199.110.133, ...\n",
            "Connecting to raw.githubusercontent.com (raw.githubusercontent.com)|185.199.109.133|:443... connected.\n",
            "HTTP request sent, awaiting response... 200 OK\n",
            "Length: 12905334 (12M) [text/plain]\n",
            "Saving to: ‘data.txt’\n",
            "\n",
            "data.txt            100%[===================>]  12.31M  --.-KB/s    in 0.1s    \n",
            "\n",
            "2021-10-24 21:42:44 (93.5 MB/s) - ‘data.txt’ saved [12905334/12905334]\n",
            "\n"
          ]
        }
      ]
    },
    {
      "cell_type": "code",
      "metadata": {
        "id": "OD5UC5cY06c8"
      },
      "source": [
        "tokenizer_W = WordPunctTokenizer()\n",
        "def tokenize(x, tokenizer=tokenizer_W):\n",
        "    return tokenizer.tokenize(x.lower())"
      ],
      "execution_count": null,
      "outputs": []
    },
    {
      "cell_type": "markdown",
      "metadata": {
        "id": "0MqX8GQS1bY-"
      },
      "source": [
        "batch_first=True для удобства."
      ]
    },
    {
      "cell_type": "code",
      "metadata": {
        "id": "_taH-xpM1Hgi"
      },
      "source": [
        "SRC = Field(tokenize=tokenize,\n",
        "            init_token='<sos>', \n",
        "            eos_token='<eos>', \n",
        "            lower=True,\n",
        "            batch_first=True)\n",
        "\n",
        "TRG = Field(tokenize=tokenize,\n",
        "            init_token='<sos>', \n",
        "            eos_token='<eos>', \n",
        "            lower=True,\n",
        "            batch_first=True)\n",
        "\n",
        "dataset = TabularDataset(\n",
        "    path=path_do_data,\n",
        "    format='tsv',\n",
        "    fields=[('trg', TRG), ('src', SRC)]\n",
        ")"
      ],
      "execution_count": null,
      "outputs": []
    },
    {
      "cell_type": "code",
      "metadata": {
        "colab": {
          "base_uri": "https://localhost:8080/"
        },
        "id": "nNfBP3hM1m5Z",
        "outputId": "60200bb6-8257-4902-bad1-dd75f547e7f8"
      },
      "source": [
        "train_data, valid_data, test_data = dataset.split(split_ratio=[0.8, 0.15, 0.05])\n",
        "\n",
        "print(f\"Number of training examples: {len(train_data.examples)}\")\n",
        "print(f\"Number of validation examples: {len(valid_data.examples)}\")\n",
        "print(f\"Number of testing examples: {len(test_data.examples)}\")\n",
        "\n",
        "SRC.build_vocab(train_data, min_freq = 2)\n",
        "TRG.build_vocab(train_data, min_freq = 2)\n",
        "\n",
        "print()\n",
        "print(f\"Unique tokens in source (ru) vocabulary: {len(SRC.vocab)}\")\n",
        "print(f\"Unique tokens in target (en) vocabulary: {len(TRG.vocab)}\")\n",
        "\n",
        "print()\n",
        "print(\"Part of russian vocab:\", SRC.vocab.itos[::1000])\n",
        "print(\"Part of english vocab:\", TRG.vocab.itos[::1000])\n",
        "\n",
        "print()\n",
        "print(\"Example of data:\")\n",
        "print(\"English (target):\", vars(train_data.examples[9])[\"trg\"])\n",
        "print(\"Russian (source):\", vars(train_data.examples[9])[\"src\"])"
      ],
      "execution_count": null,
      "outputs": [
        {
          "output_type": "stream",
          "name": "stdout",
          "text": [
            "Number of training examples: 40000\n",
            "Number of validation examples: 2500\n",
            "Number of testing examples: 7500\n",
            "\n",
            "Unique tokens in source (ru) vocabulary: 14129\n",
            "Unique tokens in target (en) vocabulary: 10104\n",
            "\n",
            "Part of russian vocab: ['<unk>', 'террасу', 'чистые', 'компьютеры', 'don', 'шамони', 'logis', 'форму', 'душевые', 'техасского', 'm7', 'бьерт', 'курантов', 'проведенного', 'шезлонге']\n",
            "Part of english vocab: ['<unk>', 'springs', 'galeao', 'calm', 'occupies', 'tegel', 'malioboro', 'athena', 'haapsalu', 'perdido', 'wilpattu']\n",
            "\n",
            "Example of data:\n",
            "English (target): ['other', 'facilities', 'offered', 'at', 'the', 'property', 'include', 'grocery', 'deliveries', ',', 'laundry', 'and', 'ironing', 'services', '.']\n",
            "Russian (source): ['также', 'предлагается', 'доставка', 'продуктов', ',', 'услуги', 'прачечной', 'и', 'гладильные', 'услуги', '.']\n"
          ]
        }
      ]
    },
    {
      "cell_type": "code",
      "metadata": {
        "colab": {
          "base_uri": "https://localhost:8080/"
        },
        "id": "xEVhk_Vw2EdT",
        "outputId": "de6995d6-08da-4997-852a-9406cbe74d50"
      },
      "source": [
        "max_ru_len = 0\n",
        "max_en_len = 0\n",
        "for curr_data in (train_data, valid_data, test_data):\n",
        "    for example in curr_data.examples:\n",
        "        curr_ru_len = len(vars(example)[\"src\"])\n",
        "        if curr_ru_len > max_ru_len:\n",
        "            max_ru_len = curr_ru_len\n",
        "\n",
        "        curr_en_len = len(vars(example)[\"trg\"])\n",
        "        if curr_en_len > max_en_len:\n",
        "            max_en_len = curr_en_len\n",
        "\n",
        "\n",
        "print(\"Max RU sentence length:\", max_ru_len)\n",
        "print(\"Max EN sentence length:\", max_en_len)"
      ],
      "execution_count": null,
      "outputs": [
        {
          "output_type": "stream",
          "name": "stdout",
          "text": [
            "Max RU sentence length: 80\n",
            "Max EN sentence length: 99\n"
          ]
        }
      ]
    },
    {
      "cell_type": "code",
      "metadata": {
        "colab": {
          "base_uri": "https://localhost:8080/"
        },
        "id": "I5Z5UN782YNz",
        "outputId": "5bcb536f-4635-4903-ec85-1dde94f18da8"
      },
      "source": [
        "# рабочий девайс\n",
        "device = torch.device('cuda' if torch.cuda.is_available() else 'cpu')\n",
        "print(\"Device:\", device)\n",
        "\n",
        "def _len_sort_key(x):\n",
        "    return len(x.src)\n",
        "\n",
        "BATCH_SIZE = 128\n",
        "\n",
        "train_iterator, valid_iterator, test_iterator = BucketIterator.splits(\n",
        "    (train_data, valid_data, test_data),\n",
        "    batch_size=BATCH_SIZE, \n",
        "    device=device,\n",
        "    sort_key=_len_sort_key\n",
        ")"
      ],
      "execution_count": null,
      "outputs": [
        {
          "output_type": "stream",
          "name": "stdout",
          "text": [
            "Device: cuda\n"
          ]
        }
      ]
    },
    {
      "cell_type": "code",
      "metadata": {
        "colab": {
          "base_uri": "https://localhost:8080/"
        },
        "id": "kto8wKvT2giM",
        "outputId": "dcfb0a8e-48aa-4340-aad1-441e48ae1e3d"
      },
      "source": [
        "for x in train_iterator:\n",
        "    break\n",
        "print(x)\n",
        "print(x.src.shape, x.trg.shape)"
      ],
      "execution_count": null,
      "outputs": [
        {
          "output_type": "stream",
          "name": "stdout",
          "text": [
            "\n",
            "[torchtext.legacy.data.batch.Batch of size 128]\n",
            "\t[.trg]:[torch.cuda.LongTensor of size 128x58 (GPU 0)]\n",
            "\t[.src]:[torch.cuda.LongTensor of size 128x75 (GPU 0)]\n",
            "torch.Size([128, 75]) torch.Size([128, 58])\n"
          ]
        }
      ]
    },
    {
      "cell_type": "code",
      "metadata": {
        "colab": {
          "base_uri": "https://localhost:8080/",
          "height": 299
        },
        "id": "dvvznf_G25wW",
        "outputId": "10405052-a27a-499f-9503-61f84bdb5342"
      },
      "source": [
        "src_length = map(len, [vars(x)['src'] for x in train_data.examples])\n",
        "trg_length = map(len, [vars(x)['trg'] for x in train_data.examples])\n",
        "\n",
        "print('Length distribution in Train data')\n",
        "plt.figure(figsize=[8, 4])\n",
        "plt.subplot(1, 2, 1)\n",
        "plt.title(\"source length\")\n",
        "plt.hist(list(src_length), bins=20);\n",
        "\n",
        "plt.subplot(1, 2, 2)\n",
        "plt.title(\"translation length\")\n",
        "plt.hist(list(trg_length), bins=20);"
      ],
      "execution_count": null,
      "outputs": [
        {
          "output_type": "stream",
          "name": "stdout",
          "text": [
            "Length distribution in Train data\n"
          ]
        },
        {
          "output_type": "display_data",
          "data": {
            "image/png": "[encoded data removed]",
            "text/plain": [
              "<Figure size 576x288 with 2 Axes>"
            ]
          },
          "metadata": {
            "needs_background": "light"
          }
        }
      ]
    },
    {
      "cell_type": "code",
      "metadata": {
        "colab": {
          "base_uri": "https://localhost:8080/",
          "height": 299
        },
        "id": "tVxZPQ5u3BlQ",
        "outputId": "7baefc93-48c0-4e60-e7f9-b9c1a0dc8a18"
      },
      "source": [
        "src_length = map(len, [vars(x)['src'] for x in test_data.examples])\n",
        "trg_length = map(len, [vars(x)['trg'] for x in test_data.examples])\n",
        "\n",
        "print('Length distribution in Test data')\n",
        "plt.figure(figsize=[8, 4])\n",
        "plt.subplot(1, 2, 1)\n",
        "plt.title(\"source length\")\n",
        "plt.hist(list(src_length), bins=20);\n",
        "\n",
        "plt.subplot(1, 2, 2)\n",
        "plt.title(\"translation length\")\n",
        "plt.hist(list(trg_length), bins=20);"
      ],
      "execution_count": null,
      "outputs": [
        {
          "output_type": "stream",
          "name": "stdout",
          "text": [
            "Length distribution in Test data\n"
          ]
        },
        {
          "output_type": "display_data",
          "data": {
            "image/png": "[encoded data removed]",
            "text/plain": [
              "<Figure size 576x288 with 2 Axes>"
            ]
          },
          "metadata": {
            "needs_background": "light"
          }
        }
      ]
    },
    {
      "cell_type": "markdown",
      "metadata": {
        "id": "fIjmT3Yg3FmM"
      },
      "source": [
        "### Модель\n",
        "\n",
        "Основные изменения касаются экнодера. Декодер и Seq2Seq-модель, в целом, стандартны."
      ]
    },
    {
      "cell_type": "markdown",
      "metadata": {
        "id": "7RVQVTMr3I4t"
      },
      "source": [
        "#### Энкодер\n",
        "\n",
        "Энкодер можно условно поделить на 3 части:\n",
        " - Входные эмбеддинги — токенов и позиционные. Далее они суммируются и результат подается в линейный слой, приводящий их к размерности hid_dim.\n",
        " - Сверточные слои. Каждый состоит из двух Inception-блоков и skip-connection'а. Более подробно они будут описаны ниже.\n",
        " - Выходные слои. Результат последних сверток проходит через линейный слой hid_dim -> emb_dim, порождая conv, после чего складывается с эмбеддингом соответствующего слова, что дает combined.\n",
        "\n",
        "Conv и combined далее подаются в декодер."
      ]
    },
    {
      "cell_type": "code",
      "metadata": {
        "id": "ODw3dWAw3M28"
      },
      "source": [
        "class Encoder(nn.Module):\n",
        "    def __init__(self, \n",
        "                 input_dim, \n",
        "                 emb_dim, \n",
        "                 hid_dim, \n",
        "                 n_layers,\n",
        "                 dropout, \n",
        "                 device,\n",
        "                 max_length=100):\n",
        "        super().__init__()\n",
        "        \n",
        "        self.device = device\n",
        "        \n",
        "        self.emb_scale = torch.sqrt(torch.FloatTensor([hid_dim])).to(device)\n",
        "        self.tok_embedding = nn.Embedding(input_dim, emb_dim)\n",
        "        self.pos_embedding = nn.Embedding(max_length, emb_dim)\n",
        "        \n",
        "        self.emb2hid = nn.Linear(emb_dim, hid_dim)\n",
        "        self.hid2emb = nn.Linear(hid_dim, emb_dim)\n",
        "        \n",
        "        self.layers = nn.ModuleList([EncoderLayer(hid_dim, \n",
        "                                                  dropout, \n",
        "                                                  device)\n",
        "                                    for _ in range(n_layers)])\n",
        "        \n",
        "        self.bn_conv_in = nn.BatchNorm1d(hid_dim)\n",
        "        self.conv_scale = torch.sqrt(torch.FloatTensor([0.5])).to(device)\n",
        "\n",
        "        self.dropout = nn.Dropout(dropout)\n",
        "\n",
        "        self.bn_conv_out = nn.BatchNorm1d(emb_dim)\n",
        "        self.bn_comb_out = nn.BatchNorm1d(emb_dim)\n",
        "        \n",
        "\n",
        "    def forward(self, src):\n",
        "        \n",
        "        # src = [batch size, src len]\n",
        "        batch_size = src.shape[0]\n",
        "        src_len = src.shape[1]\n",
        "        \n",
        "        # create position tensor\n",
        "        # pos = [0, 1, 2, 3, ..., src len - 1]\n",
        "        # pos = [batch size, src len]\n",
        "        pos = torch.arange(0, src_len).unsqueeze(0).repeat(batch_size, 1).to(self.device)\n",
        "        \n",
        "        # embed tokens and positions\n",
        "        # tok_embedded = pos_embedded = [batch size, src len, emb dim]\n",
        "        tok_embedded = self.tok_embedding(src)\n",
        "        pos_embedded = self.pos_embedding(pos)\n",
        "        \n",
        "        # combine embeddings by elementwise summing\n",
        "        # embedded = [batch size, src len, emb dim]\n",
        "        embedded = self.dropout((tok_embedded * self.emb_scale) + pos_embedded)\n",
        "        \n",
        "        # pass embedded through linear layer to convert from emb dim to hid dim\n",
        "        # conv = [batch size, src len, hid dim]\n",
        "        conv = self.emb2hid(embedded)\n",
        "        \n",
        "        # permute for convolutional layer and apply Batch Normalization\n",
        "        # conv = [batch size, hid dim, src len]\n",
        "        conv = self.bn_conv_in(conv.permute(0, 2, 1))\n",
        "        \n",
        "        # begin convolutional blocks...\n",
        "        for layer in self.layers:\n",
        "            conv = layer(conv)\n",
        "\n",
        "        # ...end convolutional blocks\n",
        "\n",
        "        # permute and convert back to emb dim\n",
        "        # conv = [batch size, src len, emb dim]\n",
        "        conv = self.hid2emb(conv.permute(0, 2, 1))\n",
        "\n",
        "        # elementwise sum output (conved) and input (embedded)\n",
        "        # combined = [batch size, src len, emb dim]\n",
        "        combined = (conv + embedded) * self.conv_scale\n",
        "\n",
        "        conv = self.bn_conv_out(conv.permute(0, 2, 1))\n",
        "        combined = self.bn_comb_out(combined.permute(0, 2, 1))\n",
        "\n",
        "        return conv.permute(0, 2, 1), combined.permute(0, 2, 1)"
      ],
      "execution_count": null,
      "outputs": []
    },
    {
      "cell_type": "markdown",
      "metadata": {
        "id": "PREH4NOmLiew"
      },
      "source": [
        "EncoderLayer является кирпичиком центральной части энкодера. Каждый слой состоит из двух Inception-блоков. Вход слоя последовательно подается в каждый блок, а затем следует skip-connection — результат сверток складывется с начальным тензором и к сумме применяется LeakyReLU."
      ]
    },
    {
      "cell_type": "code",
      "metadata": {
        "id": "uDl57_8N37hd"
      },
      "source": [
        "class EncoderLayer(nn.Module):\n",
        "    def __init__(self,\n",
        "                 hid_dim, \n",
        "                 dropout, \n",
        "                 device):\n",
        "        super().__init__()\n",
        "\n",
        "        self.block_1 = InceptionBlock(hid_dim, dropout, device)\n",
        "        self.block_2 = InceptionBlock(hid_dim, dropout, device)\n",
        "        self.bn = nn.BatchNorm1d(hid_dim)\n",
        "        self.lrelu = nn.LeakyReLU(negative_slope=0.1)\n",
        "\n",
        "    def forward(self, input):\n",
        "        # input = [batch size, hid dim, src len]\n",
        "\n",
        "        # apply convs in InceptionBlocks\n",
        "        # conved = [batch size, hid dim, src len]\n",
        "        conved = self.block_1(input)\n",
        "        conved = self.block_2(conved)\n",
        "\n",
        "        # skip-connection\n",
        "        # conved = [batch size, hid dim, src len]\n",
        "        conved = self.lrelu(conved + input)\n",
        "\n",
        "        return self.bn(conved)"
      ],
      "execution_count": null,
      "outputs": []
    },
    {
      "cell_type": "markdown",
      "metadata": {
        "id": "pCLlc7paM_Jw"
      },
      "source": [
        "Inception-блок параллельно применяет к входу свертки с ядром разного размера — 3 и 5. При этом hid_dim увеличивается в 2 раза. Затем к двум результатам применяется [GLU](https://pytorch.org/docs/stable/generated/torch.nn.functional.glu.html), приводя их к прежнему размеру hid_dim, после чего они складываются друг с другом и с входным тензором блока. Таким образом, помимо skip-connection'ов через два блока в слое энкодера, в самих блоках также реализован собственный skip-connection."
      ]
    },
    {
      "cell_type": "code",
      "metadata": {
        "id": "wFhfz1695D9X"
      },
      "source": [
        "class InceptionBlock(nn.Module):\n",
        "    def __init__(self,\n",
        "                 hid_dim, \n",
        "                 dropout, \n",
        "                 device):\n",
        "        super().__init__()\n",
        "\n",
        "        self.conv_3 = nn.Conv1d(in_channels=hid_dim,\n",
        "                                out_channels=2*hid_dim, \n",
        "                                kernel_size=3, \n",
        "                                padding=1)\n",
        "        \n",
        "        self.conv_5 = nn.Conv1d(in_channels=hid_dim,\n",
        "                                out_channels=2*hid_dim, \n",
        "                                kernel_size=5, \n",
        "                                padding=2)\n",
        "        \n",
        "        self.bn = nn.BatchNorm1d(hid_dim)\n",
        "        self.scale = torch.sqrt(torch.FloatTensor([0.33])).to(device)\n",
        "        self.dropout = nn.Dropout(dropout)\n",
        "\n",
        "\n",
        "    def forward(self, conved):\n",
        "        # conved = [batch size, hid dim, src len]\n",
        "\n",
        "        # pass through convolutional layers\n",
        "\n",
        "        # conved_3 = [batch size, 2 * hid dim, src len]\n",
        "        conved_3 = self.conv_3(self.dropout(conved))\n",
        "\n",
        "        # conved_5 = [batch size, 2 * hid dim, src len]\n",
        "        conved_5 = self.conv_5(self.dropout(conved))\n",
        "\n",
        "        # pass through GLU activation function\n",
        "\n",
        "        # conved_3 = [batch size, hid dim, src len]\n",
        "        conved_3 = F.glu(conved_3, dim=1)\n",
        "\n",
        "        # conved_5 = [batch size, hid dim, src len]\n",
        "        conved_5 = F.glu(conved_5, dim=1)\n",
        "\n",
        "        # sum conv results and apply residual connection with input\n",
        "        # conved = [batch size, hid dim, src len]\n",
        "        conved = (conved + conved_3 + conved_5) * self.scale\n",
        "\n",
        "        return self.bn(conved)"
      ],
      "execution_count": null,
      "outputs": []
    },
    {
      "cell_type": "markdown",
      "metadata": {
        "id": "raCqOdFwJZyp"
      },
      "source": [
        "#### Декодер\n",
        "\n",
        "В целом, повторяется код из [подхода с предобученным DistilBERT](https://colab.research.google.com/drive/1sT5tPaRasXq2M55whxb1hPnz-adBan6e?usp=sharing). Однако здесь на вход encoder_attention подается не одно представление экнодера, как в оригинальном трансформере, а два разных: conved и combined, в зависимости от того, какой это слой декодера.\n",
        "\n",
        "Combined содержит больше локальной информации, так как является суммой conved с эмбеддингом слова. Первый слой декодера рассматривает попарные взаимодействия слов, что, условно, можно назвать более локальными взаимодействиями, сравнивая их с происходящими в более глубоких слоях декодера. Поэтому сначала в него подается combined. Во втором и далее encoder_attention считается уже на основе conved. Затем, на последнем слое декодера, в него опять подается combined, чтобы дать больше локальной информации для перевода конкретного слова."
      ]
    },
    {
      "cell_type": "code",
      "metadata": {
        "id": "pX30OLQBJdJZ"
      },
      "source": [
        "# основной класс, в котором реализуются:\n",
        "# - эмбеддинги токенов и их позиций в предложении\n",
        "# - слои декодера, каждый из которых содержит по 2 self-attention'а\n",
        "# - финальный полносвязный слой, а также dropout\n",
        "class Decoder(nn.Module):\n",
        "    def __init__(self, \n",
        "                 output_dim,\n",
        "                 enc_emb_dim,\n",
        "                 hid_dim, \n",
        "                 n_layers, \n",
        "                 n_heads, \n",
        "                 pf_dim, \n",
        "                 dropout, \n",
        "                 device,\n",
        "                 max_length=100):\n",
        "        super().__init__()\n",
        "        \n",
        "        self.device = device\n",
        "        \n",
        "        self.tok_embedding = nn.Embedding(output_dim, hid_dim)\n",
        "        self.pos_embedding = nn.Embedding(max_length, hid_dim)\n",
        "        \n",
        "        self.layers = nn.ModuleList([DecoderLayer(hid_dim, \n",
        "                                                  n_heads, \n",
        "                                                  pf_dim, \n",
        "                                                  dropout, \n",
        "                                                  device)\n",
        "                                     for _ in range(n_layers)])\n",
        "        \n",
        "        self.fc_out = nn.Linear(hid_dim, output_dim)\n",
        "        self.dropout = nn.Dropout(dropout)\n",
        "        self.scale = torch.sqrt(torch.FloatTensor([hid_dim])).to(device)\n",
        "        \n",
        "        self.emb2hid_conv = nn.Linear(enc_emb_dim, hid_dim)\n",
        "        self.emb2hid_comb = nn.Linear(enc_emb_dim, hid_dim)\n",
        "\n",
        "\n",
        "    def forward(self, trg, src_conved, src_combined, trg_mask, src_mask):\n",
        "        \n",
        "        # trg = [batch size, trg len]\n",
        "        # src_conved = src_combined = [batch size, src len, enc emb dim]\n",
        "        # trg_mask = [batch size, 1, trg len, trg len]\n",
        "        # src_mask = [batch size, 1, 1, src len]\n",
        "\n",
        "        # src_conved = src_combined = [batch size, src len, hid dim]\n",
        "        src_conved = self.emb2hid_conv(src_conved)\n",
        "        src_combined = self.emb2hid_comb(src_combined)\n",
        "\n",
        "        batch_size = trg.shape[0]\n",
        "        trg_len = trg.shape[1]\n",
        "        \n",
        "        pos = torch.arange(0, trg_len).unsqueeze(0).repeat(batch_size, 1).to(self.device)\n",
        "                            \n",
        "        # pos = [batch size, trg len]\n",
        "            \n",
        "        trg = self.dropout((self.tok_embedding(trg) * self.scale) + self.pos_embedding(pos))\n",
        "                \n",
        "        # trg = [batch size, trg len, hid dim]\n",
        "        # use src_combined for the 1st and the last layers since this source embedding\n",
        "        # has more local information,\n",
        "        # for other layers apply attention over src_conved to concentrate on the\n",
        "        # whole sentence and gain more integral information\n",
        "        for idx, layer in enumerate(self.layers):\n",
        "            if idx == 0 or idx == (len(self.layers) - 1):\n",
        "                trg = layer(trg, src_combined, trg_mask, src_mask)\n",
        "            else:\n",
        "                trg = layer(trg, src_conved, trg_mask, src_mask)\n",
        "        \n",
        "        # trg = [batch size, trg len, hid dim]\n",
        "        \n",
        "        output = self.fc_out(trg)\n",
        "        \n",
        "        # output = [batch size, trg len, output dim]\n",
        "        \n",
        "        return output\n",
        "\n",
        "\n",
        "\n",
        "# класс слоя декодера, внутри которого применяются LayerNorm, self-attention над\n",
        "# входом декодера и еще один self-attention над выходом энкодера, затем\n",
        "# FeedForward слой и dropout\n",
        "class DecoderLayer(nn.Module):\n",
        "    def __init__(self, \n",
        "                 hid_dim, \n",
        "                 n_heads, \n",
        "                 pf_dim, \n",
        "                 dropout, \n",
        "                 device):\n",
        "        super().__init__()\n",
        "        \n",
        "        self.self_attn_layer_norm = nn.LayerNorm(hid_dim)\n",
        "        self.enc_attn_layer_norm = nn.LayerNorm(hid_dim)\n",
        "        self.ff_layer_norm = nn.LayerNorm(hid_dim)\n",
        "        self.self_attention = MultiHeadAttentionLayer(hid_dim, n_heads, dropout, device)\n",
        "        self.encoder_attention = MultiHeadAttentionLayer(hid_dim, n_heads, dropout, device)\n",
        "        self.positionwise_feedforward = PositionwiseFeedforwardLayer(hid_dim, \n",
        "                                                                     pf_dim, \n",
        "                                                                     dropout)\n",
        "        self.dropout = nn.Dropout(dropout)\n",
        "        \n",
        "\n",
        "    def forward(self, trg, enc_src, trg_mask, src_mask):\n",
        "        \n",
        "        # trg = [batch size, trg len, hid dim]\n",
        "        # enc_src = [batch size, src len, hid dim]\n",
        "        # trg_mask = [batch size, 1, trg len, trg len]\n",
        "        # src_mask = [batch size, 1, 1, src len]\n",
        "        \n",
        "        # self attention\n",
        "        # _trg, _ = self.self_attention(trg, trg, trg, trg_mask)\n",
        "        _trg = self.self_attention(trg, trg, trg, trg_mask)\n",
        "        \n",
        "        # dropout, residual connection and layer norm\n",
        "        trg = self.self_attn_layer_norm(trg + self.dropout(_trg))\n",
        "            \n",
        "        # trg = [batch size, trg len, hid dim]\n",
        "            \n",
        "        # encoder attention\n",
        "        # _trg, attention = self.encoder_attention(trg, enc_src, enc_src, src_mask)\n",
        "        _trg = self.encoder_attention(trg, enc_src, enc_src, src_mask)\n",
        "        \n",
        "        # dropout, residual connection and layer norm\n",
        "        trg = self.enc_attn_layer_norm(trg + self.dropout(_trg))\n",
        "                    \n",
        "        # trg = [batch size, trg len, hid dim]\n",
        "        \n",
        "        # positionwise feedforward\n",
        "        _trg = self.positionwise_feedforward(trg)\n",
        "        \n",
        "        # dropout, residual and layer norm\n",
        "        trg = self.ff_layer_norm(trg + self.dropout(_trg))\n",
        "        \n",
        "        # trg = [batch size, trg len, hid dim]\n",
        "        # attention = [batch size, n heads, trg len, src len]\n",
        "        \n",
        "        # return trg, attention\n",
        "        return trg\n",
        "\n",
        "\n",
        "\n",
        "# MultiHead self-attention слой\n",
        "class MultiHeadAttentionLayer(nn.Module):\n",
        "    def __init__(self, hid_dim, n_heads, dropout, device):\n",
        "        super().__init__()\n",
        "        \n",
        "        assert hid_dim % n_heads == 0\n",
        "        \n",
        "        self.hid_dim = hid_dim\n",
        "        self.n_heads = n_heads\n",
        "        self.head_dim = hid_dim // n_heads\n",
        "        \n",
        "        self.fc_q = nn.Linear(hid_dim, hid_dim)\n",
        "        self.fc_k = nn.Linear(hid_dim, hid_dim)\n",
        "        self.fc_v = nn.Linear(hid_dim, hid_dim)\n",
        "        \n",
        "        self.fc_o = nn.Linear(hid_dim, hid_dim)\n",
        "        self.dropout = nn.Dropout(dropout)\n",
        "        self.scale = torch.sqrt(torch.FloatTensor([self.head_dim])).to(device)\n",
        "        \n",
        "\n",
        "    def forward(self, query, key, value, mask=None):\n",
        "        \n",
        "        batch_size = query.shape[0]\n",
        "        \n",
        "        # query = [batch size, query len, hid dim]\n",
        "        # key = [batch size, key len, hid dim]\n",
        "        # value = [batch size, value len, hid dim]\n",
        "                \n",
        "        Q = self.fc_q(query)\n",
        "        K = self.fc_k(key)\n",
        "        V = self.fc_v(value)\n",
        "        \n",
        "        # Q = [batch size, query len, hid dim]\n",
        "        # K = [batch size, key len, hid dim]\n",
        "        # V = [batch size, value len, hid dim]\n",
        "                \n",
        "        Q = Q.view(batch_size, -1, self.n_heads, self.head_dim).permute(0, 2, 1, 3)\n",
        "        K = K.view(batch_size, -1, self.n_heads, self.head_dim).permute(0, 2, 1, 3)\n",
        "        V = V.view(batch_size, -1, self.n_heads, self.head_dim).permute(0, 2, 1, 3)\n",
        "        \n",
        "        # Q = [batch size, n heads, query len, head dim]\n",
        "        # K = [batch size, n heads, key len, head dim]\n",
        "        # V = [batch size, n heads, value len, head dim]\n",
        "                \n",
        "        energy = torch.matmul(Q, K.permute(0, 1, 3, 2)) / self.scale\n",
        "        \n",
        "        # energy = [batch size, n heads, query len, key len]\n",
        "        \n",
        "        # where mask value is 0 put -1e10\n",
        "        if mask is not None:\n",
        "            energy = energy.masked_fill(mask==0, -1e10)\n",
        "        \n",
        "        attention = torch.softmax(energy, dim = -1)\n",
        "                \n",
        "        # attention = [batch size, n heads, query len, key len]\n",
        "                \n",
        "        x = torch.matmul(self.dropout(attention), V)\n",
        "        \n",
        "        # x = [batch size, n heads, query len, head dim]\n",
        "        \n",
        "        x = x.permute(0, 2, 1, 3).contiguous()\n",
        "        \n",
        "        # x = [batch size, query len, n heads, head dim]\n",
        "        \n",
        "        x = x.view(batch_size, -1, self.hid_dim)\n",
        "        \n",
        "        # x = [batch size, query len, hid dim]\n",
        "        \n",
        "        x = self.fc_o(x)\n",
        "        \n",
        "        # x = [batch size, query len, hid dim]\n",
        "        \n",
        "        # return x, attention\n",
        "        return x\n",
        "\n",
        "\n",
        "\n",
        "# полносвязный слой, применяющийся к выходам self-attention слоев\n",
        "class PositionwiseFeedforwardLayer(nn.Module):\n",
        "    def __init__(self, hid_dim, pf_dim, dropout):\n",
        "        super().__init__()\n",
        "        \n",
        "        self.fc_1 = nn.Linear(hid_dim, pf_dim)\n",
        "        self.fc_2 = nn.Linear(pf_dim, hid_dim)\n",
        "        \n",
        "        self.dropout = nn.Dropout(dropout)\n",
        "        \n",
        "\n",
        "    def forward(self, x):\n",
        "        \n",
        "        # x = [batch size, seq len, hid dim]\n",
        "        \n",
        "        x = self.dropout(torch.relu(self.fc_1(x)))\n",
        "        \n",
        "        # x = [batch size, seq len, pf dim]\n",
        "        \n",
        "        x = self.fc_2(x)\n",
        "        \n",
        "        # x = [batch size, seq len, hid dim]\n",
        "        \n",
        "        return x"
      ],
      "execution_count": null,
      "outputs": []
    },
    {
      "cell_type": "markdown",
      "metadata": {
        "id": "yqw2ZxlqUKqA"
      },
      "source": [
        "#### Seq2Seq\n",
        "\n",
        "Стандартная Seq2Seq модель, объединяющая энкодер и декодер. Для последнего создаются маски source и target последовательностей, чтобы он не обуславливался на паддинги и не заглядывал в будущее, делая предсказания только на основе предыдущих обработанных слов."
      ]
    },
    {
      "cell_type": "code",
      "metadata": {
        "id": "lWi8q1wwUN2R"
      },
      "source": [
        "class Seq2Seq(nn.Module):\n",
        "    def __init__(self, \n",
        "                 encoder, \n",
        "                 decoder, \n",
        "                 src_pad_idx, \n",
        "                 trg_pad_idx, \n",
        "                 device):\n",
        "        super().__init__()\n",
        "        \n",
        "        self.encoder = encoder\n",
        "        self.decoder = decoder\n",
        "        self.src_pad_idx = src_pad_idx\n",
        "        self.trg_pad_idx = trg_pad_idx\n",
        "        self.device = device\n",
        "        \n",
        "\n",
        "    def make_src_mask(self, src):\n",
        "        \n",
        "        # src = [batch size, src len]\n",
        "        \n",
        "        src_mask = (src != self.src_pad_idx).unsqueeze(1).unsqueeze(2)\n",
        "\n",
        "        # src_mask = [batch size, 1, 1, src len]\n",
        "\n",
        "        return src_mask\n",
        "    \n",
        "\n",
        "    def make_trg_mask(self, trg):\n",
        "        \n",
        "        # trg = [batch size, trg len]\n",
        "        \n",
        "        trg_pad_mask = (trg != self.trg_pad_idx).unsqueeze(1).unsqueeze(2)\n",
        "        \n",
        "        # trg_pad_mask = [batch size, 1, 1, trg len]\n",
        "        \n",
        "        trg_len = trg.shape[1]\n",
        "        \n",
        "        trg_sub_mask = torch.tril(torch.ones((trg_len, trg_len), device = self.device)).bool()\n",
        "        \n",
        "        # trg_sub_mask = [trg len, trg len]\n",
        "            \n",
        "        trg_mask = trg_pad_mask & trg_sub_mask\n",
        "        \n",
        "        # trg_mask = [batch size, 1, trg len, trg len]\n",
        "        \n",
        "        return trg_mask\n",
        "\n",
        "\n",
        "    def forward(self, src, trg):\n",
        "        \n",
        "        # src = [batch size, src len]\n",
        "        # trg = [batch size, trg len]\n",
        "                \n",
        "        src_mask = self.make_src_mask(src)\n",
        "        trg_mask = self.make_trg_mask(trg)\n",
        "        \n",
        "        # src_mask = [batch size, 1, 1, src len]\n",
        "        # trg_mask = [batch size, 1, trg len, trg len]\n",
        "        \n",
        "        src_conved, src_combined = self.encoder(src)\n",
        "        \n",
        "        # src_conved = src_combined = [batch size, src len, enc emb dim]\n",
        "                \n",
        "        output = self.decoder(trg, src_conved, src_combined, trg_mask, src_mask)\n",
        "        \n",
        "        # output = [batch size, trg len, output dim]\n",
        "        \n",
        "        return output"
      ],
      "execution_count": null,
      "outputs": []
    },
    {
      "cell_type": "markdown",
      "metadata": {
        "id": "JyXjLCVuYbTj"
      },
      "source": [
        "### Подготовка к обучению\n",
        "\n",
        "Объявляется модель и вспомогательные функции: train(), evaluate() и т.д. Инициализируются веса и осуществляется подбор гиперпараметров."
      ]
    },
    {
      "cell_type": "markdown",
      "metadata": {
        "id": "I49CzRkbYuAi"
      },
      "source": [
        "#### Объявление модели"
      ]
    },
    {
      "cell_type": "markdown",
      "metadata": {
        "id": "XAW4nAfWZAJ8"
      },
      "source": [
        "Энкодер и декодер.\n"
      ]
    },
    {
      "cell_type": "code",
      "metadata": {
        "id": "2We8ZKmaY3HY"
      },
      "source": [
        "INPUT_DIM = len(SRC.vocab)\n",
        "OUTPUT_DIM = len(TRG.vocab)\n",
        "ENC_EMB_DIM = 256\n",
        "HID_DIM = 512\n",
        "ENC_LAYERS = 4 # each layer consists of 2 Inception Blocks\n",
        "DEC_LAYERS = 4\n",
        "DEC_HEADS = 8\n",
        "DEC_PF_DIM = 768\n",
        "ENC_DROPOUT = 0.33\n",
        "DEC_DROPOUT = 0.1\n",
        "ENC_MAX_LENGTH = max_ru_len + 2\n",
        "DEC_MAX_LENGTH = max_en_len + 2\n",
        "\n",
        "enc = Encoder(INPUT_DIM,\n",
        "              ENC_EMB_DIM,\n",
        "              HID_DIM, \n",
        "              ENC_LAYERS,\n",
        "              ENC_DROPOUT, \n",
        "              device,\n",
        "              ENC_MAX_LENGTH)\n",
        "\n",
        "dec = Decoder(OUTPUT_DIM,\n",
        "              ENC_EMB_DIM,\n",
        "              HID_DIM, \n",
        "              DEC_LAYERS, \n",
        "              DEC_HEADS, \n",
        "              DEC_PF_DIM, \n",
        "              DEC_DROPOUT, \n",
        "              device,\n",
        "              DEC_MAX_LENGTH)"
      ],
      "execution_count": null,
      "outputs": []
    },
    {
      "cell_type": "markdown",
      "metadata": {
        "id": "iBaIT7SSZDSc"
      },
      "source": [
        "Seq2Seq модель."
      ]
    },
    {
      "cell_type": "code",
      "metadata": {
        "id": "J28k2k4FY-mJ"
      },
      "source": [
        "SRC_PAD_IDX = SRC.vocab.stoi[SRC.pad_token]\n",
        "TRG_PAD_IDX = TRG.vocab.stoi[TRG.pad_token]\n",
        "\n",
        "model = Seq2Seq(enc, dec, SRC_PAD_IDX, TRG_PAD_IDX, device).to(device)"
      ],
      "execution_count": null,
      "outputs": []
    },
    {
      "cell_type": "code",
      "metadata": {
        "colab": {
          "base_uri": "https://localhost:8080/"
        },
        "id": "oecZaxeEbvW0",
        "outputId": "904c040f-c6d2-4797-8e60-698d011cdf9f"
      },
      "source": [
        "def count_parameters(model):\n",
        "    return sum(p.numel() for p in model.parameters() if p.requires_grad)\n",
        "\n",
        "print(f'The model has {count_parameters(model):,} trainable parameters in total')\n",
        "print(f'The encoder has {count_parameters(model.encoder):,} trainable parameters')\n",
        "print(f'The decoder has {count_parameters(model.decoder):,} trainable parameters')"
      ],
      "execution_count": null,
      "outputs": [
        {
          "output_type": "stream",
          "name": "stdout",
          "text": [
            "The model has 59,725,688 trainable parameters in total\n",
            "The encoder has 37,486,080 trainable parameters\n",
            "The decoder has 22,239,608 trainable parameters\n"
          ]
        }
      ]
    },
    {
      "cell_type": "code",
      "metadata": {
        "colab": {
          "base_uri": "https://localhost:8080/"
        },
        "id": "8XhjCkqRbxBa",
        "outputId": "2f69afd6-aeb8-4e7b-f031-4e5d9352b9da"
      },
      "source": [
        "print(model)"
      ],
      "execution_count": null,
      "outputs": [
        {
          "output_type": "stream",
          "name": "stdout",
          "text": [
            "Seq2Seq(\n",
            "  (encoder): Encoder(\n",
            "    (tok_embedding): Embedding(14129, 256)\n",
            "    (pos_embedding): Embedding(82, 256)\n",
            "    (emb2hid): Linear(in_features=256, out_features=512, bias=True)\n",
            "    (hid2emb): Linear(in_features=512, out_features=256, bias=True)\n",
            "    (layers): ModuleList(\n",
            "      (0): EncoderLayer(\n",
            "        (block_1): InceptionBlock(\n",
            "          (conv_3): Conv1d(512, 1024, kernel_size=(3,), stride=(1,), padding=(1,))\n",
            "          (conv_5): Conv1d(512, 1024, kernel_size=(5,), stride=(1,), padding=(2,))\n",
            "          (bn): BatchNorm1d(512, eps=1e-05, momentum=0.1, affine=True, track_running_stats=True)\n",
            "          (dropout): Dropout(p=0.33, inplace=False)\n",
            "        )\n",
            "        (block_2): InceptionBlock(\n",
            "          (conv_3): Conv1d(512, 1024, kernel_size=(3,), stride=(1,), padding=(1,))\n",
            "          (conv_5): Conv1d(512, 1024, kernel_size=(5,), stride=(1,), padding=(2,))\n",
            "          (bn): BatchNorm1d(512, eps=1e-05, momentum=0.1, affine=True, track_running_stats=True)\n",
            "          (dropout): Dropout(p=0.33, inplace=False)\n",
            "        )\n",
            "        (bn): BatchNorm1d(512, eps=1e-05, momentum=0.1, affine=True, track_running_stats=True)\n",
            "        (lrelu): LeakyReLU(negative_slope=0.1)\n",
            "      )\n",
            "      (1): EncoderLayer(\n",
            "        (block_1): InceptionBlock(\n",
            "          (conv_3): Conv1d(512, 1024, kernel_size=(3,), stride=(1,), padding=(1,))\n",
            "          (conv_5): Conv1d(512, 1024, kernel_size=(5,), stride=(1,), padding=(2,))\n",
            "          (bn): BatchNorm1d(512, eps=1e-05, momentum=0.1, affine=True, track_running_stats=True)\n",
            "          (dropout): Dropout(p=0.33, inplace=False)\n",
            "        )\n",
            "        (block_2): InceptionBlock(\n",
            "          (conv_3): Conv1d(512, 1024, kernel_size=(3,), stride=(1,), padding=(1,))\n",
            "          (conv_5): Conv1d(512, 1024, kernel_size=(5,), stride=(1,), padding=(2,))\n",
            "          (bn): BatchNorm1d(512, eps=1e-05, momentum=0.1, affine=True, track_running_stats=True)\n",
            "          (dropout): Dropout(p=0.33, inplace=False)\n",
            "        )\n",
            "        (bn): BatchNorm1d(512, eps=1e-05, momentum=0.1, affine=True, track_running_stats=True)\n",
            "        (lrelu): LeakyReLU(negative_slope=0.1)\n",
            "      )\n",
            "      (2): EncoderLayer(\n",
            "        (block_1): InceptionBlock(\n",
            "          (conv_3): Conv1d(512, 1024, kernel_size=(3,), stride=(1,), padding=(1,))\n",
            "          (conv_5): Conv1d(512, 1024, kernel_size=(5,), stride=(1,), padding=(2,))\n",
            "          (bn): BatchNorm1d(512, eps=1e-05, momentum=0.1, affine=True, track_running_stats=True)\n",
            "          (dropout): Dropout(p=0.33, inplace=False)\n",
            "        )\n",
            "        (block_2): InceptionBlock(\n",
            "          (conv_3): Conv1d(512, 1024, kernel_size=(3,), stride=(1,), padding=(1,))\n",
            "          (conv_5): Conv1d(512, 1024, kernel_size=(5,), stride=(1,), padding=(2,))\n",
            "          (bn): BatchNorm1d(512, eps=1e-05, momentum=0.1, affine=True, track_running_stats=True)\n",
            "          (dropout): Dropout(p=0.33, inplace=False)\n",
            "        )\n",
            "        (bn): BatchNorm1d(512, eps=1e-05, momentum=0.1, affine=True, track_running_stats=True)\n",
            "        (lrelu): LeakyReLU(negative_slope=0.1)\n",
            "      )\n",
            "      (3): EncoderLayer(\n",
            "        (block_1): InceptionBlock(\n",
            "          (conv_3): Conv1d(512, 1024, kernel_size=(3,), stride=(1,), padding=(1,))\n",
            "          (conv_5): Conv1d(512, 1024, kernel_size=(5,), stride=(1,), padding=(2,))\n",
            "          (bn): BatchNorm1d(512, eps=1e-05, momentum=0.1, affine=True, track_running_stats=True)\n",
            "          (dropout): Dropout(p=0.33, inplace=False)\n",
            "        )\n",
            "        (block_2): InceptionBlock(\n",
            "          (conv_3): Conv1d(512, 1024, kernel_size=(3,), stride=(1,), padding=(1,))\n",
            "          (conv_5): Conv1d(512, 1024, kernel_size=(5,), stride=(1,), padding=(2,))\n",
            "          (bn): BatchNorm1d(512, eps=1e-05, momentum=0.1, affine=True, track_running_stats=True)\n",
            "          (dropout): Dropout(p=0.33, inplace=False)\n",
            "        )\n",
            "        (bn): BatchNorm1d(512, eps=1e-05, momentum=0.1, affine=True, track_running_stats=True)\n",
            "        (lrelu): LeakyReLU(negative_slope=0.1)\n",
            "      )\n",
            "    )\n",
            "    (bn_conv_in): BatchNorm1d(512, eps=1e-05, momentum=0.1, affine=True, track_running_stats=True)\n",
            "    (dropout): Dropout(p=0.33, inplace=False)\n",
            "    (bn_conv_out): BatchNorm1d(256, eps=1e-05, momentum=0.1, affine=True, track_running_stats=True)\n",
            "    (bn_comb_out): BatchNorm1d(256, eps=1e-05, momentum=0.1, affine=True, track_running_stats=True)\n",
            "  )\n",
            "  (decoder): Decoder(\n",
            "    (tok_embedding): Embedding(10104, 512)\n",
            "    (pos_embedding): Embedding(101, 512)\n",
            "    (layers): ModuleList(\n",
            "      (0): DecoderLayer(\n",
            "        (self_attn_layer_norm): LayerNorm((512,), eps=1e-05, elementwise_affine=True)\n",
            "        (enc_attn_layer_norm): LayerNorm((512,), eps=1e-05, elementwise_affine=True)\n",
            "        (ff_layer_norm): LayerNorm((512,), eps=1e-05, elementwise_affine=True)\n",
            "        (self_attention): MultiHeadAttentionLayer(\n",
            "          (fc_q): Linear(in_features=512, out_features=512, bias=True)\n",
            "          (fc_k): Linear(in_features=512, out_features=512, bias=True)\n",
            "          (fc_v): Linear(in_features=512, out_features=512, bias=True)\n",
            "          (fc_o): Linear(in_features=512, out_features=512, bias=True)\n",
            "          (dropout): Dropout(p=0.1, inplace=False)\n",
            "        )\n",
            "        (encoder_attention): MultiHeadAttentionLayer(\n",
            "          (fc_q): Linear(in_features=512, out_features=512, bias=True)\n",
            "          (fc_k): Linear(in_features=512, out_features=512, bias=True)\n",
            "          (fc_v): Linear(in_features=512, out_features=512, bias=True)\n",
            "          (fc_o): Linear(in_features=512, out_features=512, bias=True)\n",
            "          (dropout): Dropout(p=0.1, inplace=False)\n",
            "        )\n",
            "        (positionwise_feedforward): PositionwiseFeedforwardLayer(\n",
            "          (fc_1): Linear(in_features=512, out_features=768, bias=True)\n",
            "          (fc_2): Linear(in_features=768, out_features=512, bias=True)\n",
            "          (dropout): Dropout(p=0.1, inplace=False)\n",
            "        )\n",
            "        (dropout): Dropout(p=0.1, inplace=False)\n",
            "      )\n",
            "      (1): DecoderLayer(\n",
            "        (self_attn_layer_norm): LayerNorm((512,), eps=1e-05, elementwise_affine=True)\n",
            "        (enc_attn_layer_norm): LayerNorm((512,), eps=1e-05, elementwise_affine=True)\n",
            "        (ff_layer_norm): LayerNorm((512,), eps=1e-05, elementwise_affine=True)\n",
            "        (self_attention): MultiHeadAttentionLayer(\n",
            "          (fc_q): Linear(in_features=512, out_features=512, bias=True)\n",
            "          (fc_k): Linear(in_features=512, out_features=512, bias=True)\n",
            "          (fc_v): Linear(in_features=512, out_features=512, bias=True)\n",
            "          (fc_o): Linear(in_features=512, out_features=512, bias=True)\n",
            "          (dropout): Dropout(p=0.1, inplace=False)\n",
            "        )\n",
            "        (encoder_attention): MultiHeadAttentionLayer(\n",
            "          (fc_q): Linear(in_features=512, out_features=512, bias=True)\n",
            "          (fc_k): Linear(in_features=512, out_features=512, bias=True)\n",
            "          (fc_v): Linear(in_features=512, out_features=512, bias=True)\n",
            "          (fc_o): Linear(in_features=512, out_features=512, bias=True)\n",
            "          (dropout): Dropout(p=0.1, inplace=False)\n",
            "        )\n",
            "        (positionwise_feedforward): PositionwiseFeedforwardLayer(\n",
            "          (fc_1): Linear(in_features=512, out_features=768, bias=True)\n",
            "          (fc_2): Linear(in_features=768, out_features=512, bias=True)\n",
            "          (dropout): Dropout(p=0.1, inplace=False)\n",
            "        )\n",
            "        (dropout): Dropout(p=0.1, inplace=False)\n",
            "      )\n",
            "      (2): DecoderLayer(\n",
            "        (self_attn_layer_norm): LayerNorm((512,), eps=1e-05, elementwise_affine=True)\n",
            "        (enc_attn_layer_norm): LayerNorm((512,), eps=1e-05, elementwise_affine=True)\n",
            "        (ff_layer_norm): LayerNorm((512,), eps=1e-05, elementwise_affine=True)\n",
            "        (self_attention): MultiHeadAttentionLayer(\n",
            "          (fc_q): Linear(in_features=512, out_features=512, bias=True)\n",
            "          (fc_k): Linear(in_features=512, out_features=512, bias=True)\n",
            "          (fc_v): Linear(in_features=512, out_features=512, bias=True)\n",
            "          (fc_o): Linear(in_features=512, out_features=512, bias=True)\n",
            "          (dropout): Dropout(p=0.1, inplace=False)\n",
            "        )\n",
            "        (encoder_attention): MultiHeadAttentionLayer(\n",
            "          (fc_q): Linear(in_features=512, out_features=512, bias=True)\n",
            "          (fc_k): Linear(in_features=512, out_features=512, bias=True)\n",
            "          (fc_v): Linear(in_features=512, out_features=512, bias=True)\n",
            "          (fc_o): Linear(in_features=512, out_features=512, bias=True)\n",
            "          (dropout): Dropout(p=0.1, inplace=False)\n",
            "        )\n",
            "        (positionwise_feedforward): PositionwiseFeedforwardLayer(\n",
            "          (fc_1): Linear(in_features=512, out_features=768, bias=True)\n",
            "          (fc_2): Linear(in_features=768, out_features=512, bias=True)\n",
            "          (dropout): Dropout(p=0.1, inplace=False)\n",
            "        )\n",
            "        (dropout): Dropout(p=0.1, inplace=False)\n",
            "      )\n",
            "      (3): DecoderLayer(\n",
            "        (self_attn_layer_norm): LayerNorm((512,), eps=1e-05, elementwise_affine=True)\n",
            "        (enc_attn_layer_norm): LayerNorm((512,), eps=1e-05, elementwise_affine=True)\n",
            "        (ff_layer_norm): LayerNorm((512,), eps=1e-05, elementwise_affine=True)\n",
            "        (self_attention): MultiHeadAttentionLayer(\n",
            "          (fc_q): Linear(in_features=512, out_features=512, bias=True)\n",
            "          (fc_k): Linear(in_features=512, out_features=512, bias=True)\n",
            "          (fc_v): Linear(in_features=512, out_features=512, bias=True)\n",
            "          (fc_o): Linear(in_features=512, out_features=512, bias=True)\n",
            "          (dropout): Dropout(p=0.1, inplace=False)\n",
            "        )\n",
            "        (encoder_attention): MultiHeadAttentionLayer(\n",
            "          (fc_q): Linear(in_features=512, out_features=512, bias=True)\n",
            "          (fc_k): Linear(in_features=512, out_features=512, bias=True)\n",
            "          (fc_v): Linear(in_features=512, out_features=512, bias=True)\n",
            "          (fc_o): Linear(in_features=512, out_features=512, bias=True)\n",
            "          (dropout): Dropout(p=0.1, inplace=False)\n",
            "        )\n",
            "        (positionwise_feedforward): PositionwiseFeedforwardLayer(\n",
            "          (fc_1): Linear(in_features=512, out_features=768, bias=True)\n",
            "          (fc_2): Linear(in_features=768, out_features=512, bias=True)\n",
            "          (dropout): Dropout(p=0.1, inplace=False)\n",
            "        )\n",
            "        (dropout): Dropout(p=0.1, inplace=False)\n",
            "      )\n",
            "    )\n",
            "    (fc_out): Linear(in_features=512, out_features=10104, bias=True)\n",
            "    (dropout): Dropout(p=0.1, inplace=False)\n",
            "    (emb2hid_conv): Linear(in_features=256, out_features=512, bias=True)\n",
            "    (emb2hid_comb): Linear(in_features=256, out_features=512, bias=True)\n",
            "  )\n",
            ")\n"
          ]
        }
      ]
    },
    {
      "cell_type": "markdown",
      "metadata": {
        "id": "rZM0OyeHdOD3"
      },
      "source": [
        "#### Инициализация весов\n",
        "\n",
        "В Inception-блоке энкодера применяется [GLU](https://pytorch.org/docs/stable/generated/torch.nn.functional.glu.html), в котором исходный тензор разбивается на два, одна из частей проходит через сигмоиду, после чего половины поэлементно перемножаются. В [работе](https://arxiv.org/abs/1612.08083), где был предложен GLU, авторы говорят, что при инициализации пользуются kaiming. Для сверток используется xavier инициализация, с множителем для сигмоиды, а для линейных слоев kaiming для LeakyReLU. Bias'ы инициализируются нулями."
      ]
    },
    {
      "cell_type": "code",
      "metadata": {
        "colab": {
          "base_uri": "https://localhost:8080/"
        },
        "id": "4GxYV2kHdNI-",
        "outputId": "0ee5ba7e-0024-4b24-ee63-2fdfc3ec4308"
      },
      "source": [
        "def initialize_encoder(m_enc):\n",
        "    if isinstance(m_enc, nn.Conv2d):\n",
        "        nn.init.xavier_normal_(m_enc.weight.data, gain=nn.init.calculate_gain('sigmoid'))\n",
        "        nn.init.constant_(m_enc.bias.data, 0)\n",
        "    elif isinstance(m_enc, nn.Linear):\n",
        "        nn.init.kaiming_normal_(m_enc.weight.data, a=0.1, nonlinearity='leaky_relu')\n",
        "        nn.init.constant_(m_enc.bias.data, 0)\n",
        "    elif hasattr(m_enc, 'weight') and m_enc.weight.dim() > 1:\n",
        "        nn.init.xavier_uniform_(m_enc.weight.data)\n",
        "        if hasattr(m_enc, 'bias'):\n",
        "            nn.init.constant_(m_enc.bias.data, 0)\n",
        "\n",
        "model.encoder.apply(initialize_encoder)\n",
        "print(\"Encoder initialized!\")"
      ],
      "execution_count": null,
      "outputs": [
        {
          "output_type": "stream",
          "name": "stdout",
          "text": [
            "Encoder initialized!\n"
          ]
        }
      ]
    },
    {
      "cell_type": "markdown",
      "metadata": {
        "id": "oV4wkUAFkloN"
      },
      "source": [
        "Декодер инициализируется так, как это делалось для оригинального трансформера."
      ]
    },
    {
      "cell_type": "code",
      "metadata": {
        "colab": {
          "base_uri": "https://localhost:8080/"
        },
        "id": "qOsEaDdF-fhg",
        "outputId": "a13a40ea-e542-4db4-b36b-1ea50e7f8138"
      },
      "source": [
        "def initialize_decoder(m_dec):\n",
        "    if hasattr(m_dec, 'weight') and m_dec.weight.dim() > 1:\n",
        "        nn.init.xavier_uniform_(m_dec.weight.data)\n",
        "        if hasattr(m_dec, 'bias'):\n",
        "            nn.init.constant_(m_dec.bias.data, 0)\n",
        "\n",
        "model.decoder.apply(initialize_decoder)\n",
        "print(\"Decoder initialized!\")"
      ],
      "execution_count": null,
      "outputs": [
        {
          "output_type": "stream",
          "name": "stdout",
          "text": [
            "Decoder initialized!\n"
          ]
        }
      ]
    },
    {
      "cell_type": "markdown",
      "metadata": {
        "id": "6RFORt9DBNfc"
      },
      "source": [
        "#### Поиск оптимального начального learning_rate и стратегия его изменения во время обучения"
      ]
    },
    {
      "cell_type": "markdown",
      "metadata": {
        "id": "7izVbJsSlsGq"
      },
      "source": [
        "Код ниже является модифицированной под использованную здесь модель версией кода [отсюда](https://github.com/bentrevett/pytorch-image-classification/blob/master/3_alexnet.ipynb), которая, в свою очередь, является модифицированной версией [\n",
        "pytorch-lr-finder](https://github.com/davidtvs/pytorch-lr-finder).\n",
        "\n",
        "Здесь поиск начинается с заведомо маленького значения learning_rate, изменяясь экспоненциально, пока лосс не станет слишком быстро расти или пока не будет достигнуто заведомо слишком большое значение learning_rate. Для каждого lr вычисляется лосс на батче. Мы пытаемся найти такое значение, при котором лосс будет падать быстро."
      ]
    },
    {
      "cell_type": "code",
      "metadata": {
        "id": "e16IrKHaBT4z"
      },
      "source": [
        "class LRFinder(object):\n",
        "    def __init__(self, model, optimizer, criterion, device):\n",
        "        \n",
        "        self.optimizer = optimizer\n",
        "        self.model = model\n",
        "        self.criterion = criterion\n",
        "        self.device = device\n",
        "        \n",
        "        torch.save(model.state_dict(), 'init_params.pt')\n",
        "\n",
        "\n",
        "    def range_test(self, iterator, end_lr=10, num_iter=100, \n",
        "                   smooth_f=0.05, diverge_th=5):\n",
        "        \n",
        "        lrs = []\n",
        "        losses = []\n",
        "        best_loss = float('inf')\n",
        "\n",
        "        lr_scheduler = ExponentialLR(self.optimizer, end_lr, num_iter)\n",
        "        \n",
        "        iterator = IteratorWrapper(iterator)\n",
        "        \n",
        "        for iteration in range(num_iter):\n",
        "\n",
        "            loss = self._train_batch(iterator)\n",
        "\n",
        "            lrs.append(lr_scheduler.get_last_lr()[0])\n",
        "\n",
        "            # update lr\n",
        "            lr_scheduler.step()\n",
        "            \n",
        "            if iteration > 0:\n",
        "                loss = smooth_f * loss + (1 - smooth_f) * losses[-1]\n",
        "                \n",
        "            if loss < best_loss:\n",
        "                best_loss = loss\n",
        "\n",
        "            losses.append(loss)\n",
        "            \n",
        "            if loss > diverge_th * best_loss:\n",
        "                print(\"Stopping early, the loss has diverged\")\n",
        "                break\n",
        "                       \n",
        "        # reset model to initial parameters\n",
        "        model.load_state_dict(torch.load('init_params.pt'))\n",
        "                    \n",
        "        return lrs, losses\n",
        "\n",
        "\n",
        "    def _train_batch(self, iterator):\n",
        "        \n",
        "        self.model.train()\n",
        "        \n",
        "        self.optimizer.zero_grad()\n",
        "        \n",
        "        x = iterator.get_batch()\n",
        "        src_trg = x[0]\n",
        "        trg = src_trg[0]\n",
        "        src = src_trg[1]\n",
        "        \n",
        "        # src = [batch size, src len]\n",
        "        # trg = [batch size, trg len]\n",
        "        src = src.to(self.device)\n",
        "        trg = trg.to(self.device)\n",
        "        \n",
        "        # y_pred = [batch size, trg len - 1, output dim]\n",
        "        y_pred = self.model(src, trg[:, :-1])\n",
        "\n",
        "        output_dim = y_pred.shape[-1]\n",
        "        y_pred = y_pred.contiguous().view(-1, output_dim)\n",
        "        trg = trg[:, 1:].contiguous().view(-1)\n",
        "\n",
        "        loss = self.criterion(y_pred, trg)\n",
        "        \n",
        "        loss.backward()\n",
        "        \n",
        "        self.optimizer.step()\n",
        "        \n",
        "        return loss.item()\n",
        "\n",
        "\n",
        "\n",
        "class ExponentialLR(_LRScheduler):\n",
        "    def __init__(self, optimizer, end_lr, num_iter, last_epoch=-1):\n",
        "        self.end_lr = end_lr\n",
        "        self.num_iter = num_iter\n",
        "        super(ExponentialLR, self).__init__(optimizer, last_epoch)\n",
        "\n",
        "\n",
        "    def get_lr(self):\n",
        "        curr_iter = self.last_epoch\n",
        "        r = curr_iter / self.num_iter\n",
        "        return [base_lr * (self.end_lr / base_lr) ** r for base_lr in self.base_lrs]\n",
        "\n",
        "\n",
        "\n",
        "class IteratorWrapper(object):\n",
        "    def __init__(self, iterator):\n",
        "        self.iterator = iterator\n",
        "        self._iterator = iter(iterator)\n",
        "\n",
        "\n",
        "    def __next__(self):\n",
        "        try:\n",
        "            inputs, labels = next(self._iterator)\n",
        "        except StopIteration:\n",
        "            self._iterator = iter(self.iterator)\n",
        "            inputs, labels, *_ = next(self._iterator)\n",
        "\n",
        "        return inputs, labels\n",
        "\n",
        "\n",
        "    def get_batch(self):\n",
        "        return next(self)"
      ],
      "execution_count": null,
      "outputs": []
    },
    {
      "cell_type": "markdown",
      "metadata": {
        "id": "LXLBXjNtnnAv"
      },
      "source": [
        "Обучение будет происходить с использованием AdamW."
      ]
    },
    {
      "cell_type": "code",
      "metadata": {
        "id": "Z_cTvptnKT5u"
      },
      "source": [
        "START_LR = 1e-8\n",
        "\n",
        "optimizer = optim.AdamW(model.parameters(), lr=START_LR)\n",
        "\n",
        "criterion = nn.CrossEntropyLoss(ignore_index=TRG_PAD_IDX)\n",
        "criterion = criterion.to(device)"
      ],
      "execution_count": null,
      "outputs": []
    },
    {
      "cell_type": "code",
      "metadata": {
        "colab": {
          "base_uri": "https://localhost:8080/"
        },
        "id": "xALeYeIZK5Bc",
        "outputId": "d8c32dd3-d0fd-40b9-a47d-ade7750b3f5d"
      },
      "source": [
        "END_LR = 10\n",
        "NUM_ITER = 100\n",
        "\n",
        "lr_finder = LRFinder(model, optimizer, criterion, device)\n",
        "lrs, losses = lr_finder.range_test(train_iterator, END_LR, NUM_ITER)"
      ],
      "execution_count": null,
      "outputs": [
        {
          "output_type": "stream",
          "name": "stdout",
          "text": [
            "Stopping early, the loss has diverged\n"
          ]
        }
      ]
    },
    {
      "cell_type": "code",
      "metadata": {
        "id": "ipsaGpCRLGV3"
      },
      "source": [
        "def plot_lr_finder(lrs, losses, skip_start=5, skip_end=5):\n",
        "    \n",
        "    if skip_end == 0:\n",
        "        lrs = lrs[skip_start:]\n",
        "        losses = losses[skip_start:]\n",
        "    else:\n",
        "        lrs = lrs[skip_start:-skip_end]\n",
        "        losses = losses[skip_start:-skip_end]\n",
        "    \n",
        "    fig = plt.figure(figsize = (16,8))\n",
        "    ax = fig.add_subplot(1,1,1)\n",
        "    ax.plot(lrs, losses)\n",
        "    ax.set_xscale('log')\n",
        "    ax.set_xlabel('Learning rate')\n",
        "    ax.set_ylabel('Loss')\n",
        "    ax.grid(True, 'both', 'x')\n",
        "    plt.show()"
      ],
      "execution_count": null,
      "outputs": []
    },
    {
      "cell_type": "markdown",
      "metadata": {
        "id": "34gKccldnyQY"
      },
      "source": [
        "Наименьшее значение лосса достигается при значении lr порядка $10^{-2}$, однако здесь лосс уже начинает выходить на плато. [Здесь](https://sgugger.github.io/how-do-you-find-a-good-learning-rate.html) рекомендуется использовать лосс в 10 раз меньший, чем тот, при котором происходит выход на плато. Таким образом, оптимальный learning_rate близок к $10^{-3}$."
      ]
    },
    {
      "cell_type": "code",
      "metadata": {
        "colab": {
          "base_uri": "https://localhost:8080/",
          "height": 501
        },
        "id": "D_Bw10FJNFHP",
        "outputId": "8978fcca-65bf-4537-9b16-3605c56c8c7e"
      },
      "source": [
        "plot_lr_finder(lrs, losses)"
      ],
      "execution_count": null,
      "outputs": [
        {
          "output_type": "display_data",
          "data": {
            "image/png": "[encoded data removed]",
            "text/plain": [
              "<Figure size 1152x576 with 1 Axes>"
            ]
          },
          "metadata": {
            "needs_background": "light"
          }
        }
      ]
    },
    {
      "cell_type": "markdown",
      "metadata": {
        "id": "_buFxiGNooKF"
      },
      "source": [
        "К энкодеру и декодеру применяются несколько отличающиеся lr. Обе части модели обучаются с нуля, нас интересует проблема затухающего градиента. Чем дальше слои от выхода модели, тем она более ярко выражена, поэтому у энкодера выше lr.\n",
        "\n",
        "В discriminative fine-tuning все наоборот: у энкодера lr меньше, чем у декодера, но это не наш случай. Там это делается из-за того, что более глубокие слои модели уже умеют хорошо извлекать признаки и мы не хотим эти слои слишком сильно менять."
      ]
    },
    {
      "cell_type": "code",
      "metadata": {
        "id": "WyACMzU_RFiT"
      },
      "source": [
        "FOUND_LR = 1e-3\n",
        "\n",
        "optimizer = optim.AdamW([{\"params\": model.encoder.parameters(), \"lr\": 1.3*FOUND_LR},\n",
        "                         {\"params\": model.decoder.parameters(), \"lr\": 0.7*FOUND_LR}],\n",
        "                        lr=FOUND_LR)"
      ],
      "execution_count": null,
      "outputs": []
    },
    {
      "cell_type": "markdown",
      "metadata": {
        "id": "bQi9OWmCp8Yy"
      },
      "source": [
        "Фиксированный lr будет у оптимизатора только первые 5 эпох. Далее будет применяться CosineAnnealing-стратегия. Пример ниже демонстрирует, как именно будет изменяться learning_rate при итерировании по батчам."
      ]
    },
    {
      "cell_type": "code",
      "metadata": {
        "colab": {
          "base_uri": "https://localhost:8080/",
          "height": 497
        },
        "id": "1jpNKXxARnEi",
        "outputId": "e1bcb66b-eb7d-45b6-802b-462261900106"
      },
      "source": [
        "toy_model = torch.nn.Linear(2, 1)\n",
        "toy_optimizer = optim.SGD(toy_model.parameters(), lr=FOUND_LR)\n",
        "\n",
        "toy_lr_sched_CALR = optim.lr_scheduler.CosineAnnealingLR(toy_optimizer,\n",
        "                                                         T_max=150,\n",
        "                                                         eta_min=7e-6,\n",
        "                                                         last_epoch=-1)\n",
        "\n",
        "\n",
        "lrs = []\n",
        "for epoch in range(10):\n",
        "    for i in range(313):\n",
        "        toy_optimizer.step()\n",
        "        lrs.append(\n",
        "            toy_optimizer.param_groups[0][\"lr\"]\n",
        "        )\n",
        "        toy_lr_sched_CALR.step()\n",
        "    \n",
        "\n",
        "plt.figure(figsize=(16, 8))\n",
        "plt.plot(lrs)\n",
        "plt.ylabel(\"Learning rate\")\n",
        "plt.xlabel(\"Batch iteration\")\n",
        "plt.grid()\n",
        "plt.show()"
      ],
      "execution_count": null,
      "outputs": [
        {
          "output_type": "display_data",
          "data": {
            "image/png": "[encoded data removed]",
            "text/plain": [
              "<Figure size 1152x576 with 1 Axes>"
            ]
          },
          "metadata": {
            "needs_background": "light"
          }
        }
      ]
    },
    {
      "cell_type": "markdown",
      "metadata": {
        "id": "9y_pG-CpBUCZ"
      },
      "source": [
        "#### Функции обучения"
      ]
    },
    {
      "cell_type": "markdown",
      "metadata": {
        "id": "i26p4B-dc-kd"
      },
      "source": [
        "Стандартный цикл обучения, адаптированный под нашу модель. Дополнительно выходит графики лосса на трейне и валидации, причем в нескольких вариантах, чтобы была ясна как локальная, так и глобальная картина сходимости.\n",
        "\n",
        "В отличие от двух других подходов, где применялся [ReduceLROnPlateau](https://pytorch.org/docs/stable/generated/torch.optim.lr_scheduler.ReduceLROnPlateau.html#torch.optim.lr_scheduler.ReduceLROnPlateau) здесь используется [CosineAnnealinLR](https://pytorch.org/docs/stable/generated/torch.optim.lr_scheduler.CosineAnnealingLR.html#torch.optim.lr_scheduler.CosineAnnealingLR). Мы больше не следим за изменением лосса на валидации, а периодически меняем его вслепую, как показано на примере выше. Поэтому scheduler перенесен в train() и step() присходит после каждой итерации, а не эпохи."
      ]
    },
    {
      "cell_type": "code",
      "metadata": {
        "id": "GzPXEdfoc416"
      },
      "source": [
        "def train(model, iterator, optimizer, criterion, clip, scheduler=None,\n",
        "          train_history=None, valid_history=None, verbose_train_history=None):\n",
        "    \n",
        "    model.train()\n",
        "    \n",
        "    epoch_loss = 0\n",
        "    history = list()\n",
        "    for i, batch in enumerate(iterator):\n",
        "        \n",
        "        # src = [batch size, src len]\n",
        "        # trg = [batch size, trg len]\n",
        "        src = batch.src\n",
        "        trg = batch.trg\n",
        "        \n",
        "        optimizer.zero_grad()\n",
        "        \n",
        "        # output = [batch size, trg len - 1, output dim]\n",
        "        output = model(src, trg[:, :-1])\n",
        "            \n",
        "        output_dim = output.shape[-1]\n",
        "        \n",
        "        # output = [batch size * (trg len - 1), output dim]\n",
        "        # trg = [batch size * (trg len - 1)]\n",
        "        output = output.contiguous().view(-1, output_dim)\n",
        "        trg = trg[:, 1:].contiguous().view(-1)\n",
        "            \n",
        "        loss = criterion(output, trg)\n",
        "        \n",
        "        loss.backward()\n",
        "        \n",
        "        torch.nn.utils.clip_grad_norm_(model.parameters(), clip)\n",
        "        \n",
        "        optimizer.step()\n",
        "\n",
        "        epoch_loss += loss.item()\n",
        "        history.append(loss.cpu().data.numpy())\n",
        "\n",
        "        if scheduler is not None:\n",
        "            scheduler.step()\n",
        "\n",
        "        if (i+1)%10 == 0:\n",
        "            fig, ax = plt.subplots(nrows=1, ncols=3, figsize=(20, 8))\n",
        "\n",
        "            clear_output(True)\n",
        "            ax[0].plot(history, label=\"train\")\n",
        "            ax[0].set_xlabel('Batch')\n",
        "            ax[0].set_ylabel('Loss')\n",
        "            ax[0].set_title('Train loss on current epoch')\n",
        "            ax[0].grid(which='major', color='#DDDDDD', linewidth=0.8)\n",
        "            ax[0].legend()\n",
        "            if train_history is not None:\n",
        "                ax[1].plot(train_history, label='train')\n",
        "                ax[1].set_xlabel('Epoch')\n",
        "                ax[1].set_ylabel('Loss')\n",
        "                ax[1].set_title('General loss history')\n",
        "                ax[1].grid(which='major', color='#DDDDDD', linewidth=0.8)\n",
        "            if valid_history is not None:\n",
        "                ax[1].plot(valid_history, label='validation')\n",
        "                ax[1].legend()\n",
        "            if verbose_train_history is not None:\n",
        "                ax[2].plot(verbose_train_history, label=\"train\")\n",
        "                ax[2].set_xlabel('Batch iteration')\n",
        "                ax[2].set_ylabel('Loss')\n",
        "                ax[2].set_title('Verbose train history')\n",
        "                ax[2].grid(which='major', color='#DDDDDD', linewidth=0.8)\n",
        "                ax[2].legend()\n",
        "            \n",
        "            plt.show()\n",
        "        \n",
        "    return epoch_loss / len(iterator), history"
      ],
      "execution_count": null,
      "outputs": []
    },
    {
      "cell_type": "markdown",
      "metadata": {
        "id": "BorK-RulgJwH"
      },
      "source": [
        "Функция для validation и test стадий. Повторяет train, но без вычисления градиентов и шагов оптимизатора и планировщика."
      ]
    },
    {
      "cell_type": "code",
      "metadata": {
        "id": "6mpBlcuHgCgg"
      },
      "source": [
        "def evaluate(model, iterator, criterion):\n",
        "    \n",
        "    model.eval()\n",
        "    epoch_loss = 0\n",
        "    \n",
        "    with torch.no_grad():\n",
        "    \n",
        "        for i, batch in enumerate(iterator):\n",
        "            \n",
        "            # src = [batch size, src len]\n",
        "            # trg = [batch size, trg len]\n",
        "            src= batch.src\n",
        "            trg = batch.trg\n",
        "\n",
        "            # output = [batch size, trg len - 1, output dim]\n",
        "            output = model(src, trg[:, :-1])\n",
        "\n",
        "            # output = [batch size * (trg len - 1), output dim]\n",
        "            # trg = [batch size * (trg len - 1)]\n",
        "            output = output.contiguous().view(-1, output.shape[-1])\n",
        "            trg = trg[:, 1:].contiguous().view(-1)\n",
        "            \n",
        "            loss = criterion(output, trg)\n",
        "            \n",
        "            epoch_loss += loss.item()\n",
        "        \n",
        "    return epoch_loss / len(iterator)"
      ],
      "execution_count": null,
      "outputs": []
    },
    {
      "cell_type": "code",
      "metadata": {
        "id": "WDl8RjhShVke"
      },
      "source": [
        "def epoch_time(start_time, end_time):\n",
        "    elapsed_time = end_time - start_time\n",
        "    elapsed_mins = int(elapsed_time / 60)\n",
        "    elapsed_secs = int(elapsed_time - (elapsed_mins * 60))\n",
        "    return elapsed_mins, elapsed_secs"
      ],
      "execution_count": null,
      "outputs": []
    },
    {
      "cell_type": "markdown",
      "metadata": {
        "id": "Z4hDmVZwhjvs"
      },
      "source": [
        "### Обучение"
      ]
    },
    {
      "cell_type": "markdown",
      "metadata": {
        "id": "rce175zahsMJ"
      },
      "source": [
        "Подключим гугл-диск для сохранения истории обучения и весов модели."
      ]
    },
    {
      "cell_type": "code",
      "metadata": {
        "colab": {
          "base_uri": "https://localhost:8080/"
        },
        "id": "rCvpR4c7hluV",
        "outputId": "f1ce429b-faed-444d-d086-abeaad1664a6"
      },
      "source": [
        "from google.colab import drive\n",
        "drive.mount('/content/drive')"
      ],
      "execution_count": null,
      "outputs": [
        {
          "output_type": "stream",
          "name": "stdout",
          "text": [
            "Mounted at /content/drive\n"
          ]
        }
      ]
    },
    {
      "cell_type": "code",
      "metadata": {
        "id": "nhNH4zRviFCZ"
      },
      "source": [
        "lr_sched_CALR = optim.lr_scheduler.CosineAnnealingLR(\n",
        "    optimizer,\n",
        "    T_max=150,\n",
        "    eta_min=7e-6,\n",
        "    last_epoch=-1\n",
        ")"
      ],
      "execution_count": null,
      "outputs": []
    },
    {
      "cell_type": "code",
      "metadata": {
        "colab": {
          "base_uri": "https://localhost:8080/",
          "height": 566
        },
        "id": "54iNxIE8iNNs",
        "outputId": "2ebecb2b-a8e4-4d55-dd4f-870fc02689f3"
      },
      "source": [
        "train_history = []\n",
        "valid_history = []\n",
        "verbose_train_history = []\n",
        "\n",
        "N_EPOCHS = 25\n",
        "CLIP = 1\n",
        "model_save_path = '/content/drive/MyDrive/Colab Notebooks/girafe-ai assignments/EN-RU models/CNN-Transformer.pt'\n",
        "history_save_path = '/content/drive/MyDrive/Colab Notebooks/girafe-ai assignments/EN-RU models/CNN-Transformer_history.json'\n",
        "\n",
        "best_valid_loss = float('inf')\n",
        "\n",
        "for epoch in range(N_EPOCHS):\n",
        "\n",
        "    # check if lr_scheduler should be activated\n",
        "    if epoch < 5:\n",
        "        sched = None\n",
        "    else:\n",
        "        sched = lr_sched_CALR\n",
        "    \n",
        "    start_time = time.time()\n",
        "\n",
        "    train_loss, history = train(model, train_iterator, optimizer,\n",
        "                                criterion, CLIP, sched,\n",
        "                                train_history=train_history,\n",
        "                                valid_history=valid_history,\n",
        "                                verbose_train_history=verbose_train_history)\n",
        "    \n",
        "    valid_loss = evaluate(model, valid_iterator, criterion)\n",
        "    \n",
        "    end_time = time.time()\n",
        "    \n",
        "    epoch_mins, epoch_secs = epoch_time(start_time, end_time)\n",
        "    \n",
        "    if valid_loss <= best_valid_loss:\n",
        "        best_valid_loss = valid_loss\n",
        "        torch.save(model.state_dict(), model_save_path)\n",
        "\n",
        "    train_history.append(train_loss)\n",
        "    valid_history.append(valid_loss)\n",
        "    verbose_train_history.extend(history)\n",
        "    print(f'Epoch: {epoch+1:02} | Time: {epoch_mins}m {epoch_secs}s')\n",
        "    print(f'\\tTrain Loss: {train_loss:.3f} | Train PPL: {math.exp(train_loss):7.3f}')\n",
        "    print(f'\\t Val. Loss: {valid_loss:.3f} |  Val. PPL: {math.exp(valid_loss):7.3f}')\n",
        "\n",
        "\n",
        "verbose_train_history = [x.item() for x in verbose_train_history]\n",
        "whole_history = {\n",
        "    \"train_history\": train_history,\n",
        "    \"valid_history\": valid_history,\n",
        "    \"verbose_train_history\": verbose_train_history\n",
        "}\n",
        "\n",
        "with open(history_save_path, \"w\") as history_file:\n",
        "    json.dump(whole_history, history_file)"
      ],
      "execution_count": null,
      "outputs": [
        {
          "output_type": "display_data",
          "data": {
            "image/png": "[encoded data removed]",
            "text/plain": [
              "<Figure size 1440x576 with 3 Axes>"
            ]
          },
          "metadata": {
            "needs_background": "light"
          }
        },
        {
          "output_type": "stream",
          "name": "stdout",
          "text": [
            "Epoch: 25 | Time: 9m 12s\n",
            "\tTrain Loss: 1.660 | Train PPL:   5.261\n",
            "\t Val. Loss: 2.065 |  Val. PPL:   7.886\n"
          ]
        }
      ]
    },
    {
      "cell_type": "markdown",
      "metadata": {
        "id": "jVV2axQur3m7"
      },
      "source": [
        "Обучение имело бы смысл продолжить и дальше, но остальные модели обучались около 20 эпох, поэтому для чистоты эксперимента остановимся здесь.\n",
        "\n",
        "Загружаем лучшую на валидации модель и проверяем качество на тесте."
      ]
    },
    {
      "cell_type": "code",
      "metadata": {
        "colab": {
          "base_uri": "https://localhost:8080/"
        },
        "id": "4ZBY2LLzRQRQ",
        "outputId": "64d08fe9-41e9-414e-f77a-70c43aa97d34"
      },
      "source": [
        "model_save_path = '/content/drive/MyDrive/Colab Notebooks/girafe-ai assignments/EN-RU models/CNN-Transformer.pt'\n",
        "model.load_state_dict(torch.load(model_save_path))\n",
        "\n",
        "start_time = time.time()\n",
        "test_loss = evaluate(model, test_iterator, criterion)\n",
        "end_time = time.time()\n",
        "\n",
        "eval_mins, eval_secs = epoch_time(start_time, end_time)\n",
        "print(f'Test evaluation time: {eval_mins}m {eval_secs}s')\n",
        "\n",
        "print(f'| Test Loss: {test_loss:.3f} | Test PPL: {math.exp(test_loss):7.3f} |')"
      ],
      "execution_count": null,
      "outputs": [
        {
          "output_type": "stream",
          "name": "stdout",
          "text": [
            "Test evaluation time: 0m 12s\n",
            "| Test Loss: 2.069 | Test PPL:   7.918 |\n"
          ]
        }
      ]
    },
    {
      "cell_type": "markdown",
      "metadata": {
        "id": "JV-fKjzMjltG"
      },
      "source": [
        "### Результаты"
      ]
    },
    {
      "cell_type": "markdown",
      "metadata": {
        "id": "npakTYQjjoMb"
      },
      "source": [
        "#### Примеры перевода\n",
        "\n",
        "Для вывода читаемых переводов используется код из baseline-решения с некоторыми доработками."
      ]
    },
    {
      "cell_type": "code",
      "metadata": {
        "id": "r-alkmtcms-1"
      },
      "source": [
        "# знаки пунктуации, пищущиеся со словами слитно\n",
        "punct_signs = ['.', '.\\n', ',', ',\\n', '?', '?\\n', '!', '!\\n', '»', '»\\n',\n",
        "               ';', ';\\n', '«']\n",
        "\n",
        "\n",
        "def unsplit_punct(sentence):\n",
        "    changed_sent = list()\n",
        "    for word in sentence.split(\" \"):\n",
        "        if word in punct_signs[:-1] and len(changed_sent) > 0:\n",
        "            changed_sent[-1] += word\n",
        "        elif len(changed_sent) > 0 and changed_sent[-1] == punct_signs[-1]:\n",
        "            changed_sent[-1] += word\n",
        "        else:\n",
        "            changed_sent.append(word)\n",
        "        \n",
        "    return \" \".join(changed_sent)\n",
        "\n",
        "\n",
        "def flatten(l):\n",
        "    return [item for sublist in l for item in sublist]\n",
        "\n",
        "\n",
        "def remove_tech_tokens(mystr, tokens_to_remove=['<eos>', '<sos>', '<unk>', '<pad>']):\n",
        "    return [x for x in mystr if x not in tokens_to_remove]\n",
        "\n",
        "\n",
        "def get_text(x, curr_vocab):\n",
        "    text = [curr_vocab.itos[token] for token in x]\n",
        "    try:\n",
        "        end_idx = text.index('<eos>')\n",
        "        text = text[:end_idx]\n",
        "    except ValueError:\n",
        "        pass\n",
        "    text = remove_tech_tokens(text)\n",
        "    if len(text) < 1:\n",
        "        text = []\n",
        "    return text\n",
        "\n",
        "\n",
        "def generate_translation(src, trg, model, TRG_vocab, SRC_vocab):\n",
        "    model.eval()\n",
        "\n",
        "    # turn off teacher forcing\n",
        "    with torch.no_grad():\n",
        "        output = model(src, trg[:, :-1])\n",
        "\n",
        "    output = output.argmax(dim=-1).cpu().numpy()\n",
        "\n",
        "    source = get_text(list(src[0, :].cpu().numpy()), SRC_vocab)\n",
        "    original = get_text(list(trg[0, 1:].cpu().numpy()), TRG_vocab)\n",
        "    generated = get_text(list(output[0, :]), TRG_vocab)\n",
        "\n",
        "    source = unsplit_punct(' '.join(source))\n",
        "    original = unsplit_punct(' '.join(original))\n",
        "    generated = unsplit_punct(' '.join(generated))\n",
        "    \n",
        "    print('Source: {}'.format(source))\n",
        "    print('Original: {}'.format(original))\n",
        "    print('Generated: {}'.format(generated))\n",
        "    print()"
      ],
      "execution_count": null,
      "outputs": []
    },
    {
      "cell_type": "code",
      "metadata": {
        "colab": {
          "base_uri": "https://localhost:8080/"
        },
        "id": "jGhcpceSr5xJ",
        "outputId": "865c7900-2451-4d68-a483-12ecec9d05ad"
      },
      "source": [
        "batch = next(iter(train_iterator))\n",
        "print(\"Example from train data:\")\n",
        "for idx in [1, 2]:\n",
        "    src = batch.src[idx:idx+1, :]\n",
        "    trg = batch.trg[idx:idx+1, :]\n",
        "    generate_translation(src, trg, model, TRG.vocab, SRC.vocab)"
      ],
      "execution_count": null,
      "outputs": [
        {
          "output_type": "stream",
          "name": "stdout",
          "text": [
            "Example from train data:\n",
            "Source: в некоторых номерах мотеля europa установлен кондиционер, тогда как в других номерах есть собственный балкон. при этом все номера располагают бесплатным wi - fi, кабельным телевидением и мини - баром.\n",
            "Original: some rooms at motel europa feature air - conditioning and some have a private balcony, while they are all equipped with free wi - fi, cable tv and a minibar.\n",
            "Generated: some rooms at the at at air - conditioned and some rooms a private balcony, equipped cable with equipped rooms with free wi - fi. cable tv. minibar minibar.\n",
            "\n",
            "Source: отель benidorm находится в 5 минутах ходьбы от многочисленных тапас - баров, кафе и магазинов.\n",
            "Original: benidorm are within 5 minutes ’ walk of many tapas bars, cafés and shops.\n",
            "Generated: benidorm benidorm is a a minutes ’ walk from tapas tapas bars bars cafes and shops.\n",
            "\n"
          ]
        }
      ]
    },
    {
      "cell_type": "markdown",
      "metadata": {
        "id": "7YiDAmSWs_ae"
      },
      "source": [
        "Перевод на трейне не идеален, но уловить суть можно. Стоит обратить внимание на то, что модель любит повторять слова. "
      ]
    },
    {
      "cell_type": "code",
      "metadata": {
        "colab": {
          "base_uri": "https://localhost:8080/"
        },
        "id": "KxFlv_8hs0VP",
        "outputId": "3c870f74-cdce-4d35-c7b3-18377dbc6034"
      },
      "source": [
        "batch = next(iter(valid_iterator))\n",
        "print(\"Example from valid data:\")\n",
        "for idx in [1, 2]:\n",
        "    src = batch.src[idx:idx+1, :]\n",
        "    trg = batch.trg[idx:idx+1, :]\n",
        "    generate_translation(src, trg, model, TRG.vocab, SRC.vocab)"
      ],
      "execution_count": null,
      "outputs": [
        {
          "output_type": "stream",
          "name": "stdout",
          "text": [
            "Example from valid data:\n",
            "Source: в гостиной установлен жк - телевизор.\n",
            "Original: there is also a living room with an lcd tv.\n",
            "Generated: the is also an tv room with an lcd tv.\n",
            "\n",
            "Source: предоставляются факсимильные и копировальные услуги.\n",
            "Original: guests can of fax and photocopying service.\n",
            "Generated: fax and fax and fax and photocopying services are\n",
            "\n"
          ]
        }
      ]
    },
    {
      "cell_type": "code",
      "metadata": {
        "colab": {
          "base_uri": "https://localhost:8080/"
        },
        "id": "Ds19b1dts_Zp",
        "outputId": "4fb1a69c-b46f-4d56-9885-5c97a41d2b4d"
      },
      "source": [
        "batch = next(iter(test_iterator))\n",
        "print(\"Example from test data:\")\n",
        "for idx in [3, 4]:\n",
        "    src = batch.src[idx:idx+1, :]\n",
        "    trg = batch.trg[idx:idx+1, :]\n",
        "    generate_translation(src, trg, model, TRG.vocab, SRC.vocab)"
      ],
      "execution_count": null,
      "outputs": [
        {
          "output_type": "stream",
          "name": "stdout",
          "text": [
            "Example from test data:\n",
            "Source: имеется бесплатная частная парковка.\n",
            "Original: free private parking is available.\n",
            "Generated: free private parking is available on\n",
            "\n",
            "Source: поблизости работает несколько ресторанов.\n",
            "Original: there are several restaurants in the surrounding area.\n",
            "Generated: several are several restaurants nearby the vicinity vicinity.\n",
            "\n"
          ]
        }
      ]
    },
    {
      "cell_type": "markdown",
      "metadata": {
        "id": "yLDay0eItrop"
      },
      "source": [
        "Для теста и валидации можно сделать аналогичные трейну замечания. Еще можно отметить проблемы модели с постановкой точек, чего у других моделей замечено не было."
      ]
    },
    {
      "cell_type": "markdown",
      "metadata": {
        "id": "SalickUUjqjD"
      },
      "source": [
        "#### BLEU score\n",
        "\n",
        "Посчитаем результурующее качество модели."
      ]
    },
    {
      "cell_type": "code",
      "metadata": {
        "colab": {
          "base_uri": "https://localhost:8080/"
        },
        "id": "RaHL6bZttDyz",
        "outputId": "39801928-9c2e-4912-ab0b-672d1e63565d"
      },
      "source": [
        "import tqdm\n",
        "from nltk.translate.bleu_score import corpus_bleu\n",
        "\n",
        "\n",
        "original_text = []\n",
        "generated_text = []\n",
        "model.eval()\n",
        "with torch.no_grad():\n",
        "\n",
        "    for i, batch in tqdm.tqdm(enumerate(test_iterator)):\n",
        "        \n",
        "        # src = [batch size, src len]\n",
        "        # trg = [batch size, trg len]\n",
        "        src = batch.src\n",
        "        trg = batch.trg\n",
        "\n",
        "        # output = [batch size, trg len - 1, output dim]\n",
        "        output = model(src, trg[:, :-1])\n",
        "\n",
        "        output = output.argmax(dim=-1)\n",
        "        \n",
        "        curr_batch_size = trg.shape[0]\n",
        "        for idx in range(curr_batch_size):\n",
        "            original_text.append(get_text(trg[idx, 1:], TRG.vocab))\n",
        "            generated_text.append(get_text(output[idx, :], TRG.vocab))"
      ],
      "execution_count": null,
      "outputs": [
        {
          "output_type": "stream",
          "name": "stderr",
          "text": [
            "59it [00:19,  3.00it/s]\n"
          ]
        }
      ]
    },
    {
      "cell_type": "code",
      "metadata": {
        "colab": {
          "base_uri": "https://localhost:8080/"
        },
        "id": "DatHHNFsxHVC",
        "outputId": "be0b810c-5925-4995-b1d0-b27817627fcc"
      },
      "source": [
        "corpus_bleu_score = corpus_bleu([[text] for text in original_text], generated_text)\n",
        "\n",
        "print(f'BLEU score = {corpus_bleu_score*100:.2f}')"
      ],
      "execution_count": null,
      "outputs": [
        {
          "output_type": "stream",
          "name": "stdout",
          "text": [
            "BLEU score = 27.88\n"
          ]
        }
      ]
    },
    {
      "cell_type": "markdown",
      "metadata": {
        "id": "lDQ1jW_VuC67"
      },
      "source": [
        "Несколько лучше решения с LSTM, где было 27.46, но при этом лосс здесь значительно меньше, чем был там. Это говорит о том, что уменьшение кросс-энтропии не эквивалентно пропорциональному улучшению BLEU и качества перевода."
      ]
    }
  ]
}