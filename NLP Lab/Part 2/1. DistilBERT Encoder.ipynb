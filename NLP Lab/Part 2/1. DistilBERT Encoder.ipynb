{
  "nbformat": 4,
  "nbformat_minor": 0,
  "metadata": {
    "colab": {
      "name": "1. DistilBERT Encoder.ipynb",
      "provenance": []
    },
    "kernelspec": {
      "name": "python3",
      "display_name": "Python 3"
    },
    "language_info": {
      "name": "python"
    },
    "widgets": {
      "application/vnd.jupyter.widget-state+json": {
        "8c789d846c164a6f89a729f3f87842b8": {
          "model_module": "@jupyter-widgets/controls",
          "model_name": "HBoxModel",
          "model_module_version": "1.5.0",
          "state": {
            "_view_name": "HBoxView",
            "_dom_classes": [],
            "_model_name": "HBoxModel",
            "_view_module": "@jupyter-widgets/controls",
            "_model_module_version": "1.5.0",
            "_view_count": null,
            "_view_module_version": "1.5.0",
            "box_style": "",
            "layout": "IPY_MODEL_a272bd7d4dc64da8bf4c3ffce4759b59",
            "_model_module": "@jupyter-widgets/controls",
            "children": [
              "IPY_MODEL_1244ee816f224480b8f04a5ef022edcd",
              "IPY_MODEL_53611b22c08944ebbd3099a43f9a3561",
              "IPY_MODEL_41b582c828d14b96bbc0c3cebda4d95c"
            ]
          }
        },
        "a272bd7d4dc64da8bf4c3ffce4759b59": {
          "model_module": "@jupyter-widgets/base",
          "model_name": "LayoutModel",
          "model_module_version": "1.2.0",
          "state": {
            "_view_name": "LayoutView",
            "grid_template_rows": null,
            "right": null,
            "justify_content": null,
            "_view_module": "@jupyter-widgets/base",
            "overflow": null,
            "_model_module_version": "1.2.0",
            "_view_count": null,
            "flex_flow": null,
            "width": null,
            "min_width": null,
            "border": null,
            "align_items": null,
            "bottom": null,
            "_model_module": "@jupyter-widgets/base",
            "top": null,
            "grid_column": null,
            "overflow_y": null,
            "overflow_x": null,
            "grid_auto_flow": null,
            "grid_area": null,
            "grid_template_columns": null,
            "flex": null,
            "_model_name": "LayoutModel",
            "justify_items": null,
            "grid_row": null,
            "max_height": null,
            "align_content": null,
            "visibility": null,
            "align_self": null,
            "height": null,
            "min_height": null,
            "padding": null,
            "grid_auto_rows": null,
            "grid_gap": null,
            "max_width": null,
            "order": null,
            "_view_module_version": "1.2.0",
            "grid_template_areas": null,
            "object_position": null,
            "object_fit": null,
            "grid_auto_columns": null,
            "margin": null,
            "display": null,
            "left": null
          }
        },
        "1244ee816f224480b8f04a5ef022edcd": {
          "model_module": "@jupyter-widgets/controls",
          "model_name": "HTMLModel",
          "model_module_version": "1.5.0",
          "state": {
            "_view_name": "HTMLView",
            "style": "IPY_MODEL_d0974c7488ac45688514e1a1dbcedbb3",
            "_dom_classes": [],
            "description": "",
            "_model_name": "HTMLModel",
            "placeholder": "​",
            "_view_module": "@jupyter-widgets/controls",
            "_model_module_version": "1.5.0",
            "value": "Downloading: 100%",
            "_view_count": null,
            "_view_module_version": "1.5.0",
            "description_tooltip": null,
            "_model_module": "@jupyter-widgets/controls",
            "layout": "IPY_MODEL_a1905c5af9624c62b111c78b823e1d9b"
          }
        },
        "53611b22c08944ebbd3099a43f9a3561": {
          "model_module": "@jupyter-widgets/controls",
          "model_name": "FloatProgressModel",
          "model_module_version": "1.5.0",
          "state": {
            "_view_name": "ProgressView",
            "style": "IPY_MODEL_ca1937f869e146caaf3b70cdcc806cd2",
            "_dom_classes": [],
            "description": "",
            "_model_name": "FloatProgressModel",
            "bar_style": "success",
            "max": 132977,
            "_view_module": "@jupyter-widgets/controls",
            "_model_module_version": "1.5.0",
            "value": 132977,
            "_view_count": null,
            "_view_module_version": "1.5.0",
            "orientation": "horizontal",
            "min": 0,
            "description_tooltip": null,
            "_model_module": "@jupyter-widgets/controls",
            "layout": "IPY_MODEL_dda2e70ef3f541268dc4cfcc4bf1e3ad"
          }
        },
        "41b582c828d14b96bbc0c3cebda4d95c": {
          "model_module": "@jupyter-widgets/controls",
          "model_name": "HTMLModel",
          "model_module_version": "1.5.0",
          "state": {
            "_view_name": "HTMLView",
            "style": "IPY_MODEL_f964840416c34991be22d66f685c5f67",
            "_dom_classes": [],
            "description": "",
            "_model_name": "HTMLModel",
            "placeholder": "​",
            "_view_module": "@jupyter-widgets/controls",
            "_model_module_version": "1.5.0",
            "value": " 130k/130k [00:00&lt;00:00, 1.38MB/s]",
            "_view_count": null,
            "_view_module_version": "1.5.0",
            "description_tooltip": null,
            "_model_module": "@jupyter-widgets/controls",
            "layout": "IPY_MODEL_7b992c59105c45a3954f875bb0b329b1"
          }
        },
        "d0974c7488ac45688514e1a1dbcedbb3": {
          "model_module": "@jupyter-widgets/controls",
          "model_name": "DescriptionStyleModel",
          "model_module_version": "1.5.0",
          "state": {
            "_view_name": "StyleView",
            "_model_name": "DescriptionStyleModel",
            "description_width": "",
            "_view_module": "@jupyter-widgets/base",
            "_model_module_version": "1.5.0",
            "_view_count": null,
            "_view_module_version": "1.2.0",
            "_model_module": "@jupyter-widgets/controls"
          }
        },
        "a1905c5af9624c62b111c78b823e1d9b": {
          "model_module": "@jupyter-widgets/base",
          "model_name": "LayoutModel",
          "model_module_version": "1.2.0",
          "state": {
            "_view_name": "LayoutView",
            "grid_template_rows": null,
            "right": null,
            "justify_content": null,
            "_view_module": "@jupyter-widgets/base",
            "overflow": null,
            "_model_module_version": "1.2.0",
            "_view_count": null,
            "flex_flow": null,
            "width": null,
            "min_width": null,
            "border": null,
            "align_items": null,
            "bottom": null,
            "_model_module": "@jupyter-widgets/base",
            "top": null,
            "grid_column": null,
            "overflow_y": null,
            "overflow_x": null,
            "grid_auto_flow": null,
            "grid_area": null,
            "grid_template_columns": null,
            "flex": null,
            "_model_name": "LayoutModel",
            "justify_items": null,
            "grid_row": null,
            "max_height": null,
            "align_content": null,
            "visibility": null,
            "align_self": null,
            "height": null,
            "min_height": null,
            "padding": null,
            "grid_auto_rows": null,
            "grid_gap": null,
            "max_width": null,
            "order": null,
            "_view_module_version": "1.2.0",
            "grid_template_areas": null,
            "object_position": null,
            "object_fit": null,
            "grid_auto_columns": null,
            "margin": null,
            "display": null,
            "left": null
          }
        },
        "ca1937f869e146caaf3b70cdcc806cd2": {
          "model_module": "@jupyter-widgets/controls",
          "model_name": "ProgressStyleModel",
          "model_module_version": "1.5.0",
          "state": {
            "_view_name": "StyleView",
            "_model_name": "ProgressStyleModel",
            "description_width": "",
            "_view_module": "@jupyter-widgets/base",
            "_model_module_version": "1.5.0",
            "_view_count": null,
            "_view_module_version": "1.2.0",
            "bar_color": null,
            "_model_module": "@jupyter-widgets/controls"
          }
        },
        "dda2e70ef3f541268dc4cfcc4bf1e3ad": {
          "model_module": "@jupyter-widgets/base",
          "model_name": "LayoutModel",
          "model_module_version": "1.2.0",
          "state": {
            "_view_name": "LayoutView",
            "grid_template_rows": null,
            "right": null,
            "justify_content": null,
            "_view_module": "@jupyter-widgets/base",
            "overflow": null,
            "_model_module_version": "1.2.0",
            "_view_count": null,
            "flex_flow": null,
            "width": null,
            "min_width": null,
            "border": null,
            "align_items": null,
            "bottom": null,
            "_model_module": "@jupyter-widgets/base",
            "top": null,
            "grid_column": null,
            "overflow_y": null,
            "overflow_x": null,
            "grid_auto_flow": null,
            "grid_area": null,
            "grid_template_columns": null,
            "flex": null,
            "_model_name": "LayoutModel",
            "justify_items": null,
            "grid_row": null,
            "max_height": null,
            "align_content": null,
            "visibility": null,
            "align_self": null,
            "height": null,
            "min_height": null,
            "padding": null,
            "grid_auto_rows": null,
            "grid_gap": null,
            "max_width": null,
            "order": null,
            "_view_module_version": "1.2.0",
            "grid_template_areas": null,
            "object_position": null,
            "object_fit": null,
            "grid_auto_columns": null,
            "margin": null,
            "display": null,
            "left": null
          }
        },
        "f964840416c34991be22d66f685c5f67": {
          "model_module": "@jupyter-widgets/controls",
          "model_name": "DescriptionStyleModel",
          "model_module_version": "1.5.0",
          "state": {
            "_view_name": "StyleView",
            "_model_name": "DescriptionStyleModel",
            "description_width": "",
            "_view_module": "@jupyter-widgets/base",
            "_model_module_version": "1.5.0",
            "_view_count": null,
            "_view_module_version": "1.2.0",
            "_model_module": "@jupyter-widgets/controls"
          }
        },
        "7b992c59105c45a3954f875bb0b329b1": {
          "model_module": "@jupyter-widgets/base",
          "model_name": "LayoutModel",
          "model_module_version": "1.2.0",
          "state": {
            "_view_name": "LayoutView",
            "grid_template_rows": null,
            "right": null,
            "justify_content": null,
            "_view_module": "@jupyter-widgets/base",
            "overflow": null,
            "_model_module_version": "1.2.0",
            "_view_count": null,
            "flex_flow": null,
            "width": null,
            "min_width": null,
            "border": null,
            "align_items": null,
            "bottom": null,
            "_model_module": "@jupyter-widgets/base",
            "top": null,
            "grid_column": null,
            "overflow_y": null,
            "overflow_x": null,
            "grid_auto_flow": null,
            "grid_area": null,
            "grid_template_columns": null,
            "flex": null,
            "_model_name": "LayoutModel",
            "justify_items": null,
            "grid_row": null,
            "max_height": null,
            "align_content": null,
            "visibility": null,
            "align_self": null,
            "height": null,
            "min_height": null,
            "padding": null,
            "grid_auto_rows": null,
            "grid_gap": null,
            "max_width": null,
            "order": null,
            "_view_module_version": "1.2.0",
            "grid_template_areas": null,
            "object_position": null,
            "object_fit": null,
            "grid_auto_columns": null,
            "margin": null,
            "display": null,
            "left": null
          }
        },
        "1f2029775bcb41e485ec9c7a45986140": {
          "model_module": "@jupyter-widgets/controls",
          "model_name": "HBoxModel",
          "model_module_version": "1.5.0",
          "state": {
            "_view_name": "HBoxView",
            "_dom_classes": [],
            "_model_name": "HBoxModel",
            "_view_module": "@jupyter-widgets/controls",
            "_model_module_version": "1.5.0",
            "_view_count": null,
            "_view_module_version": "1.5.0",
            "box_style": "",
            "layout": "IPY_MODEL_6dbec4bf01234213b00a1362f627c9a9",
            "_model_module": "@jupyter-widgets/controls",
            "children": [
              "IPY_MODEL_d3c2ee7b7a6e4880a4da20497de157c3",
              "IPY_MODEL_25018f146b1b431087c2bca1a3d28d6f",
              "IPY_MODEL_284c25ac34c842129d41b5d3a6351ac8"
            ]
          }
        },
        "6dbec4bf01234213b00a1362f627c9a9": {
          "model_module": "@jupyter-widgets/base",
          "model_name": "LayoutModel",
          "model_module_version": "1.2.0",
          "state": {
            "_view_name": "LayoutView",
            "grid_template_rows": null,
            "right": null,
            "justify_content": null,
            "_view_module": "@jupyter-widgets/base",
            "overflow": null,
            "_model_module_version": "1.2.0",
            "_view_count": null,
            "flex_flow": null,
            "width": null,
            "min_width": null,
            "border": null,
            "align_items": null,
            "bottom": null,
            "_model_module": "@jupyter-widgets/base",
            "top": null,
            "grid_column": null,
            "overflow_y": null,
            "overflow_x": null,
            "grid_auto_flow": null,
            "grid_area": null,
            "grid_template_columns": null,
            "flex": null,
            "_model_name": "LayoutModel",
            "justify_items": null,
            "grid_row": null,
            "max_height": null,
            "align_content": null,
            "visibility": null,
            "align_self": null,
            "height": null,
            "min_height": null,
            "padding": null,
            "grid_auto_rows": null,
            "grid_gap": null,
            "max_width": null,
            "order": null,
            "_view_module_version": "1.2.0",
            "grid_template_areas": null,
            "object_position": null,
            "object_fit": null,
            "grid_auto_columns": null,
            "margin": null,
            "display": null,
            "left": null
          }
        },
        "d3c2ee7b7a6e4880a4da20497de157c3": {
          "model_module": "@jupyter-widgets/controls",
          "model_name": "HTMLModel",
          "model_module_version": "1.5.0",
          "state": {
            "_view_name": "HTMLView",
            "style": "IPY_MODEL_71ef64dfa1ac445cac9ac51d57e0c620",
            "_dom_classes": [],
            "description": "",
            "_model_name": "HTMLModel",
            "placeholder": "​",
            "_view_module": "@jupyter-widgets/controls",
            "_model_module_version": "1.5.0",
            "value": "Downloading: 100%",
            "_view_count": null,
            "_view_module_version": "1.5.0",
            "description_tooltip": null,
            "_model_module": "@jupyter-widgets/controls",
            "layout": "IPY_MODEL_b05df31ff936403482741eff0d62ef34"
          }
        },
        "25018f146b1b431087c2bca1a3d28d6f": {
          "model_module": "@jupyter-widgets/controls",
          "model_name": "FloatProgressModel",
          "model_module_version": "1.5.0",
          "state": {
            "_view_name": "ProgressView",
            "style": "IPY_MODEL_6ece7f6cdf1f404090a77b34f0e4b8aa",
            "_dom_classes": [],
            "description": "",
            "_model_name": "FloatProgressModel",
            "bar_style": "success",
            "max": 49,
            "_view_module": "@jupyter-widgets/controls",
            "_model_module_version": "1.5.0",
            "value": 49,
            "_view_count": null,
            "_view_module_version": "1.5.0",
            "orientation": "horizontal",
            "min": 0,
            "description_tooltip": null,
            "_model_module": "@jupyter-widgets/controls",
            "layout": "IPY_MODEL_76956d219a1b442eaa808e5ab4e36cda"
          }
        },
        "284c25ac34c842129d41b5d3a6351ac8": {
          "model_module": "@jupyter-widgets/controls",
          "model_name": "HTMLModel",
          "model_module_version": "1.5.0",
          "state": {
            "_view_name": "HTMLView",
            "style": "IPY_MODEL_2bed82be490044d389e5528a733b3a69",
            "_dom_classes": [],
            "description": "",
            "_model_name": "HTMLModel",
            "placeholder": "​",
            "_view_module": "@jupyter-widgets/controls",
            "_model_module_version": "1.5.0",
            "value": " 49.0/49.0 [00:00&lt;00:00, 1.17kB/s]",
            "_view_count": null,
            "_view_module_version": "1.5.0",
            "description_tooltip": null,
            "_model_module": "@jupyter-widgets/controls",
            "layout": "IPY_MODEL_886e24c8df15494799095f641f0f5166"
          }
        },
        "71ef64dfa1ac445cac9ac51d57e0c620": {
          "model_module": "@jupyter-widgets/controls",
          "model_name": "DescriptionStyleModel",
          "model_module_version": "1.5.0",
          "state": {
            "_view_name": "StyleView",
            "_model_name": "DescriptionStyleModel",
            "description_width": "",
            "_view_module": "@jupyter-widgets/base",
            "_model_module_version": "1.5.0",
            "_view_count": null,
            "_view_module_version": "1.2.0",
            "_model_module": "@jupyter-widgets/controls"
          }
        },
        "b05df31ff936403482741eff0d62ef34": {
          "model_module": "@jupyter-widgets/base",
          "model_name": "LayoutModel",
          "model_module_version": "1.2.0",
          "state": {
            "_view_name": "LayoutView",
            "grid_template_rows": null,
            "right": null,
            "justify_content": null,
            "_view_module": "@jupyter-widgets/base",
            "overflow": null,
            "_model_module_version": "1.2.0",
            "_view_count": null,
            "flex_flow": null,
            "width": null,
            "min_width": null,
            "border": null,
            "align_items": null,
            "bottom": null,
            "_model_module": "@jupyter-widgets/base",
            "top": null,
            "grid_column": null,
            "overflow_y": null,
            "overflow_x": null,
            "grid_auto_flow": null,
            "grid_area": null,
            "grid_template_columns": null,
            "flex": null,
            "_model_name": "LayoutModel",
            "justify_items": null,
            "grid_row": null,
            "max_height": null,
            "align_content": null,
            "visibility": null,
            "align_self": null,
            "height": null,
            "min_height": null,
            "padding": null,
            "grid_auto_rows": null,
            "grid_gap": null,
            "max_width": null,
            "order": null,
            "_view_module_version": "1.2.0",
            "grid_template_areas": null,
            "object_position": null,
            "object_fit": null,
            "grid_auto_columns": null,
            "margin": null,
            "display": null,
            "left": null
          }
        },
        "6ece7f6cdf1f404090a77b34f0e4b8aa": {
          "model_module": "@jupyter-widgets/controls",
          "model_name": "ProgressStyleModel",
          "model_module_version": "1.5.0",
          "state": {
            "_view_name": "StyleView",
            "_model_name": "ProgressStyleModel",
            "description_width": "",
            "_view_module": "@jupyter-widgets/base",
            "_model_module_version": "1.5.0",
            "_view_count": null,
            "_view_module_version": "1.2.0",
            "bar_color": null,
            "_model_module": "@jupyter-widgets/controls"
          }
        },
        "76956d219a1b442eaa808e5ab4e36cda": {
          "model_module": "@jupyter-widgets/base",
          "model_name": "LayoutModel",
          "model_module_version": "1.2.0",
          "state": {
            "_view_name": "LayoutView",
            "grid_template_rows": null,
            "right": null,
            "justify_content": null,
            "_view_module": "@jupyter-widgets/base",
            "overflow": null,
            "_model_module_version": "1.2.0",
            "_view_count": null,
            "flex_flow": null,
            "width": null,
            "min_width": null,
            "border": null,
            "align_items": null,
            "bottom": null,
            "_model_module": "@jupyter-widgets/base",
            "top": null,
            "grid_column": null,
            "overflow_y": null,
            "overflow_x": null,
            "grid_auto_flow": null,
            "grid_area": null,
            "grid_template_columns": null,
            "flex": null,
            "_model_name": "LayoutModel",
            "justify_items": null,
            "grid_row": null,
            "max_height": null,
            "align_content": null,
            "visibility": null,
            "align_self": null,
            "height": null,
            "min_height": null,
            "padding": null,
            "grid_auto_rows": null,
            "grid_gap": null,
            "max_width": null,
            "order": null,
            "_view_module_version": "1.2.0",
            "grid_template_areas": null,
            "object_position": null,
            "object_fit": null,
            "grid_auto_columns": null,
            "margin": null,
            "display": null,
            "left": null
          }
        },
        "2bed82be490044d389e5528a733b3a69": {
          "model_module": "@jupyter-widgets/controls",
          "model_name": "DescriptionStyleModel",
          "model_module_version": "1.5.0",
          "state": {
            "_view_name": "StyleView",
            "_model_name": "DescriptionStyleModel",
            "description_width": "",
            "_view_module": "@jupyter-widgets/base",
            "_model_module_version": "1.5.0",
            "_view_count": null,
            "_view_module_version": "1.2.0",
            "_model_module": "@jupyter-widgets/controls"
          }
        },
        "886e24c8df15494799095f641f0f5166": {
          "model_module": "@jupyter-widgets/base",
          "model_name": "LayoutModel",
          "model_module_version": "1.2.0",
          "state": {
            "_view_name": "LayoutView",
            "grid_template_rows": null,
            "right": null,
            "justify_content": null,
            "_view_module": "@jupyter-widgets/base",
            "overflow": null,
            "_model_module_version": "1.2.0",
            "_view_count": null,
            "flex_flow": null,
            "width": null,
            "min_width": null,
            "border": null,
            "align_items": null,
            "bottom": null,
            "_model_module": "@jupyter-widgets/base",
            "top": null,
            "grid_column": null,
            "overflow_y": null,
            "overflow_x": null,
            "grid_auto_flow": null,
            "grid_area": null,
            "grid_template_columns": null,
            "flex": null,
            "_model_name": "LayoutModel",
            "justify_items": null,
            "grid_row": null,
            "max_height": null,
            "align_content": null,
            "visibility": null,
            "align_self": null,
            "height": null,
            "min_height": null,
            "padding": null,
            "grid_auto_rows": null,
            "grid_gap": null,
            "max_width": null,
            "order": null,
            "_view_module_version": "1.2.0",
            "grid_template_areas": null,
            "object_position": null,
            "object_fit": null,
            "grid_auto_columns": null,
            "margin": null,
            "display": null,
            "left": null
          }
        },
        "e733ac3a45ec4ad9b5e53717e266d6e6": {
          "model_module": "@jupyter-widgets/controls",
          "model_name": "HBoxModel",
          "model_module_version": "1.5.0",
          "state": {
            "_view_name": "HBoxView",
            "_dom_classes": [],
            "_model_name": "HBoxModel",
            "_view_module": "@jupyter-widgets/controls",
            "_model_module_version": "1.5.0",
            "_view_count": null,
            "_view_module_version": "1.5.0",
            "box_style": "",
            "layout": "IPY_MODEL_e996fcea916247449f5ad02bfdefa045",
            "_model_module": "@jupyter-widgets/controls",
            "children": [
              "IPY_MODEL_43c19e28054944b5b375d322ee3e9186",
              "IPY_MODEL_05e67ee5fed945bba1eebbca45bbe1eb",
              "IPY_MODEL_672b25ef4c8c4569aecf2698adc95683"
            ]
          }
        },
        "e996fcea916247449f5ad02bfdefa045": {
          "model_module": "@jupyter-widgets/base",
          "model_name": "LayoutModel",
          "model_module_version": "1.2.0",
          "state": {
            "_view_name": "LayoutView",
            "grid_template_rows": null,
            "right": null,
            "justify_content": null,
            "_view_module": "@jupyter-widgets/base",
            "overflow": null,
            "_model_module_version": "1.2.0",
            "_view_count": null,
            "flex_flow": null,
            "width": null,
            "min_width": null,
            "border": null,
            "align_items": null,
            "bottom": null,
            "_model_module": "@jupyter-widgets/base",
            "top": null,
            "grid_column": null,
            "overflow_y": null,
            "overflow_x": null,
            "grid_auto_flow": null,
            "grid_area": null,
            "grid_template_columns": null,
            "flex": null,
            "_model_name": "LayoutModel",
            "justify_items": null,
            "grid_row": null,
            "max_height": null,
            "align_content": null,
            "visibility": null,
            "align_self": null,
            "height": null,
            "min_height": null,
            "padding": null,
            "grid_auto_rows": null,
            "grid_gap": null,
            "max_width": null,
            "order": null,
            "_view_module_version": "1.2.0",
            "grid_template_areas": null,
            "object_position": null,
            "object_fit": null,
            "grid_auto_columns": null,
            "margin": null,
            "display": null,
            "left": null
          }
        },
        "43c19e28054944b5b375d322ee3e9186": {
          "model_module": "@jupyter-widgets/controls",
          "model_name": "HTMLModel",
          "model_module_version": "1.5.0",
          "state": {
            "_view_name": "HTMLView",
            "style": "IPY_MODEL_8341806157c5482ab3040a19e80f919b",
            "_dom_classes": [],
            "description": "",
            "_model_name": "HTMLModel",
            "placeholder": "​",
            "_view_module": "@jupyter-widgets/controls",
            "_model_module_version": "1.5.0",
            "value": "Downloading: 100%",
            "_view_count": null,
            "_view_module_version": "1.5.0",
            "description_tooltip": null,
            "_model_module": "@jupyter-widgets/controls",
            "layout": "IPY_MODEL_cb8a57f33c2942d599ea20c38d81f6cd"
          }
        },
        "05e67ee5fed945bba1eebbca45bbe1eb": {
          "model_module": "@jupyter-widgets/controls",
          "model_name": "FloatProgressModel",
          "model_module_version": "1.5.0",
          "state": {
            "_view_name": "ProgressView",
            "style": "IPY_MODEL_00c08b98d3df4836893183bef1aa6c98",
            "_dom_classes": [],
            "description": "",
            "_model_name": "FloatProgressModel",
            "bar_style": "success",
            "max": 557,
            "_view_module": "@jupyter-widgets/controls",
            "_model_module_version": "1.5.0",
            "value": 557,
            "_view_count": null,
            "_view_module_version": "1.5.0",
            "orientation": "horizontal",
            "min": 0,
            "description_tooltip": null,
            "_model_module": "@jupyter-widgets/controls",
            "layout": "IPY_MODEL_2b4adb7cde3f48ec9c66fbdfa6903a19"
          }
        },
        "672b25ef4c8c4569aecf2698adc95683": {
          "model_module": "@jupyter-widgets/controls",
          "model_name": "HTMLModel",
          "model_module_version": "1.5.0",
          "state": {
            "_view_name": "HTMLView",
            "style": "IPY_MODEL_6ad9b7bc86014c6dac3f6b5621826d3f",
            "_dom_classes": [],
            "description": "",
            "_model_name": "HTMLModel",
            "placeholder": "​",
            "_view_module": "@jupyter-widgets/controls",
            "_model_module_version": "1.5.0",
            "value": " 557/557 [00:00&lt;00:00, 13.8kB/s]",
            "_view_count": null,
            "_view_module_version": "1.5.0",
            "description_tooltip": null,
            "_model_module": "@jupyter-widgets/controls",
            "layout": "IPY_MODEL_e09a3fa7b1644aaeb239ac204e4d679c"
          }
        },
        "8341806157c5482ab3040a19e80f919b": {
          "model_module": "@jupyter-widgets/controls",
          "model_name": "DescriptionStyleModel",
          "model_module_version": "1.5.0",
          "state": {
            "_view_name": "StyleView",
            "_model_name": "DescriptionStyleModel",
            "description_width": "",
            "_view_module": "@jupyter-widgets/base",
            "_model_module_version": "1.5.0",
            "_view_count": null,
            "_view_module_version": "1.2.0",
            "_model_module": "@jupyter-widgets/controls"
          }
        },
        "cb8a57f33c2942d599ea20c38d81f6cd": {
          "model_module": "@jupyter-widgets/base",
          "model_name": "LayoutModel",
          "model_module_version": "1.2.0",
          "state": {
            "_view_name": "LayoutView",
            "grid_template_rows": null,
            "right": null,
            "justify_content": null,
            "_view_module": "@jupyter-widgets/base",
            "overflow": null,
            "_model_module_version": "1.2.0",
            "_view_count": null,
            "flex_flow": null,
            "width": null,
            "min_width": null,
            "border": null,
            "align_items": null,
            "bottom": null,
            "_model_module": "@jupyter-widgets/base",
            "top": null,
            "grid_column": null,
            "overflow_y": null,
            "overflow_x": null,
            "grid_auto_flow": null,
            "grid_area": null,
            "grid_template_columns": null,
            "flex": null,
            "_model_name": "LayoutModel",
            "justify_items": null,
            "grid_row": null,
            "max_height": null,
            "align_content": null,
            "visibility": null,
            "align_self": null,
            "height": null,
            "min_height": null,
            "padding": null,
            "grid_auto_rows": null,
            "grid_gap": null,
            "max_width": null,
            "order": null,
            "_view_module_version": "1.2.0",
            "grid_template_areas": null,
            "object_position": null,
            "object_fit": null,
            "grid_auto_columns": null,
            "margin": null,
            "display": null,
            "left": null
          }
        },
        "00c08b98d3df4836893183bef1aa6c98": {
          "model_module": "@jupyter-widgets/controls",
          "model_name": "ProgressStyleModel",
          "model_module_version": "1.5.0",
          "state": {
            "_view_name": "StyleView",
            "_model_name": "ProgressStyleModel",
            "description_width": "",
            "_view_module": "@jupyter-widgets/base",
            "_model_module_version": "1.5.0",
            "_view_count": null,
            "_view_module_version": "1.2.0",
            "bar_color": null,
            "_model_module": "@jupyter-widgets/controls"
          }
        },
        "2b4adb7cde3f48ec9c66fbdfa6903a19": {
          "model_module": "@jupyter-widgets/base",
          "model_name": "LayoutModel",
          "model_module_version": "1.2.0",
          "state": {
            "_view_name": "LayoutView",
            "grid_template_rows": null,
            "right": null,
            "justify_content": null,
            "_view_module": "@jupyter-widgets/base",
            "overflow": null,
            "_model_module_version": "1.2.0",
            "_view_count": null,
            "flex_flow": null,
            "width": null,
            "min_width": null,
            "border": null,
            "align_items": null,
            "bottom": null,
            "_model_module": "@jupyter-widgets/base",
            "top": null,
            "grid_column": null,
            "overflow_y": null,
            "overflow_x": null,
            "grid_auto_flow": null,
            "grid_area": null,
            "grid_template_columns": null,
            "flex": null,
            "_model_name": "LayoutModel",
            "justify_items": null,
            "grid_row": null,
            "max_height": null,
            "align_content": null,
            "visibility": null,
            "align_self": null,
            "height": null,
            "min_height": null,
            "padding": null,
            "grid_auto_rows": null,
            "grid_gap": null,
            "max_width": null,
            "order": null,
            "_view_module_version": "1.2.0",
            "grid_template_areas": null,
            "object_position": null,
            "object_fit": null,
            "grid_auto_columns": null,
            "margin": null,
            "display": null,
            "left": null
          }
        },
        "6ad9b7bc86014c6dac3f6b5621826d3f": {
          "model_module": "@jupyter-widgets/controls",
          "model_name": "DescriptionStyleModel",
          "model_module_version": "1.5.0",
          "state": {
            "_view_name": "StyleView",
            "_model_name": "DescriptionStyleModel",
            "description_width": "",
            "_view_module": "@jupyter-widgets/base",
            "_model_module_version": "1.5.0",
            "_view_count": null,
            "_view_module_version": "1.2.0",
            "_model_module": "@jupyter-widgets/controls"
          }
        },
        "e09a3fa7b1644aaeb239ac204e4d679c": {
          "model_module": "@jupyter-widgets/base",
          "model_name": "LayoutModel",
          "model_module_version": "1.2.0",
          "state": {
            "_view_name": "LayoutView",
            "grid_template_rows": null,
            "right": null,
            "justify_content": null,
            "_view_module": "@jupyter-widgets/base",
            "overflow": null,
            "_model_module_version": "1.2.0",
            "_view_count": null,
            "flex_flow": null,
            "width": null,
            "min_width": null,
            "border": null,
            "align_items": null,
            "bottom": null,
            "_model_module": "@jupyter-widgets/base",
            "top": null,
            "grid_column": null,
            "overflow_y": null,
            "overflow_x": null,
            "grid_auto_flow": null,
            "grid_area": null,
            "grid_template_columns": null,
            "flex": null,
            "_model_name": "LayoutModel",
            "justify_items": null,
            "grid_row": null,
            "max_height": null,
            "align_content": null,
            "visibility": null,
            "align_self": null,
            "height": null,
            "min_height": null,
            "padding": null,
            "grid_auto_rows": null,
            "grid_gap": null,
            "max_width": null,
            "order": null,
            "_view_module_version": "1.2.0",
            "grid_template_areas": null,
            "object_position": null,
            "object_fit": null,
            "grid_auto_columns": null,
            "margin": null,
            "display": null,
            "left": null
          }
        },
        "ec0c2e8a08854cfd90c959538e759498": {
          "model_module": "@jupyter-widgets/controls",
          "model_name": "HBoxModel",
          "model_module_version": "1.5.0",
          "state": {
            "_view_name": "HBoxView",
            "_dom_classes": [],
            "_model_name": "HBoxModel",
            "_view_module": "@jupyter-widgets/controls",
            "_model_module_version": "1.5.0",
            "_view_count": null,
            "_view_module_version": "1.5.0",
            "box_style": "",
            "layout": "IPY_MODEL_78afd47f39004b3a9d9d1cc2adbc4744",
            "_model_module": "@jupyter-widgets/controls",
            "children": [
              "IPY_MODEL_ae62ee6fd17b43ea8db198e33b4d9c32",
              "IPY_MODEL_758936c0d90f4a1ca8a96b4119b17106",
              "IPY_MODEL_e677c77cf9164b879534116b438ece90"
            ]
          }
        },
        "78afd47f39004b3a9d9d1cc2adbc4744": {
          "model_module": "@jupyter-widgets/base",
          "model_name": "LayoutModel",
          "model_module_version": "1.2.0",
          "state": {
            "_view_name": "LayoutView",
            "grid_template_rows": null,
            "right": null,
            "justify_content": null,
            "_view_module": "@jupyter-widgets/base",
            "overflow": null,
            "_model_module_version": "1.2.0",
            "_view_count": null,
            "flex_flow": null,
            "width": null,
            "min_width": null,
            "border": null,
            "align_items": null,
            "bottom": null,
            "_model_module": "@jupyter-widgets/base",
            "top": null,
            "grid_column": null,
            "overflow_y": null,
            "overflow_x": null,
            "grid_auto_flow": null,
            "grid_area": null,
            "grid_template_columns": null,
            "flex": null,
            "_model_name": "LayoutModel",
            "justify_items": null,
            "grid_row": null,
            "max_height": null,
            "align_content": null,
            "visibility": null,
            "align_self": null,
            "height": null,
            "min_height": null,
            "padding": null,
            "grid_auto_rows": null,
            "grid_gap": null,
            "max_width": null,
            "order": null,
            "_view_module_version": "1.2.0",
            "grid_template_areas": null,
            "object_position": null,
            "object_fit": null,
            "grid_auto_columns": null,
            "margin": null,
            "display": null,
            "left": null
          }
        },
        "ae62ee6fd17b43ea8db198e33b4d9c32": {
          "model_module": "@jupyter-widgets/controls",
          "model_name": "HTMLModel",
          "model_module_version": "1.5.0",
          "state": {
            "_view_name": "HTMLView",
            "style": "IPY_MODEL_1e4ae57a987f4bee9d242f3a7b592446",
            "_dom_classes": [],
            "description": "",
            "_model_name": "HTMLModel",
            "placeholder": "​",
            "_view_module": "@jupyter-widgets/controls",
            "_model_module_version": "1.5.0",
            "value": "Downloading: 100%",
            "_view_count": null,
            "_view_module_version": "1.5.0",
            "description_tooltip": null,
            "_model_module": "@jupyter-widgets/controls",
            "layout": "IPY_MODEL_7e3648564239480c96e00510327892bb"
          }
        },
        "758936c0d90f4a1ca8a96b4119b17106": {
          "model_module": "@jupyter-widgets/controls",
          "model_name": "FloatProgressModel",
          "model_module_version": "1.5.0",
          "state": {
            "_view_name": "ProgressView",
            "style": "IPY_MODEL_506d0053ece245d8a45803a075287689",
            "_dom_classes": [],
            "description": "",
            "_model_name": "FloatProgressModel",
            "bar_style": "success",
            "max": 218031937,
            "_view_module": "@jupyter-widgets/controls",
            "_model_module_version": "1.5.0",
            "value": 218031937,
            "_view_count": null,
            "_view_module_version": "1.5.0",
            "orientation": "horizontal",
            "min": 0,
            "description_tooltip": null,
            "_model_module": "@jupyter-widgets/controls",
            "layout": "IPY_MODEL_52c8aca16b154dd3868c5173ec230a1e"
          }
        },
        "e677c77cf9164b879534116b438ece90": {
          "model_module": "@jupyter-widgets/controls",
          "model_name": "HTMLModel",
          "model_module_version": "1.5.0",
          "state": {
            "_view_name": "HTMLView",
            "style": "IPY_MODEL_5a6b3cd8bf8b4a729d771eac2efc2ac2",
            "_dom_classes": [],
            "description": "",
            "_model_name": "HTMLModel",
            "placeholder": "​",
            "_view_module": "@jupyter-widgets/controls",
            "_model_module_version": "1.5.0",
            "value": " 208M/208M [00:07&lt;00:00, 33.3MB/s]",
            "_view_count": null,
            "_view_module_version": "1.5.0",
            "description_tooltip": null,
            "_model_module": "@jupyter-widgets/controls",
            "layout": "IPY_MODEL_50683476d03d417f8a7aa194c1d24506"
          }
        },
        "1e4ae57a987f4bee9d242f3a7b592446": {
          "model_module": "@jupyter-widgets/controls",
          "model_name": "DescriptionStyleModel",
          "model_module_version": "1.5.0",
          "state": {
            "_view_name": "StyleView",
            "_model_name": "DescriptionStyleModel",
            "description_width": "",
            "_view_module": "@jupyter-widgets/base",
            "_model_module_version": "1.5.0",
            "_view_count": null,
            "_view_module_version": "1.2.0",
            "_model_module": "@jupyter-widgets/controls"
          }
        },
        "7e3648564239480c96e00510327892bb": {
          "model_module": "@jupyter-widgets/base",
          "model_name": "LayoutModel",
          "model_module_version": "1.2.0",
          "state": {
            "_view_name": "LayoutView",
            "grid_template_rows": null,
            "right": null,
            "justify_content": null,
            "_view_module": "@jupyter-widgets/base",
            "overflow": null,
            "_model_module_version": "1.2.0",
            "_view_count": null,
            "flex_flow": null,
            "width": null,
            "min_width": null,
            "border": null,
            "align_items": null,
            "bottom": null,
            "_model_module": "@jupyter-widgets/base",
            "top": null,
            "grid_column": null,
            "overflow_y": null,
            "overflow_x": null,
            "grid_auto_flow": null,
            "grid_area": null,
            "grid_template_columns": null,
            "flex": null,
            "_model_name": "LayoutModel",
            "justify_items": null,
            "grid_row": null,
            "max_height": null,
            "align_content": null,
            "visibility": null,
            "align_self": null,
            "height": null,
            "min_height": null,
            "padding": null,
            "grid_auto_rows": null,
            "grid_gap": null,
            "max_width": null,
            "order": null,
            "_view_module_version": "1.2.0",
            "grid_template_areas": null,
            "object_position": null,
            "object_fit": null,
            "grid_auto_columns": null,
            "margin": null,
            "display": null,
            "left": null
          }
        },
        "506d0053ece245d8a45803a075287689": {
          "model_module": "@jupyter-widgets/controls",
          "model_name": "ProgressStyleModel",
          "model_module_version": "1.5.0",
          "state": {
            "_view_name": "StyleView",
            "_model_name": "ProgressStyleModel",
            "description_width": "",
            "_view_module": "@jupyter-widgets/base",
            "_model_module_version": "1.5.0",
            "_view_count": null,
            "_view_module_version": "1.2.0",
            "bar_color": null,
            "_model_module": "@jupyter-widgets/controls"
          }
        },
        "52c8aca16b154dd3868c5173ec230a1e": {
          "model_module": "@jupyter-widgets/base",
          "model_name": "LayoutModel",
          "model_module_version": "1.2.0",
          "state": {
            "_view_name": "LayoutView",
            "grid_template_rows": null,
            "right": null,
            "justify_content": null,
            "_view_module": "@jupyter-widgets/base",
            "overflow": null,
            "_model_module_version": "1.2.0",
            "_view_count": null,
            "flex_flow": null,
            "width": null,
            "min_width": null,
            "border": null,
            "align_items": null,
            "bottom": null,
            "_model_module": "@jupyter-widgets/base",
            "top": null,
            "grid_column": null,
            "overflow_y": null,
            "overflow_x": null,
            "grid_auto_flow": null,
            "grid_area": null,
            "grid_template_columns": null,
            "flex": null,
            "_model_name": "LayoutModel",
            "justify_items": null,
            "grid_row": null,
            "max_height": null,
            "align_content": null,
            "visibility": null,
            "align_self": null,
            "height": null,
            "min_height": null,
            "padding": null,
            "grid_auto_rows": null,
            "grid_gap": null,
            "max_width": null,
            "order": null,
            "_view_module_version": "1.2.0",
            "grid_template_areas": null,
            "object_position": null,
            "object_fit": null,
            "grid_auto_columns": null,
            "margin": null,
            "display": null,
            "left": null
          }
        },
        "5a6b3cd8bf8b4a729d771eac2efc2ac2": {
          "model_module": "@jupyter-widgets/controls",
          "model_name": "DescriptionStyleModel",
          "model_module_version": "1.5.0",
          "state": {
            "_view_name": "StyleView",
            "_model_name": "DescriptionStyleModel",
            "description_width": "",
            "_view_module": "@jupyter-widgets/base",
            "_model_module_version": "1.5.0",
            "_view_count": null,
            "_view_module_version": "1.2.0",
            "_model_module": "@jupyter-widgets/controls"
          }
        },
        "50683476d03d417f8a7aa194c1d24506": {
          "model_module": "@jupyter-widgets/base",
          "model_name": "LayoutModel",
          "model_module_version": "1.2.0",
          "state": {
            "_view_name": "LayoutView",
            "grid_template_rows": null,
            "right": null,
            "justify_content": null,
            "_view_module": "@jupyter-widgets/base",
            "overflow": null,
            "_model_module_version": "1.2.0",
            "_view_count": null,
            "flex_flow": null,
            "width": null,
            "min_width": null,
            "border": null,
            "align_items": null,
            "bottom": null,
            "_model_module": "@jupyter-widgets/base",
            "top": null,
            "grid_column": null,
            "overflow_y": null,
            "overflow_x": null,
            "grid_auto_flow": null,
            "grid_area": null,
            "grid_template_columns": null,
            "flex": null,
            "_model_name": "LayoutModel",
            "justify_items": null,
            "grid_row": null,
            "max_height": null,
            "align_content": null,
            "visibility": null,
            "align_self": null,
            "height": null,
            "min_height": null,
            "padding": null,
            "grid_auto_rows": null,
            "grid_gap": null,
            "max_width": null,
            "order": null,
            "_view_module_version": "1.2.0",
            "grid_template_areas": null,
            "object_position": null,
            "object_fit": null,
            "grid_auto_columns": null,
            "margin": null,
            "display": null,
            "left": null
          }
        }
      }
    },
    "accelerator": "GPU"
  },
  "cells": [
    {
      "cell_type": "markdown",
      "metadata": {
        "id": "0dJh9bk2gwaz"
      },
      "source": [
        "## Трансформер, в котором энкодер заменен предобученным DistilBERT-ом "
      ]
    },
    {
      "cell_type": "markdown",
      "metadata": {
        "id": "cRUsWPMxheRb"
      },
      "source": [
        "Этот подход опирается на [базовый ноутбук](https://colab.research.google.com/github/girafe-ai/ml-mipt/blob/21f_advanced/homeworks_advanced/lab01_nlp/lab1_02_nlp_part2_nmt.ipynb) и 6-ой [туториал](https://colab.research.google.com/github/bentrevett/pytorch-seq2seq/blob/master/6%20-%20Attention%20is%20All%20You%20Need.ipynb#scrollTo=P021gYDsU9kL) по seq2seq от bentrevett. Основные отличия от оригинала связаны с использованием [предобученного энкодера](https://huggingface.co/Geotrend/distilbert-base-ru-cased).\n",
        "\n",
        "Работа состоит из следующих этапов:\n",
        "1. С помощью библиотеки transformers загружается энкодер.\n",
        "2. Данные подготавливаются к обучению. Так как предобученный BERT обучался со своим токенизатором, необходимо переделать процедуру токенизации предложений на русском, чтобы энкодер работал со знакомыми ему данными.\n",
        "3. Описание класса декодера. Его обучение будет происходить с нуля.\n",
        "4. Класс модели Seq2Seq целиком. Необходимо объединить предобученный энкодер с нашим декодером.\n",
        "5. Обучение. Каждый этап сопровождается графиками лоссов на трейне и валидации, а также PPL и общим лоссом на тесте.\n",
        "  - Сначала только декодер, потому что он пока ничего не знает о задаче и может испортить веса BERT-а, что-то знающего о языке.\n",
        "    - Инициализация весов декодера с использованием torch.nn.init.xavier_uniform_.\n",
        "    - Замораживание весов энкодера.\n",
        "    - Обучение модели с learning rate decay при помощи torch.optim.lr_scheduler.ReduceLROnPlateau.\n",
        "  - Теперь вся модель целиком.\n",
        "    - Размораживание весов энкодера.\n",
        "    - Обучение. Также применяется learning rate decay.\n",
        "6. Результаты обучения.\n",
        "  - Примеры работы модели и сравнение с входными данными и ground truth.\n",
        "  - BLEU score\n"
      ]
    },
    {
      "cell_type": "markdown",
      "metadata": {
        "id": "dNfQEIr_gqlb"
      },
      "source": [
        "### Загрузка энкодера\n"
      ]
    },
    {
      "cell_type": "code",
      "metadata": {
        "colab": {
          "base_uri": "https://localhost:8080/"
        },
        "id": "o_sCoCgM7hjq",
        "outputId": "ac53467d-1bff-488b-c72d-020688fccdfc"
      },
      "source": [
        "!pip install transformers"
      ],
      "execution_count": null,
      "outputs": [
        {
          "output_type": "stream",
          "name": "stdout",
          "text": [
            "Collecting transformers\n",
            "  Downloading transformers-4.11.3-py3-none-any.whl (2.9 MB)\n",
            "\u001b[K     |████████████████████████████████| 2.9 MB 5.2 MB/s \n",
            "\u001b[?25hRequirement already satisfied: regex!=2019.12.17 in /usr/local/lib/python3.7/dist-packages (from transformers) (2019.12.20)\n",
            "Collecting huggingface-hub>=0.0.17\n",
            "  Downloading huggingface_hub-0.0.19-py3-none-any.whl (56 kB)\n",
            "\u001b[K     |████████████████████████████████| 56 kB 2.9 MB/s \n",
            "\u001b[?25hCollecting pyyaml>=5.1\n",
            "  Downloading PyYAML-6.0-cp37-cp37m-manylinux_2_5_x86_64.manylinux1_x86_64.manylinux_2_12_x86_64.manylinux2010_x86_64.whl (596 kB)\n",
            "\u001b[K     |████████████████████████████████| 596 kB 37.9 MB/s \n",
            "\u001b[?25hRequirement already satisfied: filelock in /usr/local/lib/python3.7/dist-packages (from transformers) (3.3.0)\n",
            "Requirement already satisfied: tqdm>=4.27 in /usr/local/lib/python3.7/dist-packages (from transformers) (4.62.3)\n",
            "Requirement already satisfied: requests in /usr/local/lib/python3.7/dist-packages (from transformers) (2.23.0)\n",
            "Collecting sacremoses\n",
            "  Downloading sacremoses-0.0.46-py3-none-any.whl (895 kB)\n",
            "\u001b[K     |████████████████████████████████| 895 kB 34.0 MB/s \n",
            "\u001b[?25hRequirement already satisfied: numpy>=1.17 in /usr/local/lib/python3.7/dist-packages (from transformers) (1.19.5)\n",
            "Collecting tokenizers<0.11,>=0.10.1\n",
            "  Downloading tokenizers-0.10.3-cp37-cp37m-manylinux_2_5_x86_64.manylinux1_x86_64.manylinux_2_12_x86_64.manylinux2010_x86_64.whl (3.3 MB)\n",
            "\u001b[K     |████████████████████████████████| 3.3 MB 35.4 MB/s \n",
            "\u001b[?25hRequirement already satisfied: importlib-metadata in /usr/local/lib/python3.7/dist-packages (from transformers) (4.8.1)\n",
            "Requirement already satisfied: packaging>=20.0 in /usr/local/lib/python3.7/dist-packages (from transformers) (21.0)\n",
            "Requirement already satisfied: typing-extensions in /usr/local/lib/python3.7/dist-packages (from huggingface-hub>=0.0.17->transformers) (3.7.4.3)\n",
            "Requirement already satisfied: pyparsing>=2.0.2 in /usr/local/lib/python3.7/dist-packages (from packaging>=20.0->transformers) (2.4.7)\n",
            "Requirement already satisfied: zipp>=0.5 in /usr/local/lib/python3.7/dist-packages (from importlib-metadata->transformers) (3.6.0)\n",
            "Requirement already satisfied: urllib3!=1.25.0,!=1.25.1,<1.26,>=1.21.1 in /usr/local/lib/python3.7/dist-packages (from requests->transformers) (1.24.3)\n",
            "Requirement already satisfied: certifi>=2017.4.17 in /usr/local/lib/python3.7/dist-packages (from requests->transformers) (2021.5.30)\n",
            "Requirement already satisfied: chardet<4,>=3.0.2 in /usr/local/lib/python3.7/dist-packages (from requests->transformers) (3.0.4)\n",
            "Requirement already satisfied: idna<3,>=2.5 in /usr/local/lib/python3.7/dist-packages (from requests->transformers) (2.10)\n",
            "Requirement already satisfied: six in /usr/local/lib/python3.7/dist-packages (from sacremoses->transformers) (1.15.0)\n",
            "Requirement already satisfied: click in /usr/local/lib/python3.7/dist-packages (from sacremoses->transformers) (7.1.2)\n",
            "Requirement already satisfied: joblib in /usr/local/lib/python3.7/dist-packages (from sacremoses->transformers) (1.0.1)\n",
            "Installing collected packages: pyyaml, tokenizers, sacremoses, huggingface-hub, transformers\n",
            "  Attempting uninstall: pyyaml\n",
            "    Found existing installation: PyYAML 3.13\n",
            "    Uninstalling PyYAML-3.13:\n",
            "      Successfully uninstalled PyYAML-3.13\n",
            "Successfully installed huggingface-hub-0.0.19 pyyaml-6.0 sacremoses-0.0.46 tokenizers-0.10.3 transformers-4.11.3\n"
          ]
        }
      ]
    },
    {
      "cell_type": "code",
      "metadata": {
        "colab": {
          "base_uri": "https://localhost:8080/",
          "height": 218,
          "referenced_widgets": [
            "8c789d846c164a6f89a729f3f87842b8",
            "a272bd7d4dc64da8bf4c3ffce4759b59",
            "1244ee816f224480b8f04a5ef022edcd",
            "53611b22c08944ebbd3099a43f9a3561",
            "41b582c828d14b96bbc0c3cebda4d95c",
            "d0974c7488ac45688514e1a1dbcedbb3",
            "a1905c5af9624c62b111c78b823e1d9b",
            "ca1937f869e146caaf3b70cdcc806cd2",
            "dda2e70ef3f541268dc4cfcc4bf1e3ad",
            "f964840416c34991be22d66f685c5f67",
            "7b992c59105c45a3954f875bb0b329b1",
            "1f2029775bcb41e485ec9c7a45986140",
            "6dbec4bf01234213b00a1362f627c9a9",
            "d3c2ee7b7a6e4880a4da20497de157c3",
            "25018f146b1b431087c2bca1a3d28d6f",
            "284c25ac34c842129d41b5d3a6351ac8",
            "71ef64dfa1ac445cac9ac51d57e0c620",
            "b05df31ff936403482741eff0d62ef34",
            "6ece7f6cdf1f404090a77b34f0e4b8aa",
            "76956d219a1b442eaa808e5ab4e36cda",
            "2bed82be490044d389e5528a733b3a69",
            "886e24c8df15494799095f641f0f5166",
            "e733ac3a45ec4ad9b5e53717e266d6e6",
            "e996fcea916247449f5ad02bfdefa045",
            "43c19e28054944b5b375d322ee3e9186",
            "05e67ee5fed945bba1eebbca45bbe1eb",
            "672b25ef4c8c4569aecf2698adc95683",
            "8341806157c5482ab3040a19e80f919b",
            "cb8a57f33c2942d599ea20c38d81f6cd",
            "00c08b98d3df4836893183bef1aa6c98",
            "2b4adb7cde3f48ec9c66fbdfa6903a19",
            "6ad9b7bc86014c6dac3f6b5621826d3f",
            "e09a3fa7b1644aaeb239ac204e4d679c",
            "ec0c2e8a08854cfd90c959538e759498",
            "78afd47f39004b3a9d9d1cc2adbc4744",
            "ae62ee6fd17b43ea8db198e33b4d9c32",
            "758936c0d90f4a1ca8a96b4119b17106",
            "e677c77cf9164b879534116b438ece90",
            "1e4ae57a987f4bee9d242f3a7b592446",
            "7e3648564239480c96e00510327892bb",
            "506d0053ece245d8a45803a075287689",
            "52c8aca16b154dd3868c5173ec230a1e",
            "5a6b3cd8bf8b4a729d771eac2efc2ac2",
            "50683476d03d417f8a7aa194c1d24506"
          ]
        },
        "id": "DMeGRBjXMq5y",
        "outputId": "4310de60-1937-4bc6-ae84-fd78336dd8e7"
      },
      "source": [
        "import transformers as ppb\n",
        "\n",
        "encoder_class, tokenizer_class, pretrained_weights = (ppb.DistilBertModel, ppb.DistilBertTokenizer, 'Geotrend/distilbert-base-ru-cased')\n",
        "\n",
        "tokenizer_ru = tokenizer_class.from_pretrained(pretrained_weights)\n",
        "encoder_ru = encoder_class.from_pretrained(pretrained_weights)"
      ],
      "execution_count": null,
      "outputs": [
        {
          "output_type": "display_data",
          "data": {
            "application/vnd.jupyter.widget-view+json": {
              "model_id": "8c789d846c164a6f89a729f3f87842b8",
              "version_minor": 0,
              "version_major": 2
            },
            "text/plain": [
              "Downloading:   0%|          | 0.00/130k [00:00<?, ?B/s]"
            ]
          },
          "metadata": {}
        },
        {
          "output_type": "display_data",
          "data": {
            "application/vnd.jupyter.widget-view+json": {
              "model_id": "1f2029775bcb41e485ec9c7a45986140",
              "version_minor": 0,
              "version_major": 2
            },
            "text/plain": [
              "Downloading:   0%|          | 0.00/49.0 [00:00<?, ?B/s]"
            ]
          },
          "metadata": {}
        },
        {
          "output_type": "display_data",
          "data": {
            "application/vnd.jupyter.widget-view+json": {
              "model_id": "e733ac3a45ec4ad9b5e53717e266d6e6",
              "version_minor": 0,
              "version_major": 2
            },
            "text/plain": [
              "Downloading:   0%|          | 0.00/557 [00:00<?, ?B/s]"
            ]
          },
          "metadata": {}
        },
        {
          "output_type": "display_data",
          "data": {
            "application/vnd.jupyter.widget-view+json": {
              "model_id": "ec0c2e8a08854cfd90c959538e759498",
              "version_minor": 0,
              "version_major": 2
            },
            "text/plain": [
              "Downloading:   0%|          | 0.00/208M [00:00<?, ?B/s]"
            ]
          },
          "metadata": {}
        },
        {
          "output_type": "stream",
          "name": "stderr",
          "text": [
            "Some weights of the model checkpoint at Geotrend/distilbert-base-ru-cased were not used when initializing DistilBertModel: ['vocab_projector.weight', 'vocab_projector.bias', 'vocab_transform.weight', 'vocab_layer_norm.weight', 'vocab_layer_norm.bias', 'vocab_transform.bias']\n",
            "- This IS expected if you are initializing DistilBertModel from the checkpoint of a model trained on another task or with another architecture (e.g. initializing a BertForSequenceClassification model from a BertForPreTraining model).\n",
            "- This IS NOT expected if you are initializing DistilBertModel from the checkpoint of a model that you expect to be exactly identical (initializing a BertForSequenceClassification model from a BertForSequenceClassification model).\n"
          ]
        }
      ]
    },
    {
      "cell_type": "code",
      "metadata": {
        "colab": {
          "base_uri": "https://localhost:8080/"
        },
        "id": "o_0KrTleFxBT",
        "outputId": "eb42bbf7-e998-45b8-b65e-668013b07b10"
      },
      "source": [
        "print(encoder_ru)"
      ],
      "execution_count": null,
      "outputs": [
        {
          "output_type": "stream",
          "name": "stdout",
          "text": [
            "DistilBertModel(\n",
            "  (embeddings): Embeddings(\n",
            "    (word_embeddings): Embedding(14283, 768, padding_idx=0)\n",
            "    (position_embeddings): Embedding(512, 768)\n",
            "    (LayerNorm): LayerNorm((768,), eps=1e-12, elementwise_affine=True)\n",
            "    (dropout): Dropout(p=0.1, inplace=False)\n",
            "  )\n",
            "  (transformer): Transformer(\n",
            "    (layer): ModuleList(\n",
            "      (0): TransformerBlock(\n",
            "        (attention): MultiHeadSelfAttention(\n",
            "          (dropout): Dropout(p=0.1, inplace=False)\n",
            "          (q_lin): Linear(in_features=768, out_features=768, bias=True)\n",
            "          (k_lin): Linear(in_features=768, out_features=768, bias=True)\n",
            "          (v_lin): Linear(in_features=768, out_features=768, bias=True)\n",
            "          (out_lin): Linear(in_features=768, out_features=768, bias=True)\n",
            "        )\n",
            "        (sa_layer_norm): LayerNorm((768,), eps=1e-12, elementwise_affine=True)\n",
            "        (ffn): FFN(\n",
            "          (dropout): Dropout(p=0.1, inplace=False)\n",
            "          (lin1): Linear(in_features=768, out_features=3072, bias=True)\n",
            "          (lin2): Linear(in_features=3072, out_features=768, bias=True)\n",
            "        )\n",
            "        (output_layer_norm): LayerNorm((768,), eps=1e-12, elementwise_affine=True)\n",
            "      )\n",
            "      (1): TransformerBlock(\n",
            "        (attention): MultiHeadSelfAttention(\n",
            "          (dropout): Dropout(p=0.1, inplace=False)\n",
            "          (q_lin): Linear(in_features=768, out_features=768, bias=True)\n",
            "          (k_lin): Linear(in_features=768, out_features=768, bias=True)\n",
            "          (v_lin): Linear(in_features=768, out_features=768, bias=True)\n",
            "          (out_lin): Linear(in_features=768, out_features=768, bias=True)\n",
            "        )\n",
            "        (sa_layer_norm): LayerNorm((768,), eps=1e-12, elementwise_affine=True)\n",
            "        (ffn): FFN(\n",
            "          (dropout): Dropout(p=0.1, inplace=False)\n",
            "          (lin1): Linear(in_features=768, out_features=3072, bias=True)\n",
            "          (lin2): Linear(in_features=3072, out_features=768, bias=True)\n",
            "        )\n",
            "        (output_layer_norm): LayerNorm((768,), eps=1e-12, elementwise_affine=True)\n",
            "      )\n",
            "      (2): TransformerBlock(\n",
            "        (attention): MultiHeadSelfAttention(\n",
            "          (dropout): Dropout(p=0.1, inplace=False)\n",
            "          (q_lin): Linear(in_features=768, out_features=768, bias=True)\n",
            "          (k_lin): Linear(in_features=768, out_features=768, bias=True)\n",
            "          (v_lin): Linear(in_features=768, out_features=768, bias=True)\n",
            "          (out_lin): Linear(in_features=768, out_features=768, bias=True)\n",
            "        )\n",
            "        (sa_layer_norm): LayerNorm((768,), eps=1e-12, elementwise_affine=True)\n",
            "        (ffn): FFN(\n",
            "          (dropout): Dropout(p=0.1, inplace=False)\n",
            "          (lin1): Linear(in_features=768, out_features=3072, bias=True)\n",
            "          (lin2): Linear(in_features=3072, out_features=768, bias=True)\n",
            "        )\n",
            "        (output_layer_norm): LayerNorm((768,), eps=1e-12, elementwise_affine=True)\n",
            "      )\n",
            "      (3): TransformerBlock(\n",
            "        (attention): MultiHeadSelfAttention(\n",
            "          (dropout): Dropout(p=0.1, inplace=False)\n",
            "          (q_lin): Linear(in_features=768, out_features=768, bias=True)\n",
            "          (k_lin): Linear(in_features=768, out_features=768, bias=True)\n",
            "          (v_lin): Linear(in_features=768, out_features=768, bias=True)\n",
            "          (out_lin): Linear(in_features=768, out_features=768, bias=True)\n",
            "        )\n",
            "        (sa_layer_norm): LayerNorm((768,), eps=1e-12, elementwise_affine=True)\n",
            "        (ffn): FFN(\n",
            "          (dropout): Dropout(p=0.1, inplace=False)\n",
            "          (lin1): Linear(in_features=768, out_features=3072, bias=True)\n",
            "          (lin2): Linear(in_features=3072, out_features=768, bias=True)\n",
            "        )\n",
            "        (output_layer_norm): LayerNorm((768,), eps=1e-12, elementwise_affine=True)\n",
            "      )\n",
            "      (4): TransformerBlock(\n",
            "        (attention): MultiHeadSelfAttention(\n",
            "          (dropout): Dropout(p=0.1, inplace=False)\n",
            "          (q_lin): Linear(in_features=768, out_features=768, bias=True)\n",
            "          (k_lin): Linear(in_features=768, out_features=768, bias=True)\n",
            "          (v_lin): Linear(in_features=768, out_features=768, bias=True)\n",
            "          (out_lin): Linear(in_features=768, out_features=768, bias=True)\n",
            "        )\n",
            "        (sa_layer_norm): LayerNorm((768,), eps=1e-12, elementwise_affine=True)\n",
            "        (ffn): FFN(\n",
            "          (dropout): Dropout(p=0.1, inplace=False)\n",
            "          (lin1): Linear(in_features=768, out_features=3072, bias=True)\n",
            "          (lin2): Linear(in_features=3072, out_features=768, bias=True)\n",
            "        )\n",
            "        (output_layer_norm): LayerNorm((768,), eps=1e-12, elementwise_affine=True)\n",
            "      )\n",
            "      (5): TransformerBlock(\n",
            "        (attention): MultiHeadSelfAttention(\n",
            "          (dropout): Dropout(p=0.1, inplace=False)\n",
            "          (q_lin): Linear(in_features=768, out_features=768, bias=True)\n",
            "          (k_lin): Linear(in_features=768, out_features=768, bias=True)\n",
            "          (v_lin): Linear(in_features=768, out_features=768, bias=True)\n",
            "          (out_lin): Linear(in_features=768, out_features=768, bias=True)\n",
            "        )\n",
            "        (sa_layer_norm): LayerNorm((768,), eps=1e-12, elementwise_affine=True)\n",
            "        (ffn): FFN(\n",
            "          (dropout): Dropout(p=0.1, inplace=False)\n",
            "          (lin1): Linear(in_features=768, out_features=3072, bias=True)\n",
            "          (lin2): Linear(in_features=3072, out_features=768, bias=True)\n",
            "        )\n",
            "        (output_layer_norm): LayerNorm((768,), eps=1e-12, elementwise_affine=True)\n",
            "      )\n",
            "    )\n",
            "  )\n",
            ")\n"
          ]
        }
      ]
    },
    {
      "cell_type": "markdown",
      "metadata": {
        "id": "8_6MkuEFoW46"
      },
      "source": [
        "### Подготовка данных к обучению"
      ]
    },
    {
      "cell_type": "code",
      "metadata": {
        "id": "yhwi6XvbTnro"
      },
      "source": [
        "import numpy as np\n",
        "\n",
        "import matplotlib\n",
        "matplotlib.rcParams.update({'font.size': 14})\n",
        "import matplotlib.pyplot as plt\n",
        "%matplotlib inline\n",
        "from IPython.display import clear_output\n",
        "\n",
        "import torch\n",
        "import torch.nn as nn\n",
        "import torch.optim as optim\n",
        "\n",
        "from torchtext.legacy.datasets import TranslationDataset, Multi30k\n",
        "from torchtext.legacy.data import Field, BucketIterator, TabularDataset\n",
        "\n",
        "import spacy\n",
        "\n",
        "import random\n",
        "import time\n",
        "import math\n",
        "\n",
        "import os\n",
        "import json"
      ],
      "execution_count": null,
      "outputs": []
    },
    {
      "cell_type": "code",
      "metadata": {
        "id": "MfVnvpo5T2qZ"
      },
      "source": [
        "SEED = 1234\n",
        "\n",
        "random.seed(SEED)\n",
        "np.random.seed(SEED)\n",
        "torch.manual_seed(SEED)\n",
        "torch.cuda.manual_seed(SEED)\n",
        "torch.backends.cudnn.deterministic = True"
      ],
      "execution_count": null,
      "outputs": []
    },
    {
      "cell_type": "code",
      "metadata": {
        "colab": {
          "base_uri": "https://localhost:8080/"
        },
        "id": "lI0uXta3T-ck",
        "outputId": "21fad112-5831-40ae-a535-0a313e9a90d0"
      },
      "source": [
        "!nvidia-smi"
      ],
      "execution_count": null,
      "outputs": [
        {
          "output_type": "stream",
          "name": "stdout",
          "text": [
            "Sun Oct 24 21:09:43 2021       \n",
            "+-----------------------------------------------------------------------------+\n",
            "| NVIDIA-SMI 470.74       Driver Version: 460.32.03    CUDA Version: 11.2     |\n",
            "|-------------------------------+----------------------+----------------------+\n",
            "| GPU  Name        Persistence-M| Bus-Id        Disp.A | Volatile Uncorr. ECC |\n",
            "| Fan  Temp  Perf  Pwr:Usage/Cap|         Memory-Usage | GPU-Util  Compute M. |\n",
            "|                               |                      |               MIG M. |\n",
            "|===============================+======================+======================|\n",
            "|   0  Tesla K80           Off  | 00000000:00:04.0 Off |                    0 |\n",
            "| N/A   37C    P8    28W / 149W |      0MiB / 11441MiB |      0%      Default |\n",
            "|                               |                      |                  N/A |\n",
            "+-------------------------------+----------------------+----------------------+\n",
            "                                                                               \n",
            "+-----------------------------------------------------------------------------+\n",
            "| Processes:                                                                  |\n",
            "|  GPU   GI   CI        PID   Type   Process name                  GPU Memory |\n",
            "|        ID   ID                                                   Usage      |\n",
            "|=============================================================================|\n",
            "|  No running processes found                                                 |\n",
            "+-----------------------------------------------------------------------------+\n"
          ]
        }
      ]
    },
    {
      "cell_type": "code",
      "metadata": {
        "colab": {
          "base_uri": "https://localhost:8080/"
        },
        "id": "92HKZKOQNhY7",
        "outputId": "41e23e1c-4cac-4ba6-f4d9-b8fa19711540"
      },
      "source": [
        "# Thanks to YSDA NLP course team for the data\n",
        "# (who thanks tilda and deephack teams for the data in their turn)\n",
        "\n",
        "path_do_data = '../../datasets/Machine_translation_EN_RU/data.txt'\n",
        "if not os.path.exists(path_do_data):\n",
        "    print(\"Dataset not found locally. Downloading from github. Loading special files as well\")\n",
        "    !wget https://raw.githubusercontent.com/girafe-ai/ml-mipt/master/datasets/Machine_translation_EN_RU/data.txt -nc\n",
        "    path_do_data = './data.txt'"
      ],
      "execution_count": null,
      "outputs": [
        {
          "output_type": "stream",
          "name": "stdout",
          "text": [
            "Dataset not found locally. Downloading from github. Loading special files as well\n",
            "--2021-10-24 21:09:48--  https://raw.githubusercontent.com/girafe-ai/ml-mipt/master/datasets/Machine_translation_EN_RU/data.txt\n",
            "Resolving raw.githubusercontent.com (raw.githubusercontent.com)... 185.199.108.133, 185.199.109.133, 185.199.110.133, ...\n",
            "Connecting to raw.githubusercontent.com (raw.githubusercontent.com)|185.199.108.133|:443... connected.\n",
            "HTTP request sent, awaiting response... 200 OK\n",
            "Length: 12905334 (12M) [text/plain]\n",
            "Saving to: ‘data.txt’\n",
            "\n",
            "data.txt            100%[===================>]  12.31M  --.-KB/s    in 0.1s    \n",
            "\n",
            "2021-10-24 21:09:49 (105 MB/s) - ‘data.txt’ saved [12905334/12905334]\n",
            "\n"
          ]
        }
      ]
    },
    {
      "cell_type": "code",
      "metadata": {
        "colab": {
          "base_uri": "https://localhost:8080/"
        },
        "id": "cugbTK47Gkvv",
        "outputId": "f9b93fcf-c6e3-4068-a2ec-63d1d5205f7d"
      },
      "source": [
        "!python -m spacy download en_core_web_sm"
      ],
      "execution_count": null,
      "outputs": [
        {
          "output_type": "stream",
          "name": "stdout",
          "text": [
            "Collecting en_core_web_sm==2.2.5\n",
            "  Downloading https://github.com/explosion/spacy-models/releases/download/en_core_web_sm-2.2.5/en_core_web_sm-2.2.5.tar.gz (12.0 MB)\n",
            "\u001b[K     |████████████████████████████████| 12.0 MB 5.2 MB/s \n",
            "\u001b[?25hRequirement already satisfied: spacy>=2.2.2 in /usr/local/lib/python3.7/dist-packages (from en_core_web_sm==2.2.5) (2.2.4)\n",
            "Requirement already satisfied: plac<1.2.0,>=0.9.6 in /usr/local/lib/python3.7/dist-packages (from spacy>=2.2.2->en_core_web_sm==2.2.5) (1.1.3)\n",
            "Requirement already satisfied: blis<0.5.0,>=0.4.0 in /usr/local/lib/python3.7/dist-packages (from spacy>=2.2.2->en_core_web_sm==2.2.5) (0.4.1)\n",
            "Requirement already satisfied: requests<3.0.0,>=2.13.0 in /usr/local/lib/python3.7/dist-packages (from spacy>=2.2.2->en_core_web_sm==2.2.5) (2.23.0)\n",
            "Requirement already satisfied: srsly<1.1.0,>=1.0.2 in /usr/local/lib/python3.7/dist-packages (from spacy>=2.2.2->en_core_web_sm==2.2.5) (1.0.5)\n",
            "Requirement already satisfied: murmurhash<1.1.0,>=0.28.0 in /usr/local/lib/python3.7/dist-packages (from spacy>=2.2.2->en_core_web_sm==2.2.5) (1.0.5)\n",
            "Requirement already satisfied: wasabi<1.1.0,>=0.4.0 in /usr/local/lib/python3.7/dist-packages (from spacy>=2.2.2->en_core_web_sm==2.2.5) (0.8.2)\n",
            "Requirement already satisfied: catalogue<1.1.0,>=0.0.7 in /usr/local/lib/python3.7/dist-packages (from spacy>=2.2.2->en_core_web_sm==2.2.5) (1.0.0)\n",
            "Requirement already satisfied: numpy>=1.15.0 in /usr/local/lib/python3.7/dist-packages (from spacy>=2.2.2->en_core_web_sm==2.2.5) (1.19.5)\n",
            "Requirement already satisfied: tqdm<5.0.0,>=4.38.0 in /usr/local/lib/python3.7/dist-packages (from spacy>=2.2.2->en_core_web_sm==2.2.5) (4.62.3)\n",
            "Requirement already satisfied: cymem<2.1.0,>=2.0.2 in /usr/local/lib/python3.7/dist-packages (from spacy>=2.2.2->en_core_web_sm==2.2.5) (2.0.5)\n",
            "Requirement already satisfied: setuptools in /usr/local/lib/python3.7/dist-packages (from spacy>=2.2.2->en_core_web_sm==2.2.5) (57.4.0)\n",
            "Requirement already satisfied: preshed<3.1.0,>=3.0.2 in /usr/local/lib/python3.7/dist-packages (from spacy>=2.2.2->en_core_web_sm==2.2.5) (3.0.5)\n",
            "Requirement already satisfied: thinc==7.4.0 in /usr/local/lib/python3.7/dist-packages (from spacy>=2.2.2->en_core_web_sm==2.2.5) (7.4.0)\n",
            "Requirement already satisfied: importlib-metadata>=0.20 in /usr/local/lib/python3.7/dist-packages (from catalogue<1.1.0,>=0.0.7->spacy>=2.2.2->en_core_web_sm==2.2.5) (4.8.1)\n",
            "Requirement already satisfied: typing-extensions>=3.6.4 in /usr/local/lib/python3.7/dist-packages (from importlib-metadata>=0.20->catalogue<1.1.0,>=0.0.7->spacy>=2.2.2->en_core_web_sm==2.2.5) (3.7.4.3)\n",
            "Requirement already satisfied: zipp>=0.5 in /usr/local/lib/python3.7/dist-packages (from importlib-metadata>=0.20->catalogue<1.1.0,>=0.0.7->spacy>=2.2.2->en_core_web_sm==2.2.5) (3.6.0)\n",
            "Requirement already satisfied: urllib3!=1.25.0,!=1.25.1,<1.26,>=1.21.1 in /usr/local/lib/python3.7/dist-packages (from requests<3.0.0,>=2.13.0->spacy>=2.2.2->en_core_web_sm==2.2.5) (1.24.3)\n",
            "Requirement already satisfied: idna<3,>=2.5 in /usr/local/lib/python3.7/dist-packages (from requests<3.0.0,>=2.13.0->spacy>=2.2.2->en_core_web_sm==2.2.5) (2.10)\n",
            "Requirement already satisfied: chardet<4,>=3.0.2 in /usr/local/lib/python3.7/dist-packages (from requests<3.0.0,>=2.13.0->spacy>=2.2.2->en_core_web_sm==2.2.5) (3.0.4)\n",
            "Requirement already satisfied: certifi>=2017.4.17 in /usr/local/lib/python3.7/dist-packages (from requests<3.0.0,>=2.13.0->spacy>=2.2.2->en_core_web_sm==2.2.5) (2021.5.30)\n",
            "\u001b[38;5;2m✔ Download and installation successful\u001b[0m\n",
            "You can now load the model via spacy.load('en_core_web_sm')\n"
          ]
        }
      ]
    },
    {
      "cell_type": "markdown",
      "metadata": {
        "id": "BPpxNe9wooA0"
      },
      "source": [
        "Предобученный BERT умеет работать только со знакомыми ему токенами, поэтому используем токенизатор, предоставляемый вместе с ним. Английский текст токенизируем с использованием spaCy."
      ]
    },
    {
      "cell_type": "code",
      "metadata": {
        "id": "0Y19FBB6OA_H"
      },
      "source": [
        "spacy_en = spacy.load('en_core_web_sm')\n",
        "def tokenize_en(text):\n",
        "    return [tok.text for tok in spacy_en.tokenizer(text)]\n",
        "\n",
        "def tokenize_ru(text, tokenizer=tokenizer_ru):\n",
        "    return tokenizer.encode(text, add_special_tokens=True)"
      ],
      "execution_count": null,
      "outputs": []
    },
    {
      "cell_type": "markdown",
      "metadata": {
        "id": "5OvGye9vpSRk"
      },
      "source": [
        "Создаем датасет. Токенизатор BERT-а сам добавляет символы конца и начала."
      ]
    },
    {
      "cell_type": "code",
      "metadata": {
        "id": "n2QUJOr6QlpR"
      },
      "source": [
        "SRC = Field(tokenize=tokenize_ru,\n",
        "            batch_first=True)\n",
        "\n",
        "TRG = Field(tokenize=tokenize_en,\n",
        "            init_token='<sos>', \n",
        "            eos_token='<eos>', \n",
        "            lower=True,\n",
        "            batch_first=True)\n",
        "\n",
        "dataset = TabularDataset(\n",
        "    path=path_do_data,\n",
        "    format='tsv',\n",
        "    fields=[('trg', TRG), ('src', SRC)]\n",
        ")"
      ],
      "execution_count": null,
      "outputs": []
    },
    {
      "cell_type": "code",
      "metadata": {
        "colab": {
          "base_uri": "https://localhost:8080/"
        },
        "id": "yvRDoafDQo9o",
        "outputId": "e3c1fea8-9532-43fe-ae9c-fea2548dbebf"
      },
      "source": [
        "train_data, valid_data, test_data = dataset.split(split_ratio=[0.8, 0.15, 0.05])\n",
        "\n",
        "print(f\"Number of training examples: {len(train_data.examples)}\")\n",
        "print(f\"Number of validation examples: {len(valid_data.examples)}\")\n",
        "print(f\"Number of testing examples: {len(test_data.examples)}\")\n",
        "\n",
        "SRC.build_vocab(train_data, min_freq = 1)\n",
        "TRG.build_vocab(train_data, min_freq = 2)\n",
        "\n",
        "print()\n",
        "print(f\"Unique tokens in source (ru) vocabulary: {len(SRC.vocab)}\")\n",
        "print(f\"Unique tokens in target (en) vocabulary: {len(TRG.vocab)}\")"
      ],
      "execution_count": null,
      "outputs": [
        {
          "output_type": "stream",
          "name": "stdout",
          "text": [
            "Number of training examples: 40000\n",
            "Number of validation examples: 2500\n",
            "Number of testing examples: 7500\n",
            "\n",
            "Unique tokens in source (ru) vocabulary: 8944\n",
            "Unique tokens in target (en) vocabulary: 10297\n"
          ]
        }
      ]
    },
    {
      "cell_type": "markdown",
      "metadata": {
        "id": "y9_-6PA5prJq"
      },
      "source": [
        "Русский текст сразу переводится в числовые значения. Английский — нет."
      ]
    },
    {
      "cell_type": "code",
      "metadata": {
        "colab": {
          "base_uri": "https://localhost:8080/"
        },
        "id": "GfuCN9CdSEIF",
        "outputId": "514d8d63-8860-4263-dcaf-68c596a32f4e"
      },
      "source": [
        "print(\"Part of russian vocab:\", SRC.vocab.itos[::1000])\n",
        "print(\"Part of english vocab:\", TRG.vocab.itos[::1000])"
      ],
      "execution_count": null,
      "outputs": [
        {
          "output_type": "stream",
          "name": "stdout",
          "text": [
            "Part of russian vocab: ['<unk>', 2910, 2630, 6375, 2893, 1876, 5509, 4858, 5297]\n",
            "Part of english vocab: ['<unk>', '38', 'tracks', 'wishing', 'kalamies', 'safed', 'kiwi', 'agriculture', 'finsbury', 'nicklaus', 'tussauds']\n"
          ]
        }
      ]
    },
    {
      "cell_type": "code",
      "metadata": {
        "colab": {
          "base_uri": "https://localhost:8080/"
        },
        "id": "PH9tF-O0SN6v",
        "outputId": "0922825f-4168-480e-ad38-a713106a25fd"
      },
      "source": [
        "print(\"Example of data:\")\n",
        "print(\"English (target):\", vars(train_data.examples[9])[\"trg\"])\n",
        "print(\"Russian (source):\", vars(train_data.examples[9])[\"src\"])"
      ],
      "execution_count": null,
      "outputs": [
        {
          "output_type": "stream",
          "name": "stdout",
          "text": [
            "Example of data:\n",
            "English (target): ['other', 'facilities', 'offered', 'at', 'the', 'property', 'include', 'grocery', 'deliveries', ',', 'laundry', 'and', 'ironing', 'services', '.']\n",
            "Russian (source): [11, 3005, 3686, 5063, 1893, 9257, 4040, 9352, 457, 25, 11423, 5646, 1782, 4324, 173, 8119, 10460, 3549, 11423, 27, 12]\n"
          ]
        }
      ]
    },
    {
      "cell_type": "markdown",
      "metadata": {
        "id": "dGa6uptsqzz2"
      },
      "source": [
        "Посчитаем максимальные длины последовательностей для каждого из языков. Это понадобится в дальнейшем для создания позиционных эмбеддингов, инференса и создания масок."
      ]
    },
    {
      "cell_type": "code",
      "metadata": {
        "colab": {
          "base_uri": "https://localhost:8080/"
        },
        "id": "hfwYT9dfbG2w",
        "outputId": "9a125122-0a8b-48e7-bde6-c23f8c0a071e"
      },
      "source": [
        "max_ru_len = 0\n",
        "max_en_len = 0\n",
        "for curr_data in (train_data, valid_data, test_data):\n",
        "    for example in curr_data.examples:\n",
        "        curr_ru_len = len(vars(example)[\"src\"])\n",
        "        if curr_ru_len > max_ru_len:\n",
        "            max_ru_len = curr_ru_len\n",
        "\n",
        "        curr_en_len = len(vars(example)[\"trg\"])\n",
        "        if curr_en_len > max_en_len:\n",
        "            max_en_len = curr_en_len\n",
        "\n",
        "\n",
        "print(\"Max RU sentence length:\", max_ru_len)\n",
        "print(\"Max EN sentence length:\", max_en_len)"
      ],
      "execution_count": null,
      "outputs": [
        {
          "output_type": "stream",
          "name": "stdout",
          "text": [
            "Max RU sentence length: 152\n",
            "Max EN sentence length: 90\n"
          ]
        }
      ]
    },
    {
      "cell_type": "markdown",
      "metadata": {
        "id": "Yp9Mh1iRrcYE"
      },
      "source": [
        "Добавим вручную паддинги к русскому тексту (индекс паддинга — 0)."
      ]
    },
    {
      "cell_type": "code",
      "metadata": {
        "id": "H_MvaMcYbgMV"
      },
      "source": [
        "for curr_data in (train_data, valid_data, test_data):\n",
        "    for example in curr_data.examples:\n",
        "        curr_data = vars(example)\n",
        "        curr_data[\"src\"] += [0]*(max_ru_len - len(curr_data[\"src\"]))"
      ],
      "execution_count": null,
      "outputs": []
    },
    {
      "cell_type": "code",
      "metadata": {
        "colab": {
          "base_uri": "https://localhost:8080/"
        },
        "id": "YSgCe83HkMiH",
        "outputId": "019553aa-a2ad-42aa-bb0a-c4aaf26c7a68"
      },
      "source": [
        "print(\"Example of data:\")\n",
        "print(\"English (target):\", vars(train_data.examples[9])[\"trg\"])\n",
        "print(\"Russian (source):\", vars(train_data.examples[9])[\"src\"])"
      ],
      "execution_count": null,
      "outputs": [
        {
          "output_type": "stream",
          "name": "stdout",
          "text": [
            "Example of data:\n",
            "English (target): ['other', 'facilities', 'offered', 'at', 'the', 'property', 'include', 'grocery', 'deliveries', ',', 'laundry', 'and', 'ironing', 'services', '.']\n",
            "Russian (source): [11, 3005, 3686, 5063, 1893, 9257, 4040, 9352, 457, 25, 11423, 5646, 1782, 4324, 173, 8119, 10460, 3549, 11423, 27, 12, 0, 0, 0, 0, 0, 0, 0, 0, 0, 0, 0, 0, 0, 0, 0, 0, 0, 0, 0, 0, 0, 0, 0, 0, 0, 0, 0, 0, 0, 0, 0, 0, 0, 0, 0, 0, 0, 0, 0, 0, 0, 0, 0, 0, 0, 0, 0, 0, 0, 0, 0, 0, 0, 0, 0, 0, 0, 0, 0, 0, 0, 0, 0, 0, 0, 0, 0, 0, 0, 0, 0, 0, 0, 0, 0, 0, 0, 0, 0, 0, 0, 0, 0, 0, 0, 0, 0, 0, 0, 0, 0, 0, 0, 0, 0, 0, 0, 0, 0, 0, 0, 0, 0, 0, 0, 0, 0, 0, 0, 0, 0, 0, 0, 0, 0, 0, 0, 0, 0, 0, 0, 0, 0, 0, 0, 0, 0, 0, 0, 0, 0]\n"
          ]
        }
      ]
    },
    {
      "cell_type": "code",
      "metadata": {
        "id": "La6zmjLblFks",
        "colab": {
          "base_uri": "https://localhost:8080/"
        },
        "outputId": "e2c0cf2f-8f03-47cf-d310-7e49095b43e7"
      },
      "source": [
        "# рабочий девайс\n",
        "device = torch.device('cuda' if torch.cuda.is_available() else 'cpu')\n",
        "print(\"Device:\", device)\n",
        "\n",
        "def _len_sort_key(x):\n",
        "    return len(x.src)\n",
        "\n",
        "# такой размер батча подходит для обучения половины модели\n",
        "# для обучения полной модели его нужно будет уменьшить вдвое,\n",
        "# пересоздав итераторы\n",
        "BATCH_SIZE = 128\n",
        "\n",
        "# итераторы, группирующие предложения с примерно одинаковой длиной в батчи\n",
        "# и автоматически добавляющие паддинги (только для английского, так как\n",
        "# в русском все уже добавлено вручную)\n",
        "train_iterator, valid_iterator, test_iterator = BucketIterator.splits(\n",
        "    (train_data, valid_data, test_data),\n",
        "    batch_size=BATCH_SIZE, \n",
        "    device=device,\n",
        "    sort_key=_len_sort_key\n",
        ")"
      ],
      "execution_count": null,
      "outputs": [
        {
          "output_type": "stream",
          "name": "stdout",
          "text": [
            "Device: cuda\n"
          ]
        }
      ]
    },
    {
      "cell_type": "markdown",
      "metadata": {
        "id": "z_azJWcHtc4E"
      },
      "source": [
        "Пример батча."
      ]
    },
    {
      "cell_type": "code",
      "metadata": {
        "colab": {
          "base_uri": "https://localhost:8080/"
        },
        "id": "MvRT07_Flfyy",
        "outputId": "7b62ee88-c606-497a-a050-0d91078ebed0"
      },
      "source": [
        "for x in train_iterator:\n",
        "    break\n",
        "print(x)\n",
        "print(x.src.shape, x.trg.shape)"
      ],
      "execution_count": null,
      "outputs": [
        {
          "output_type": "stream",
          "name": "stdout",
          "text": [
            "\n",
            "[torchtext.legacy.data.batch.Batch of size 128]\n",
            "\t[.trg]:[torch.cuda.LongTensor of size 128x58 (GPU 0)]\n",
            "\t[.src]:[torch.cuda.LongTensor of size 128x152 (GPU 0)]\n",
            "torch.Size([128, 152]) torch.Size([128, 58])\n"
          ]
        }
      ]
    },
    {
      "cell_type": "markdown",
      "metadata": {
        "id": "soVzXs_wtgMb"
      },
      "source": [
        "Так как итераторы изменили индексы токенайзера на свои, требуется поменять их обратно, чтобы BERT их понимал. Также нужно добавить маску, потому что в наших предложениях есть паддинги и мы не хотим, чтобы self-attention в модели обуславливался на них."
      ]
    },
    {
      "cell_type": "code",
      "metadata": {
        "id": "wIC7acWMwFTs"
      },
      "source": [
        "def prepare_encoder_batch(source, SRC_vocab):\n",
        "    n_rows = source.shape[0]\n",
        "    n_cols = source.shape[1]\n",
        "    res = torch.zeros((n_rows, n_cols)).type(torch.LongTensor)\n",
        "    res_mask = torch.zeros((n_rows, n_cols)).type(torch.LongTensor)\n",
        "    for i, row in enumerate(source):\n",
        "        for j, item in enumerate(row):\n",
        "            if item == 0:\n",
        "                res[i, j] = item\n",
        "                res_mask[i, j] = 0\n",
        "            else:\n",
        "                res[i, j] = SRC_vocab.itos[item]\n",
        "                res_mask[i, j] = 1\n",
        "\n",
        "    # res = [batch size, src len]\n",
        "    # res_mask = [batch size, 1, 1, src len]\n",
        "\n",
        "    return res, res_mask.unsqueeze(1).unsqueeze(2)"
      ],
      "execution_count": null,
      "outputs": []
    },
    {
      "cell_type": "markdown",
      "metadata": {
        "id": "lnNYNu2Vuo01"
      },
      "source": [
        "Пример работы энкодера. Его выход можно получить по ключу *'last_hidden_state'*."
      ]
    },
    {
      "cell_type": "code",
      "metadata": {
        "id": "cxFba_WQxD4d",
        "colab": {
          "base_uri": "https://localhost:8080/"
        },
        "outputId": "c051aeb7-ea1b-4f61-fb92-8b42a60b11af"
      },
      "source": [
        "example_batch, example_batch_mask = prepare_encoder_batch(x.src, SRC.vocab)\n",
        "\n",
        "outputs = encoder_ru(example_batch, attention_mask=example_batch_mask)\n",
        "\n",
        "outputs['last_hidden_state'].shape"
      ],
      "execution_count": null,
      "outputs": [
        {
          "output_type": "execute_result",
          "data": {
            "text/plain": [
              "torch.Size([128, 152, 768])"
            ]
          },
          "metadata": {},
          "execution_count": 20
        }
      ]
    },
    {
      "cell_type": "markdown",
      "metadata": {
        "id": "ApJc7sp72dSU"
      },
      "source": [
        "### Классы декодера и его составных элементов"
      ]
    },
    {
      "cell_type": "markdown",
      "metadata": {
        "id": "Y1mshoH43D82"
      },
      "source": [
        "Во многом повторяются идеи [туториала](https://colab.research.google.com/github/bentrevett/pytorch-seq2seq/blob/master/6%20-%20Attention%20is%20All%20You%20Need.ipynb#scrollTo=P021gYDsU9kL) от bentrevett."
      ]
    },
    {
      "cell_type": "code",
      "metadata": {
        "id": "Og8YBjLsMyd2"
      },
      "source": [
        "# основной класс, в котором применяются эмбеддинги токенов и их позиций в\n",
        "# предложении, слои декодера, каждый из которых содержит по 2 self-attention'а\n",
        "# и финальный полносвязный слой, а также dropout\n",
        "class Decoder(nn.Module):\n",
        "    def __init__(self, \n",
        "                 output_dim, \n",
        "                 hid_dim, \n",
        "                 n_layers, \n",
        "                 n_heads, \n",
        "                 pf_dim, \n",
        "                 dropout, \n",
        "                 device,\n",
        "                 max_length=100):\n",
        "        super().__init__()\n",
        "        \n",
        "        self.device = device\n",
        "        \n",
        "        self.tok_embedding = nn.Embedding(output_dim, hid_dim)\n",
        "        self.pos_embedding = nn.Embedding(max_length, hid_dim)\n",
        "        \n",
        "        self.layers = nn.ModuleList([DecoderLayer(hid_dim, \n",
        "                                                  n_heads, \n",
        "                                                  pf_dim, \n",
        "                                                  dropout, \n",
        "                                                  device)\n",
        "                                     for _ in range(n_layers)])\n",
        "        \n",
        "        self.fc_out = nn.Linear(hid_dim, output_dim)\n",
        "        self.dropout = nn.Dropout(dropout)\n",
        "        self.scale = torch.sqrt(torch.FloatTensor([hid_dim])).to(device)\n",
        "        \n",
        "\n",
        "    def forward(self, trg, enc_src, trg_mask, src_mask):\n",
        "        \n",
        "        # trg = [batch size, trg len]\n",
        "        # enc_src = [batch size, src len, hid dim]\n",
        "        # trg_mask = [batch size, 1, trg len, trg len]\n",
        "        # src_mask = [batch size, 1, 1, src len]\n",
        "                \n",
        "        batch_size = trg.shape[0]\n",
        "        trg_len = trg.shape[1]\n",
        "        \n",
        "        pos = torch.arange(0, trg_len).unsqueeze(0).repeat(batch_size, 1).to(self.device)\n",
        "                            \n",
        "        # pos = [batch size, trg len]\n",
        "            \n",
        "        trg = self.dropout((self.tok_embedding(trg) * self.scale) + self.pos_embedding(pos))\n",
        "                \n",
        "        # trg = [batch size, trg len, hid dim]\n",
        "        \n",
        "        for layer in self.layers:\n",
        "            # trg, attention = layer(trg, enc_src, trg_mask, src_mask)\n",
        "            trg = layer(trg, enc_src, trg_mask, src_mask)\n",
        "        \n",
        "        # trg = [batch size, trg len, hid dim]\n",
        "        # attention = [batch size, n heads, trg len, src len]\n",
        "        \n",
        "        output = self.fc_out(trg)\n",
        "        \n",
        "        # output = [batch size, trg len, output dim]\n",
        "            \n",
        "        # return output, attention\n",
        "        return output\n",
        "\n",
        "\n",
        "\n",
        "# класс слоя декодера, внутри которого применяются LayerNorm, self-attention над\n",
        "# входом декодера и еще один self-attention над выходом энкодера, затем\n",
        "# FeedForward слой и dropout\n",
        "class DecoderLayer(nn.Module):\n",
        "    def __init__(self, \n",
        "                 hid_dim, \n",
        "                 n_heads, \n",
        "                 pf_dim, \n",
        "                 dropout, \n",
        "                 device):\n",
        "        super().__init__()\n",
        "        \n",
        "        self.self_attn_layer_norm = nn.LayerNorm(hid_dim)\n",
        "        self.enc_attn_layer_norm = nn.LayerNorm(hid_dim)\n",
        "        self.ff_layer_norm = nn.LayerNorm(hid_dim)\n",
        "        self.self_attention = MultiHeadAttentionLayer(hid_dim, n_heads, dropout, device)\n",
        "        self.encoder_attention = MultiHeadAttentionLayer(hid_dim, n_heads, dropout, device)\n",
        "        self.positionwise_feedforward = PositionwiseFeedforwardLayer(hid_dim, \n",
        "                                                                     pf_dim, \n",
        "                                                                     dropout)\n",
        "        self.dropout = nn.Dropout(dropout)\n",
        "        \n",
        "\n",
        "    def forward(self, trg, enc_src, trg_mask, src_mask):\n",
        "        \n",
        "        # trg = [batch size, trg len, hid dim]\n",
        "        # enc_src = [batch size, src len, hid dim]\n",
        "        # trg_mask = [batch size, 1, trg len, trg len]\n",
        "        # src_mask = [batch size, 1, 1, src len]\n",
        "        \n",
        "        # self attention\n",
        "        # _trg, _ = self.self_attention(trg, trg, trg, trg_mask)\n",
        "        _trg = self.self_attention(trg, trg, trg, trg_mask)\n",
        "        \n",
        "        # dropout, residual connection and layer norm\n",
        "        trg = self.self_attn_layer_norm(trg + self.dropout(_trg))\n",
        "            \n",
        "        # trg = [batch size, trg len, hid dim]\n",
        "            \n",
        "        # encoder attention\n",
        "        # _trg, attention = self.encoder_attention(trg, enc_src, enc_src, src_mask)\n",
        "        _trg = self.encoder_attention(trg, enc_src, enc_src, src_mask)\n",
        "        \n",
        "        # dropout, residual connection and layer norm\n",
        "        trg = self.enc_attn_layer_norm(trg + self.dropout(_trg))\n",
        "                    \n",
        "        # trg = [batch size, trg len, hid dim]\n",
        "        \n",
        "        # positionwise feedforward\n",
        "        _trg = self.positionwise_feedforward(trg)\n",
        "        \n",
        "        # dropout, residual and layer norm\n",
        "        trg = self.ff_layer_norm(trg + self.dropout(_trg))\n",
        "        \n",
        "        # trg = [batch size, trg len, hid dim]\n",
        "        # attention = [batch size, n heads, trg len, src len]\n",
        "        \n",
        "        # return trg, attention\n",
        "        return trg\n",
        "\n",
        "\n",
        "\n",
        "# MultiHead self-attention слой\n",
        "class MultiHeadAttentionLayer(nn.Module):\n",
        "    def __init__(self, hid_dim, n_heads, dropout, device):\n",
        "        super().__init__()\n",
        "        \n",
        "        assert hid_dim % n_heads == 0\n",
        "        \n",
        "        self.hid_dim = hid_dim\n",
        "        self.n_heads = n_heads\n",
        "        self.head_dim = hid_dim // n_heads\n",
        "        \n",
        "        self.fc_q = nn.Linear(hid_dim, hid_dim)\n",
        "        self.fc_k = nn.Linear(hid_dim, hid_dim)\n",
        "        self.fc_v = nn.Linear(hid_dim, hid_dim)\n",
        "        \n",
        "        self.fc_o = nn.Linear(hid_dim, hid_dim)\n",
        "        self.dropout = nn.Dropout(dropout)\n",
        "        self.scale = torch.sqrt(torch.FloatTensor([self.head_dim])).to(device)\n",
        "        \n",
        "\n",
        "    def forward(self, query, key, value, mask=None):\n",
        "        \n",
        "        batch_size = query.shape[0]\n",
        "        \n",
        "        # query = [batch size, query len, hid dim]\n",
        "        # key = [batch size, key len, hid dim]\n",
        "        # value = [batch size, value len, hid dim]\n",
        "                \n",
        "        Q = self.fc_q(query)\n",
        "        K = self.fc_k(key)\n",
        "        V = self.fc_v(value)\n",
        "        \n",
        "        # Q = [batch size, query len, hid dim]\n",
        "        # K = [batch size, key len, hid dim]\n",
        "        # V = [batch size, value len, hid dim]\n",
        "                \n",
        "        Q = Q.view(batch_size, -1, self.n_heads, self.head_dim).permute(0, 2, 1, 3)\n",
        "        K = K.view(batch_size, -1, self.n_heads, self.head_dim).permute(0, 2, 1, 3)\n",
        "        V = V.view(batch_size, -1, self.n_heads, self.head_dim).permute(0, 2, 1, 3)\n",
        "        \n",
        "        # Q = [batch size, n heads, query len, head dim]\n",
        "        # K = [batch size, n heads, key len, head dim]\n",
        "        # V = [batch size, n heads, value len, head dim]\n",
        "                \n",
        "        energy = torch.matmul(Q, K.permute(0, 1, 3, 2)) / self.scale\n",
        "        \n",
        "        # energy = [batch size, n heads, query len, key len]\n",
        "        \n",
        "        # where mask value is 0 put -1e10\n",
        "        if mask is not None:\n",
        "            energy = energy.masked_fill(mask==0, -1e10)\n",
        "        \n",
        "        attention = torch.softmax(energy, dim = -1)\n",
        "                \n",
        "        # attention = [batch size, n heads, query len, key len]\n",
        "                \n",
        "        x = torch.matmul(self.dropout(attention), V)\n",
        "        \n",
        "        # x = [batch size, n heads, query len, head dim]\n",
        "        \n",
        "        x = x.permute(0, 2, 1, 3).contiguous()\n",
        "        \n",
        "        # x = [batch size, query len, n heads, head dim]\n",
        "        \n",
        "        x = x.view(batch_size, -1, self.hid_dim)\n",
        "        \n",
        "        # x = [batch size, query len, hid dim]\n",
        "        \n",
        "        x = self.fc_o(x)\n",
        "        \n",
        "        # x = [batch size, query len, hid dim]\n",
        "        \n",
        "        # return x, attention\n",
        "        return x\n",
        "\n",
        "\n",
        "\n",
        "# полносвязный слой, применяющийся к выходам self-attention слоев\n",
        "class PositionwiseFeedforwardLayer(nn.Module):\n",
        "    def __init__(self, hid_dim, pf_dim, dropout):\n",
        "        super().__init__()\n",
        "        \n",
        "        self.fc_1 = nn.Linear(hid_dim, pf_dim)\n",
        "        self.fc_2 = nn.Linear(pf_dim, hid_dim)\n",
        "        \n",
        "        self.dropout = nn.Dropout(dropout)\n",
        "        \n",
        "\n",
        "    def forward(self, x):\n",
        "        \n",
        "        # x = [batch size, seq len, hid dim]\n",
        "        \n",
        "        x = self.dropout(torch.relu(self.fc_1(x)))\n",
        "        \n",
        "        # x = [batch size, seq len, pf dim]\n",
        "        \n",
        "        x = self.fc_2(x)\n",
        "        \n",
        "        # x = [batch size, seq len, hid dim]\n",
        "        \n",
        "        return x"
      ],
      "execution_count": null,
      "outputs": []
    },
    {
      "cell_type": "markdown",
      "metadata": {
        "id": "idBz4IZ3vkkx"
      },
      "source": [
        "### Класс Seq2Seq модели"
      ]
    },
    {
      "cell_type": "markdown",
      "metadata": {
        "id": "aEUttiiVvprU"
      },
      "source": [
        "Нужно объединить предобученный энкодер и наш декодер в одну корректно работающую модель."
      ]
    },
    {
      "cell_type": "code",
      "metadata": {
        "id": "Qua9BQ0nkoAU"
      },
      "source": [
        "class Seq2Seq(nn.Module):\n",
        "    def __init__(self, \n",
        "                 encoder, \n",
        "                 decoder, \n",
        "                 trg_pad_idx, \n",
        "                 device):\n",
        "        super().__init__()\n",
        "        \n",
        "        self.encoder = encoder\n",
        "        self.decoder = decoder\n",
        "        self.trg_pad_idx = trg_pad_idx\n",
        "        self.device = device\n",
        "    \n",
        "\n",
        "    def make_trg_mask(self, trg):\n",
        "        \n",
        "        # trg = [batch size, trg len]\n",
        "        \n",
        "        trg_pad_mask = (trg != self.trg_pad_idx).unsqueeze(1).unsqueeze(2)\n",
        "        \n",
        "        # trg_pad_mask = [batch size, 1, 1, trg len]\n",
        "        \n",
        "        trg_len = trg.shape[1]\n",
        "        \n",
        "        trg_sub_mask = torch.tril(torch.ones((trg_len, trg_len), device = self.device)).bool()\n",
        "        \n",
        "        # trg_sub_mask = [trg len, trg len]\n",
        "            \n",
        "        trg_mask = trg_pad_mask & trg_sub_mask\n",
        "        \n",
        "        # trg_mask = [batch size, 1, trg len, trg len]\n",
        "        \n",
        "        return trg_mask\n",
        "\n",
        "\n",
        "    def forward(self, src, src_mask, trg):\n",
        "        \n",
        "        # src = [batch size, src len]\n",
        "        # trg = [batch size, trg len]\n",
        "                \n",
        "        # src_mask = self.make_src_mask(src)\n",
        "        trg_mask = self.make_trg_mask(trg)\n",
        "        \n",
        "        # src_mask = [batch size, 1, 1, src len]\n",
        "        # trg_mask = [batch size, 1, trg len, trg len]\n",
        "        \n",
        "        enc_src = self.encoder(src, src_mask)['last_hidden_state']\n",
        "        \n",
        "        # enc_src = [batch size, src len, hid dim]\n",
        "                \n",
        "        # output, attention = self.decoder(trg, enc_src, trg_mask, src_mask)\n",
        "        output = self.decoder(trg, enc_src, trg_mask, src_mask)\n",
        "        \n",
        "        # output = [batch size, trg len, output dim]\n",
        "        # attention = [batch size, n heads, trg len, src len]\n",
        "        \n",
        "        # return output, attention\n",
        "        return output"
      ],
      "execution_count": null,
      "outputs": []
    },
    {
      "cell_type": "markdown",
      "metadata": {
        "id": "_JOH5oQWx5AX"
      },
      "source": [
        "### Обучение"
      ]
    },
    {
      "cell_type": "markdown",
      "metadata": {
        "id": "gzUaXkviyCoe"
      },
      "source": [
        "#### Объявляение модели и функций, используемых при обучении"
      ]
    },
    {
      "cell_type": "code",
      "metadata": {
        "id": "CgloEtoyM5HF"
      },
      "source": [
        "OUTPUT_DIM = len(TRG.vocab)\n",
        "HID_DIM = 768\n",
        "DEC_LAYERS = 4\n",
        "DEC_HEADS = 8\n",
        "DEC_PF_DIM = 1536\n",
        "DEC_DROPOUT = 0.1\n",
        "MAX_EN_LEN = max_en_len\n",
        "\n",
        "dec = Decoder(OUTPUT_DIM, \n",
        "              HID_DIM, \n",
        "              DEC_LAYERS, \n",
        "              DEC_HEADS, \n",
        "              DEC_PF_DIM, \n",
        "              DEC_DROPOUT, \n",
        "              device)"
      ],
      "execution_count": null,
      "outputs": []
    },
    {
      "cell_type": "code",
      "metadata": {
        "id": "Cg19TPjVODsz"
      },
      "source": [
        "TRG_PAD_IDX = TRG.vocab.stoi[TRG.pad_token]\n",
        "\n",
        "model = Seq2Seq(encoder_ru, dec, TRG_PAD_IDX, device).to(device)"
      ],
      "execution_count": null,
      "outputs": []
    },
    {
      "cell_type": "code",
      "metadata": {
        "colab": {
          "base_uri": "https://localhost:8080/"
        },
        "id": "3slFlqjXOUz5",
        "outputId": "e7d2f5d7-ef89-44c1-a539-66ed1b9fb14c"
      },
      "source": [
        "def count_parameters(model):\n",
        "    return sum(p.numel() for p in model.parameters() if p.requires_grad)\n",
        "\n",
        "print(f'The model has {count_parameters(model):,} trainable parameters')"
      ],
      "execution_count": null,
      "outputs": [
        {
          "output_type": "stream",
          "name": "stdout",
          "text": [
            "The model has 98,158,393 trainable parameters\n"
          ]
        }
      ]
    },
    {
      "cell_type": "code",
      "metadata": {
        "colab": {
          "base_uri": "https://localhost:8080/"
        },
        "id": "jK4AHgUMRt1Z",
        "outputId": "4190948f-e303-4fcb-ea42-9c94a0fcc705"
      },
      "source": [
        "print(model)"
      ],
      "execution_count": null,
      "outputs": [
        {
          "output_type": "stream",
          "name": "stdout",
          "text": [
            "Seq2Seq(\n",
            "  (encoder): DistilBertModel(\n",
            "    (embeddings): Embeddings(\n",
            "      (word_embeddings): Embedding(14283, 768, padding_idx=0)\n",
            "      (position_embeddings): Embedding(512, 768)\n",
            "      (LayerNorm): LayerNorm((768,), eps=1e-12, elementwise_affine=True)\n",
            "      (dropout): Dropout(p=0.1, inplace=False)\n",
            "    )\n",
            "    (transformer): Transformer(\n",
            "      (layer): ModuleList(\n",
            "        (0): TransformerBlock(\n",
            "          (attention): MultiHeadSelfAttention(\n",
            "            (dropout): Dropout(p=0.1, inplace=False)\n",
            "            (q_lin): Linear(in_features=768, out_features=768, bias=True)\n",
            "            (k_lin): Linear(in_features=768, out_features=768, bias=True)\n",
            "            (v_lin): Linear(in_features=768, out_features=768, bias=True)\n",
            "            (out_lin): Linear(in_features=768, out_features=768, bias=True)\n",
            "          )\n",
            "          (sa_layer_norm): LayerNorm((768,), eps=1e-12, elementwise_affine=True)\n",
            "          (ffn): FFN(\n",
            "            (dropout): Dropout(p=0.1, inplace=False)\n",
            "            (lin1): Linear(in_features=768, out_features=3072, bias=True)\n",
            "            (lin2): Linear(in_features=3072, out_features=768, bias=True)\n",
            "          )\n",
            "          (output_layer_norm): LayerNorm((768,), eps=1e-12, elementwise_affine=True)\n",
            "        )\n",
            "        (1): TransformerBlock(\n",
            "          (attention): MultiHeadSelfAttention(\n",
            "            (dropout): Dropout(p=0.1, inplace=False)\n",
            "            (q_lin): Linear(in_features=768, out_features=768, bias=True)\n",
            "            (k_lin): Linear(in_features=768, out_features=768, bias=True)\n",
            "            (v_lin): Linear(in_features=768, out_features=768, bias=True)\n",
            "            (out_lin): Linear(in_features=768, out_features=768, bias=True)\n",
            "          )\n",
            "          (sa_layer_norm): LayerNorm((768,), eps=1e-12, elementwise_affine=True)\n",
            "          (ffn): FFN(\n",
            "            (dropout): Dropout(p=0.1, inplace=False)\n",
            "            (lin1): Linear(in_features=768, out_features=3072, bias=True)\n",
            "            (lin2): Linear(in_features=3072, out_features=768, bias=True)\n",
            "          )\n",
            "          (output_layer_norm): LayerNorm((768,), eps=1e-12, elementwise_affine=True)\n",
            "        )\n",
            "        (2): TransformerBlock(\n",
            "          (attention): MultiHeadSelfAttention(\n",
            "            (dropout): Dropout(p=0.1, inplace=False)\n",
            "            (q_lin): Linear(in_features=768, out_features=768, bias=True)\n",
            "            (k_lin): Linear(in_features=768, out_features=768, bias=True)\n",
            "            (v_lin): Linear(in_features=768, out_features=768, bias=True)\n",
            "            (out_lin): Linear(in_features=768, out_features=768, bias=True)\n",
            "          )\n",
            "          (sa_layer_norm): LayerNorm((768,), eps=1e-12, elementwise_affine=True)\n",
            "          (ffn): FFN(\n",
            "            (dropout): Dropout(p=0.1, inplace=False)\n",
            "            (lin1): Linear(in_features=768, out_features=3072, bias=True)\n",
            "            (lin2): Linear(in_features=3072, out_features=768, bias=True)\n",
            "          )\n",
            "          (output_layer_norm): LayerNorm((768,), eps=1e-12, elementwise_affine=True)\n",
            "        )\n",
            "        (3): TransformerBlock(\n",
            "          (attention): MultiHeadSelfAttention(\n",
            "            (dropout): Dropout(p=0.1, inplace=False)\n",
            "            (q_lin): Linear(in_features=768, out_features=768, bias=True)\n",
            "            (k_lin): Linear(in_features=768, out_features=768, bias=True)\n",
            "            (v_lin): Linear(in_features=768, out_features=768, bias=True)\n",
            "            (out_lin): Linear(in_features=768, out_features=768, bias=True)\n",
            "          )\n",
            "          (sa_layer_norm): LayerNorm((768,), eps=1e-12, elementwise_affine=True)\n",
            "          (ffn): FFN(\n",
            "            (dropout): Dropout(p=0.1, inplace=False)\n",
            "            (lin1): Linear(in_features=768, out_features=3072, bias=True)\n",
            "            (lin2): Linear(in_features=3072, out_features=768, bias=True)\n",
            "          )\n",
            "          (output_layer_norm): LayerNorm((768,), eps=1e-12, elementwise_affine=True)\n",
            "        )\n",
            "        (4): TransformerBlock(\n",
            "          (attention): MultiHeadSelfAttention(\n",
            "            (dropout): Dropout(p=0.1, inplace=False)\n",
            "            (q_lin): Linear(in_features=768, out_features=768, bias=True)\n",
            "            (k_lin): Linear(in_features=768, out_features=768, bias=True)\n",
            "            (v_lin): Linear(in_features=768, out_features=768, bias=True)\n",
            "            (out_lin): Linear(in_features=768, out_features=768, bias=True)\n",
            "          )\n",
            "          (sa_layer_norm): LayerNorm((768,), eps=1e-12, elementwise_affine=True)\n",
            "          (ffn): FFN(\n",
            "            (dropout): Dropout(p=0.1, inplace=False)\n",
            "            (lin1): Linear(in_features=768, out_features=3072, bias=True)\n",
            "            (lin2): Linear(in_features=3072, out_features=768, bias=True)\n",
            "          )\n",
            "          (output_layer_norm): LayerNorm((768,), eps=1e-12, elementwise_affine=True)\n",
            "        )\n",
            "        (5): TransformerBlock(\n",
            "          (attention): MultiHeadSelfAttention(\n",
            "            (dropout): Dropout(p=0.1, inplace=False)\n",
            "            (q_lin): Linear(in_features=768, out_features=768, bias=True)\n",
            "            (k_lin): Linear(in_features=768, out_features=768, bias=True)\n",
            "            (v_lin): Linear(in_features=768, out_features=768, bias=True)\n",
            "            (out_lin): Linear(in_features=768, out_features=768, bias=True)\n",
            "          )\n",
            "          (sa_layer_norm): LayerNorm((768,), eps=1e-12, elementwise_affine=True)\n",
            "          (ffn): FFN(\n",
            "            (dropout): Dropout(p=0.1, inplace=False)\n",
            "            (lin1): Linear(in_features=768, out_features=3072, bias=True)\n",
            "            (lin2): Linear(in_features=3072, out_features=768, bias=True)\n",
            "          )\n",
            "          (output_layer_norm): LayerNorm((768,), eps=1e-12, elementwise_affine=True)\n",
            "        )\n",
            "      )\n",
            "    )\n",
            "  )\n",
            "  (decoder): Decoder(\n",
            "    (tok_embedding): Embedding(10297, 768)\n",
            "    (pos_embedding): Embedding(100, 768)\n",
            "    (layers): ModuleList(\n",
            "      (0): DecoderLayer(\n",
            "        (self_attn_layer_norm): LayerNorm((768,), eps=1e-05, elementwise_affine=True)\n",
            "        (enc_attn_layer_norm): LayerNorm((768,), eps=1e-05, elementwise_affine=True)\n",
            "        (ff_layer_norm): LayerNorm((768,), eps=1e-05, elementwise_affine=True)\n",
            "        (self_attention): MultiHeadAttentionLayer(\n",
            "          (fc_q): Linear(in_features=768, out_features=768, bias=True)\n",
            "          (fc_k): Linear(in_features=768, out_features=768, bias=True)\n",
            "          (fc_v): Linear(in_features=768, out_features=768, bias=True)\n",
            "          (fc_o): Linear(in_features=768, out_features=768, bias=True)\n",
            "          (dropout): Dropout(p=0.1, inplace=False)\n",
            "        )\n",
            "        (encoder_attention): MultiHeadAttentionLayer(\n",
            "          (fc_q): Linear(in_features=768, out_features=768, bias=True)\n",
            "          (fc_k): Linear(in_features=768, out_features=768, bias=True)\n",
            "          (fc_v): Linear(in_features=768, out_features=768, bias=True)\n",
            "          (fc_o): Linear(in_features=768, out_features=768, bias=True)\n",
            "          (dropout): Dropout(p=0.1, inplace=False)\n",
            "        )\n",
            "        (positionwise_feedforward): PositionwiseFeedforwardLayer(\n",
            "          (fc_1): Linear(in_features=768, out_features=1536, bias=True)\n",
            "          (fc_2): Linear(in_features=1536, out_features=768, bias=True)\n",
            "          (dropout): Dropout(p=0.1, inplace=False)\n",
            "        )\n",
            "        (dropout): Dropout(p=0.1, inplace=False)\n",
            "      )\n",
            "      (1): DecoderLayer(\n",
            "        (self_attn_layer_norm): LayerNorm((768,), eps=1e-05, elementwise_affine=True)\n",
            "        (enc_attn_layer_norm): LayerNorm((768,), eps=1e-05, elementwise_affine=True)\n",
            "        (ff_layer_norm): LayerNorm((768,), eps=1e-05, elementwise_affine=True)\n",
            "        (self_attention): MultiHeadAttentionLayer(\n",
            "          (fc_q): Linear(in_features=768, out_features=768, bias=True)\n",
            "          (fc_k): Linear(in_features=768, out_features=768, bias=True)\n",
            "          (fc_v): Linear(in_features=768, out_features=768, bias=True)\n",
            "          (fc_o): Linear(in_features=768, out_features=768, bias=True)\n",
            "          (dropout): Dropout(p=0.1, inplace=False)\n",
            "        )\n",
            "        (encoder_attention): MultiHeadAttentionLayer(\n",
            "          (fc_q): Linear(in_features=768, out_features=768, bias=True)\n",
            "          (fc_k): Linear(in_features=768, out_features=768, bias=True)\n",
            "          (fc_v): Linear(in_features=768, out_features=768, bias=True)\n",
            "          (fc_o): Linear(in_features=768, out_features=768, bias=True)\n",
            "          (dropout): Dropout(p=0.1, inplace=False)\n",
            "        )\n",
            "        (positionwise_feedforward): PositionwiseFeedforwardLayer(\n",
            "          (fc_1): Linear(in_features=768, out_features=1536, bias=True)\n",
            "          (fc_2): Linear(in_features=1536, out_features=768, bias=True)\n",
            "          (dropout): Dropout(p=0.1, inplace=False)\n",
            "        )\n",
            "        (dropout): Dropout(p=0.1, inplace=False)\n",
            "      )\n",
            "      (2): DecoderLayer(\n",
            "        (self_attn_layer_norm): LayerNorm((768,), eps=1e-05, elementwise_affine=True)\n",
            "        (enc_attn_layer_norm): LayerNorm((768,), eps=1e-05, elementwise_affine=True)\n",
            "        (ff_layer_norm): LayerNorm((768,), eps=1e-05, elementwise_affine=True)\n",
            "        (self_attention): MultiHeadAttentionLayer(\n",
            "          (fc_q): Linear(in_features=768, out_features=768, bias=True)\n",
            "          (fc_k): Linear(in_features=768, out_features=768, bias=True)\n",
            "          (fc_v): Linear(in_features=768, out_features=768, bias=True)\n",
            "          (fc_o): Linear(in_features=768, out_features=768, bias=True)\n",
            "          (dropout): Dropout(p=0.1, inplace=False)\n",
            "        )\n",
            "        (encoder_attention): MultiHeadAttentionLayer(\n",
            "          (fc_q): Linear(in_features=768, out_features=768, bias=True)\n",
            "          (fc_k): Linear(in_features=768, out_features=768, bias=True)\n",
            "          (fc_v): Linear(in_features=768, out_features=768, bias=True)\n",
            "          (fc_o): Linear(in_features=768, out_features=768, bias=True)\n",
            "          (dropout): Dropout(p=0.1, inplace=False)\n",
            "        )\n",
            "        (positionwise_feedforward): PositionwiseFeedforwardLayer(\n",
            "          (fc_1): Linear(in_features=768, out_features=1536, bias=True)\n",
            "          (fc_2): Linear(in_features=1536, out_features=768, bias=True)\n",
            "          (dropout): Dropout(p=0.1, inplace=False)\n",
            "        )\n",
            "        (dropout): Dropout(p=0.1, inplace=False)\n",
            "      )\n",
            "      (3): DecoderLayer(\n",
            "        (self_attn_layer_norm): LayerNorm((768,), eps=1e-05, elementwise_affine=True)\n",
            "        (enc_attn_layer_norm): LayerNorm((768,), eps=1e-05, elementwise_affine=True)\n",
            "        (ff_layer_norm): LayerNorm((768,), eps=1e-05, elementwise_affine=True)\n",
            "        (self_attention): MultiHeadAttentionLayer(\n",
            "          (fc_q): Linear(in_features=768, out_features=768, bias=True)\n",
            "          (fc_k): Linear(in_features=768, out_features=768, bias=True)\n",
            "          (fc_v): Linear(in_features=768, out_features=768, bias=True)\n",
            "          (fc_o): Linear(in_features=768, out_features=768, bias=True)\n",
            "          (dropout): Dropout(p=0.1, inplace=False)\n",
            "        )\n",
            "        (encoder_attention): MultiHeadAttentionLayer(\n",
            "          (fc_q): Linear(in_features=768, out_features=768, bias=True)\n",
            "          (fc_k): Linear(in_features=768, out_features=768, bias=True)\n",
            "          (fc_v): Linear(in_features=768, out_features=768, bias=True)\n",
            "          (fc_o): Linear(in_features=768, out_features=768, bias=True)\n",
            "          (dropout): Dropout(p=0.1, inplace=False)\n",
            "        )\n",
            "        (positionwise_feedforward): PositionwiseFeedforwardLayer(\n",
            "          (fc_1): Linear(in_features=768, out_features=1536, bias=True)\n",
            "          (fc_2): Linear(in_features=1536, out_features=768, bias=True)\n",
            "          (dropout): Dropout(p=0.1, inplace=False)\n",
            "        )\n",
            "        (dropout): Dropout(p=0.1, inplace=False)\n",
            "      )\n",
            "    )\n",
            "    (fc_out): Linear(in_features=768, out_features=10297, bias=True)\n",
            "    (dropout): Dropout(p=0.1, inplace=False)\n",
            "  )\n",
            ")\n"
          ]
        }
      ]
    },
    {
      "cell_type": "markdown",
      "metadata": {
        "id": "-sNCnPTgzjB2"
      },
      "source": [
        "Стандартный цикл обучения, адаптированный под нашу модель. Дополнительно выходит графики лосса на трейне и валидации, причем в нескольких вариантах, чтобы была ясна как локальная, так и глобальная картина сходимости."
      ]
    },
    {
      "cell_type": "code",
      "metadata": {
        "id": "aIfBh7WzfGd5"
      },
      "source": [
        "def train(model, iterator, optimizer, criterion, clip, SRC_vocab, device,\n",
        "          train_history=None, valid_history=None, verbose_train_history=None):\n",
        "    \n",
        "    model.train()\n",
        "    \n",
        "    epoch_loss = 0\n",
        "    history = list()\n",
        "    for i, batch in enumerate(iterator):\n",
        "        \n",
        "        src = batch.src\n",
        "        src, src_mask = prepare_encoder_batch(src, SRC_vocab)\n",
        "        src = src.to(device)\n",
        "        src_mask = src_mask.to(device)\n",
        "        trg = batch.trg\n",
        "\n",
        "        # src = [batch size, src len]\n",
        "        # src_mask = [batch size, 1, 1, src len] \n",
        "        \n",
        "        optimizer.zero_grad()\n",
        "        \n",
        "        output = model(src, src_mask, trg[:,:-1])\n",
        "       \n",
        "        # output = [batch size, trg len - 1, output dim]\n",
        "        # trg = [batch size, trg len]\n",
        "            \n",
        "        output_dim = output.shape[-1]\n",
        "            \n",
        "        output = output.contiguous().view(-1, output_dim)\n",
        "        trg = trg[:,1:].contiguous().view(-1)\n",
        "                \n",
        "        # output = [batch size * trg len - 1, output dim]\n",
        "        # trg = [batch size * trg len - 1]\n",
        "            \n",
        "        loss = criterion(output, trg)\n",
        "        \n",
        "        loss.backward()\n",
        "        \n",
        "        torch.nn.utils.clip_grad_norm_(model.parameters(), clip)\n",
        "        \n",
        "        optimizer.step()\n",
        "        \n",
        "        epoch_loss += loss.item()\n",
        "\n",
        "        history.append(loss.cpu().data.numpy())\n",
        "        if (i+1)%10 == 0:\n",
        "            fig, ax = plt.subplots(nrows=1, ncols=3, figsize=(20, 8))\n",
        "\n",
        "            clear_output(True)\n",
        "            ax[0].plot(history, label=\"train\")\n",
        "            ax[0].set_xlabel('Batch')\n",
        "            ax[0].set_ylabel('Loss')\n",
        "            ax[0].set_title('Train loss on current epoch')\n",
        "            ax[0].grid(which='major', color='#DDDDDD', linewidth=0.8)\n",
        "            ax[0].legend()\n",
        "            if train_history is not None:\n",
        "                ax[1].plot(train_history, label='train')\n",
        "                ax[1].set_xlabel('Epoch')\n",
        "                ax[1].set_ylabel('Loss')\n",
        "                ax[1].set_title('General loss history')\n",
        "                ax[1].grid(which='major', color='#DDDDDD', linewidth=0.8)\n",
        "            if valid_history is not None:\n",
        "                ax[1].plot(valid_history, label='validation')\n",
        "                ax[1].legend()\n",
        "            if verbose_train_history is not None:\n",
        "                ax[2].plot(verbose_train_history, label=\"train\")\n",
        "                ax[2].set_xlabel('Batch iteration')\n",
        "                ax[2].set_ylabel('Loss')\n",
        "                ax[2].set_title('Verbose train history')\n",
        "                ax[2].grid(which='major', color='#DDDDDD', linewidth=0.8)\n",
        "                ax[2].legend()\n",
        "            # plt.legend()\n",
        "            \n",
        "            plt.show()\n",
        "        \n",
        "    return epoch_loss / len(iterator), history"
      ],
      "execution_count": null,
      "outputs": []
    },
    {
      "cell_type": "markdown",
      "metadata": {
        "id": "WzC4W4prz_Wr"
      },
      "source": [
        "Функция для validation и test стадий. Повторяет train, но без вычисления градиентов и шага оптимизатора."
      ]
    },
    {
      "cell_type": "code",
      "metadata": {
        "id": "9KqFnTINhiGV"
      },
      "source": [
        "def evaluate(model, iterator, criterion, SRC_vocab, device):\n",
        "    \n",
        "    model.eval()\n",
        "    \n",
        "    epoch_loss = 0\n",
        "    \n",
        "    with torch.no_grad():\n",
        "    \n",
        "        for i, batch in enumerate(iterator):\n",
        "\n",
        "            src = batch.src\n",
        "            src, src_mask = prepare_encoder_batch(src, SRC_vocab)\n",
        "            src = src.to(device)\n",
        "            src_mask = src_mask.to(device)\n",
        "            trg = batch.trg\n",
        "\n",
        "            # src = [batch size, src len]\n",
        "            # src_mask = [batch size, 1, 1, src len] \n",
        "\n",
        "            output = model(src, src_mask, trg[:,:-1])\n",
        "            \n",
        "            # output = [batch size, trg len - 1, output dim]\n",
        "            # trg = [batch size, trg len]\n",
        "            \n",
        "            output_dim = output.shape[-1]\n",
        "            \n",
        "            output = output.contiguous().view(-1, output_dim)\n",
        "            trg = trg[:,1:].contiguous().view(-1)\n",
        "            \n",
        "            # output = [batch size * trg len - 1, output dim]\n",
        "            # trg = [batch size * trg len - 1]\n",
        "            \n",
        "            loss = criterion(output, trg)\n",
        "\n",
        "            epoch_loss += loss.item()\n",
        "        \n",
        "    return epoch_loss / len(iterator)"
      ],
      "execution_count": null,
      "outputs": []
    },
    {
      "cell_type": "markdown",
      "metadata": {
        "id": "oVVmI7Es0YGq"
      },
      "source": [
        "Для вычисления времени на эпоху."
      ]
    },
    {
      "cell_type": "code",
      "metadata": {
        "id": "FpsFhtJVh5h5"
      },
      "source": [
        "def epoch_time(start_time, end_time):\n",
        "    elapsed_time = end_time - start_time\n",
        "    elapsed_mins = int(elapsed_time / 60)\n",
        "    elapsed_secs = int(elapsed_time - (elapsed_mins * 60))\n",
        "    return elapsed_mins, elapsed_secs"
      ],
      "execution_count": null,
      "outputs": []
    },
    {
      "cell_type": "markdown",
      "metadata": {
        "id": "WwuDHeoM0cCk"
      },
      "source": [
        "Веса модели и историю обучения сохраняем на гугл диск, так как колаб всегда может отключиться в самый неподходящий момент."
      ]
    },
    {
      "cell_type": "code",
      "metadata": {
        "colab": {
          "base_uri": "https://localhost:8080/"
        },
        "id": "QTix1qnxikmd",
        "outputId": "50121b87-ea3c-425e-fa55-5bca70c81704"
      },
      "source": [
        "from google.colab import drive\n",
        "drive.mount('/content/drive')"
      ],
      "execution_count": null,
      "outputs": [
        {
          "output_type": "stream",
          "name": "stdout",
          "text": [
            "Mounted at /content/drive\n"
          ]
        }
      ]
    },
    {
      "cell_type": "markdown",
      "metadata": {
        "id": "-t6Eae9uyZa5"
      },
      "source": [
        "#### Обучение декодера"
      ]
    },
    {
      "cell_type": "markdown",
      "metadata": {
        "id": "9KeSzvN-ypsU"
      },
      "source": [
        "Инициализируем веса декодера с помощью nn.init.xavier_uniform_."
      ]
    },
    {
      "cell_type": "code",
      "metadata": {
        "id": "XHwoPQdoOdAG",
        "colab": {
          "base_uri": "https://localhost:8080/"
        },
        "outputId": "7586f126-2180-466f-d27f-50ac4487c9f5"
      },
      "source": [
        "def initialize_weights(m):\n",
        "    if hasattr(m, 'weight') and m.weight.dim() > 1:\n",
        "        nn.init.xavier_uniform_(m.weight.data)\n",
        "\n",
        "model.decoder.apply(initialize_weights)"
      ],
      "execution_count": null,
      "outputs": [
        {
          "output_type": "execute_result",
          "data": {
            "text/plain": [
              "Decoder(\n",
              "  (tok_embedding): Embedding(10297, 768)\n",
              "  (pos_embedding): Embedding(100, 768)\n",
              "  (layers): ModuleList(\n",
              "    (0): DecoderLayer(\n",
              "      (self_attn_layer_norm): LayerNorm((768,), eps=1e-05, elementwise_affine=True)\n",
              "      (enc_attn_layer_norm): LayerNorm((768,), eps=1e-05, elementwise_affine=True)\n",
              "      (ff_layer_norm): LayerNorm((768,), eps=1e-05, elementwise_affine=True)\n",
              "      (self_attention): MultiHeadAttentionLayer(\n",
              "        (fc_q): Linear(in_features=768, out_features=768, bias=True)\n",
              "        (fc_k): Linear(in_features=768, out_features=768, bias=True)\n",
              "        (fc_v): Linear(in_features=768, out_features=768, bias=True)\n",
              "        (fc_o): Linear(in_features=768, out_features=768, bias=True)\n",
              "        (dropout): Dropout(p=0.1, inplace=False)\n",
              "      )\n",
              "      (encoder_attention): MultiHeadAttentionLayer(\n",
              "        (fc_q): Linear(in_features=768, out_features=768, bias=True)\n",
              "        (fc_k): Linear(in_features=768, out_features=768, bias=True)\n",
              "        (fc_v): Linear(in_features=768, out_features=768, bias=True)\n",
              "        (fc_o): Linear(in_features=768, out_features=768, bias=True)\n",
              "        (dropout): Dropout(p=0.1, inplace=False)\n",
              "      )\n",
              "      (positionwise_feedforward): PositionwiseFeedforwardLayer(\n",
              "        (fc_1): Linear(in_features=768, out_features=1536, bias=True)\n",
              "        (fc_2): Linear(in_features=1536, out_features=768, bias=True)\n",
              "        (dropout): Dropout(p=0.1, inplace=False)\n",
              "      )\n",
              "      (dropout): Dropout(p=0.1, inplace=False)\n",
              "    )\n",
              "    (1): DecoderLayer(\n",
              "      (self_attn_layer_norm): LayerNorm((768,), eps=1e-05, elementwise_affine=True)\n",
              "      (enc_attn_layer_norm): LayerNorm((768,), eps=1e-05, elementwise_affine=True)\n",
              "      (ff_layer_norm): LayerNorm((768,), eps=1e-05, elementwise_affine=True)\n",
              "      (self_attention): MultiHeadAttentionLayer(\n",
              "        (fc_q): Linear(in_features=768, out_features=768, bias=True)\n",
              "        (fc_k): Linear(in_features=768, out_features=768, bias=True)\n",
              "        (fc_v): Linear(in_features=768, out_features=768, bias=True)\n",
              "        (fc_o): Linear(in_features=768, out_features=768, bias=True)\n",
              "        (dropout): Dropout(p=0.1, inplace=False)\n",
              "      )\n",
              "      (encoder_attention): MultiHeadAttentionLayer(\n",
              "        (fc_q): Linear(in_features=768, out_features=768, bias=True)\n",
              "        (fc_k): Linear(in_features=768, out_features=768, bias=True)\n",
              "        (fc_v): Linear(in_features=768, out_features=768, bias=True)\n",
              "        (fc_o): Linear(in_features=768, out_features=768, bias=True)\n",
              "        (dropout): Dropout(p=0.1, inplace=False)\n",
              "      )\n",
              "      (positionwise_feedforward): PositionwiseFeedforwardLayer(\n",
              "        (fc_1): Linear(in_features=768, out_features=1536, bias=True)\n",
              "        (fc_2): Linear(in_features=1536, out_features=768, bias=True)\n",
              "        (dropout): Dropout(p=0.1, inplace=False)\n",
              "      )\n",
              "      (dropout): Dropout(p=0.1, inplace=False)\n",
              "    )\n",
              "    (2): DecoderLayer(\n",
              "      (self_attn_layer_norm): LayerNorm((768,), eps=1e-05, elementwise_affine=True)\n",
              "      (enc_attn_layer_norm): LayerNorm((768,), eps=1e-05, elementwise_affine=True)\n",
              "      (ff_layer_norm): LayerNorm((768,), eps=1e-05, elementwise_affine=True)\n",
              "      (self_attention): MultiHeadAttentionLayer(\n",
              "        (fc_q): Linear(in_features=768, out_features=768, bias=True)\n",
              "        (fc_k): Linear(in_features=768, out_features=768, bias=True)\n",
              "        (fc_v): Linear(in_features=768, out_features=768, bias=True)\n",
              "        (fc_o): Linear(in_features=768, out_features=768, bias=True)\n",
              "        (dropout): Dropout(p=0.1, inplace=False)\n",
              "      )\n",
              "      (encoder_attention): MultiHeadAttentionLayer(\n",
              "        (fc_q): Linear(in_features=768, out_features=768, bias=True)\n",
              "        (fc_k): Linear(in_features=768, out_features=768, bias=True)\n",
              "        (fc_v): Linear(in_features=768, out_features=768, bias=True)\n",
              "        (fc_o): Linear(in_features=768, out_features=768, bias=True)\n",
              "        (dropout): Dropout(p=0.1, inplace=False)\n",
              "      )\n",
              "      (positionwise_feedforward): PositionwiseFeedforwardLayer(\n",
              "        (fc_1): Linear(in_features=768, out_features=1536, bias=True)\n",
              "        (fc_2): Linear(in_features=1536, out_features=768, bias=True)\n",
              "        (dropout): Dropout(p=0.1, inplace=False)\n",
              "      )\n",
              "      (dropout): Dropout(p=0.1, inplace=False)\n",
              "    )\n",
              "    (3): DecoderLayer(\n",
              "      (self_attn_layer_norm): LayerNorm((768,), eps=1e-05, elementwise_affine=True)\n",
              "      (enc_attn_layer_norm): LayerNorm((768,), eps=1e-05, elementwise_affine=True)\n",
              "      (ff_layer_norm): LayerNorm((768,), eps=1e-05, elementwise_affine=True)\n",
              "      (self_attention): MultiHeadAttentionLayer(\n",
              "        (fc_q): Linear(in_features=768, out_features=768, bias=True)\n",
              "        (fc_k): Linear(in_features=768, out_features=768, bias=True)\n",
              "        (fc_v): Linear(in_features=768, out_features=768, bias=True)\n",
              "        (fc_o): Linear(in_features=768, out_features=768, bias=True)\n",
              "        (dropout): Dropout(p=0.1, inplace=False)\n",
              "      )\n",
              "      (encoder_attention): MultiHeadAttentionLayer(\n",
              "        (fc_q): Linear(in_features=768, out_features=768, bias=True)\n",
              "        (fc_k): Linear(in_features=768, out_features=768, bias=True)\n",
              "        (fc_v): Linear(in_features=768, out_features=768, bias=True)\n",
              "        (fc_o): Linear(in_features=768, out_features=768, bias=True)\n",
              "        (dropout): Dropout(p=0.1, inplace=False)\n",
              "      )\n",
              "      (positionwise_feedforward): PositionwiseFeedforwardLayer(\n",
              "        (fc_1): Linear(in_features=768, out_features=1536, bias=True)\n",
              "        (fc_2): Linear(in_features=1536, out_features=768, bias=True)\n",
              "        (dropout): Dropout(p=0.1, inplace=False)\n",
              "      )\n",
              "      (dropout): Dropout(p=0.1, inplace=False)\n",
              "    )\n",
              "  )\n",
              "  (fc_out): Linear(in_features=768, out_features=10297, bias=True)\n",
              "  (dropout): Dropout(p=0.1, inplace=False)\n",
              ")"
            ]
          },
          "metadata": {},
          "execution_count": 27
        }
      ]
    },
    {
      "cell_type": "markdown",
      "metadata": {
        "id": "aX0hdP4_O33P"
      },
      "source": [
        "Замораживаем веса энкодера, чтобы ничего не поломать на старте."
      ]
    },
    {
      "cell_type": "code",
      "metadata": {
        "id": "LLRtgWC9PHm6",
        "colab": {
          "base_uri": "https://localhost:8080/"
        },
        "outputId": "d1df78a2-4038-430a-cc61-a40e8ae3b36f"
      },
      "source": [
        "def set_requires_grad(model_part, set_to=True):\n",
        "    for param in model_part.parameters():\n",
        "        param.requires_grad = set_to\n",
        "\n",
        "set_requires_grad(model.encoder, set_to=False)\n",
        "\n",
        "print(f'The model has {count_parameters(model):,} trainable parameters')"
      ],
      "execution_count": null,
      "outputs": [
        {
          "output_type": "stream",
          "name": "stdout",
          "text": [
            "The model has 44,267,065 trainable parameters\n"
          ]
        }
      ]
    },
    {
      "cell_type": "markdown",
      "metadata": {
        "id": "cLWUN2kYzOwZ"
      },
      "source": [
        "Обучать будем при помощи Adam с learning rate decay при выходе на плато, осуществляемого scheduler."
      ]
    },
    {
      "cell_type": "code",
      "metadata": {
        "id": "bc1yocv-BWhl"
      },
      "source": [
        "LEARNING_RATE = 0.0005\n",
        "\n",
        "optimizer = torch.optim.Adam(model.parameters(), lr=LEARNING_RATE)\n",
        "criterion = nn.CrossEntropyLoss(ignore_index=TRG_PAD_IDX)\n",
        "\n",
        "scheduler = torch.optim.lr_scheduler.ReduceLROnPlateau(\n",
        "    optimizer, factor=0.3, patience=1, threshold=0.1, verbose=True\n",
        ")"
      ],
      "execution_count": null,
      "outputs": []
    },
    {
      "cell_type": "markdown",
      "metadata": {
        "id": "pRLNf_al0uJg"
      },
      "source": [
        "Обучение. Выводятся графики лоссов и записывается история обучения.\n",
        "\n",
        "P.S. На центральном графике должна быть легенда (см. train()), но ее там почему-то не оказалось. Оранжевый график для валидации, синий — для трейна. После обучения декодера train() был немного переписан, чтобы отображалась легенда, на графике для обучения всей модели уже указано, что есть что."
      ]
    },
    {
      "cell_type": "code",
      "metadata": {
        "colab": {
          "base_uri": "https://localhost:8080/",
          "height": 584
        },
        "id": "_oaHaseNiJN-",
        "outputId": "4a953122-37b7-46b4-8c02-49a087174884"
      },
      "source": [
        "train_history = []\n",
        "valid_history = []\n",
        "verbose_train_history = []\n",
        "\n",
        "N_EPOCHS = 10\n",
        "CLIP = 1\n",
        "model_save_path = '/content/drive/MyDrive/Colab Notebooks/girafe-ai assignments/EN-RU models/Pretrained-BERT-enc-1.pt'\n",
        "history_save_path = '/content/drive/MyDrive/Colab Notebooks/girafe-ai assignments/EN-RU models/Pretrained-BERT-enc_history-1.json'\n",
        "\n",
        "best_valid_loss = float('inf')\n",
        "\n",
        "for epoch in range(N_EPOCHS):\n",
        "    \n",
        "    start_time = time.time()\n",
        "    \n",
        "    train_loss, history = train(model, train_iterator, optimizer,\n",
        "                                criterion, CLIP, SRC.vocab, device,\n",
        "                                train_history=train_history,\n",
        "                                valid_history=valid_history,\n",
        "                                verbose_train_history=verbose_train_history)\n",
        "    \n",
        "    valid_loss = evaluate(model, valid_iterator,\n",
        "                          criterion, SRC.vocab, device)\n",
        "    \n",
        "    end_time = time.time()\n",
        "    \n",
        "    epoch_mins, epoch_secs = epoch_time(start_time, end_time)\n",
        "    \n",
        "    if valid_loss < best_valid_loss:\n",
        "        best_valid_loss = valid_loss\n",
        "        torch.save(model.state_dict(), model_save_path)\n",
        "    \n",
        "    scheduler.step(valid_loss)\n",
        "\n",
        "    train_history.append(train_loss)\n",
        "    valid_history.append(valid_loss)\n",
        "    verbose_train_history.extend(history)\n",
        "    print(f'Epoch: {epoch+1:02} | Time: {epoch_mins}m {epoch_secs}s')\n",
        "    print(f'\\tTrain Loss: {train_loss:.3f} | Train PPL: {math.exp(train_loss):7.3f}')\n",
        "    print(f'\\t Val. Loss: {valid_loss:.3f} |  Val. PPL: {math.exp(valid_loss):7.3f}')\n",
        "\n",
        "\n",
        "verbose_train_history = [x.item() for x in verbose_train_history]\n",
        "whole_history = {\n",
        "    \"train_history\": train_history,\n",
        "    \"valid_history\": valid_history,\n",
        "    \"verbose_train_history\": verbose_train_history\n",
        "}\n",
        "\n",
        "with open(history_save_path, \"w\") as history_file:\n",
        "    json.dump(whole_history, history_file)"
      ],
      "execution_count": null,
      "outputs": [
        {
          "output_type": "display_data",
          "data": {
            "image/png": "[encoded data removed]",
            "text/plain": [
              "<Figure size 1440x576 with 3 Axes>"
            ]
          },
          "metadata": {
            "needs_background": "light"
          }
        },
        {
          "output_type": "stream",
          "name": "stdout",
          "text": [
            "Epoch    10: reducing learning rate of group 0 to 1.3500e-05.\n",
            "Epoch: 10 | Time: 20m 21s\n",
            "\tTrain Loss: 0.789 | Train PPL:   2.201\n",
            "\t Val. Loss: 1.525 |  Val. PPL:   4.594\n"
          ]
        }
      ]
    },
    {
      "cell_type": "markdown",
      "metadata": {
        "id": "TXWtztT31D11"
      },
      "source": [
        "Лосс на тесте."
      ]
    },
    {
      "cell_type": "code",
      "metadata": {
        "colab": {
          "base_uri": "https://localhost:8080/"
        },
        "id": "Z_igbNrzmS9n",
        "outputId": "a17cc86d-6864-486f-8650-86a3814dbeb1"
      },
      "source": [
        "model_save_path = '/content/drive/MyDrive/Colab Notebooks/girafe-ai assignments/EN-RU models/Pretrained-BERT-enc-1.pt'\n",
        "model.load_state_dict(torch.load(model_save_path))\n",
        "\n",
        "test_loss = evaluate(model, test_iterator, criterion, SRC.vocab, device)\n",
        "\n",
        "print(f'| Test Loss: {test_loss:.3f} | Test PPL: {math.exp(test_loss):7.3f} |')"
      ],
      "execution_count": null,
      "outputs": [
        {
          "output_type": "stream",
          "name": "stdout",
          "text": [
            "| Test Loss: 1.527 | Test PPL:   4.603 |\n"
          ]
        }
      ]
    },
    {
      "cell_type": "markdown",
      "metadata": {
        "id": "tXCXWcofGPQy"
      },
      "source": [
        "#### Обучение модели целиком"
      ]
    },
    {
      "cell_type": "markdown",
      "metadata": {
        "id": "Jdg9JZoO1QFT"
      },
      "source": [
        "Размораживаем веса энкодера"
      ]
    },
    {
      "cell_type": "code",
      "metadata": {
        "colab": {
          "base_uri": "https://localhost:8080/"
        },
        "id": "Bm0D-XWp1UXc",
        "outputId": "e0784ca0-e2a8-45e9-ad12-86ccd1234cae"
      },
      "source": [
        "set_requires_grad(model.encoder, set_to=True)\n",
        "\n",
        "print(f'The model has {count_parameters(model):,} trainable parameters')"
      ],
      "execution_count": null,
      "outputs": [
        {
          "output_type": "stream",
          "name": "stdout",
          "text": [
            "The model has 98,158,393 trainable parameters\n"
          ]
        }
      ]
    },
    {
      "cell_type": "markdown",
      "metadata": {
        "id": "ZnOS7Zzq1ajy"
      },
      "source": [
        "Модель стала в два раза больше, поэтому на коллабовский GPU с BATCH_SIZE=128 уже не влезает. Переопределяем итераторы с меньшим размером батча."
      ]
    },
    {
      "cell_type": "code",
      "metadata": {
        "id": "ZW879NjK1Z65"
      },
      "source": [
        "BATCH_SIZE = 64\n",
        "\n",
        "train_iterator, valid_iterator, test_iterator = BucketIterator.splits(\n",
        "    (train_data, valid_data, test_data),\n",
        "    batch_size=BATCH_SIZE, \n",
        "    device=device,\n",
        "    sort_key=_len_sort_key\n",
        ")"
      ],
      "execution_count": null,
      "outputs": []
    },
    {
      "cell_type": "markdown",
      "metadata": {
        "id": "0Mk0-wpl2Axb"
      },
      "source": [
        "Обучение всей модели."
      ]
    },
    {
      "cell_type": "markdown",
      "metadata": {
        "id": "RQLKR43e1VgW"
      },
      "source": [
        "##### Warmup обучение одну эпоху\n",
        "\n",
        "Чтобы посмотреть, как модель реагирует на выбранный *LEARNING_RATE*. При обучении декодера этот параметр изначально был равен 5e-4. Затем он упал до 1.35e-5. Тут был выбрал 5e-6."
      ]
    },
    {
      "cell_type": "code",
      "metadata": {
        "id": "hjGk7OcZGKl0"
      },
      "source": [
        "LEARNING_RATE = 0.000005\n",
        "\n",
        "optimizer = torch.optim.Adam(model.parameters(), lr=LEARNING_RATE)\n",
        "criterion = nn.CrossEntropyLoss(ignore_index=TRG_PAD_IDX)\n",
        "\n",
        "scheduler = torch.optim.lr_scheduler.ReduceLROnPlateau(\n",
        "    optimizer, factor=0.3, patience=1, threshold=0.1, verbose=True\n",
        ")"
      ],
      "execution_count": null,
      "outputs": []
    },
    {
      "cell_type": "code",
      "metadata": {
        "colab": {
          "base_uri": "https://localhost:8080/",
          "height": 584
        },
        "id": "17MP6SUqGyzf",
        "outputId": "6a4e3d3e-ee10-481d-97c2-40a2ec212557"
      },
      "source": [
        "train_history = []\n",
        "valid_history = []\n",
        "verbose_train_history = []\n",
        "\n",
        "N_EPOCHS = 1\n",
        "CLIP = 1\n",
        "model_save_path = '/content/drive/MyDrive/Colab Notebooks/girafe-ai assignments/EN-RU models/Pretrained-BERT-enc-2.pt'\n",
        "history_save_path = '/content/drive/MyDrive/Colab Notebooks/girafe-ai assignments/EN-RU models/Pretrained-BERT-enc_history-2.json'\n",
        "\n",
        "best_valid_loss = float('inf')\n",
        "\n",
        "for epoch in range(N_EPOCHS):\n",
        "    \n",
        "    start_time = time.time()\n",
        "    \n",
        "    train_loss, history = train(model, train_iterator, optimizer,\n",
        "                                criterion, CLIP, SRC.vocab, device,\n",
        "                                train_history=train_history,\n",
        "                                valid_history=valid_history,\n",
        "                                verbose_train_history=verbose_train_history)\n",
        "    \n",
        "    valid_loss = evaluate(model, valid_iterator,\n",
        "                          criterion, SRC.vocab, device)\n",
        "    \n",
        "    end_time = time.time()\n",
        "    \n",
        "    epoch_mins, epoch_secs = epoch_time(start_time, end_time)\n",
        "    \n",
        "    if valid_loss < best_valid_loss:\n",
        "        best_valid_loss = valid_loss\n",
        "        torch.save(model.state_dict(), model_save_path)\n",
        "    \n",
        "    scheduler.step(valid_loss)\n",
        "\n",
        "    train_history.append(train_loss)\n",
        "    valid_history.append(valid_loss)\n",
        "    verbose_train_history.extend(history)\n",
        "    print(f'Epoch: {epoch+1:02} | Time: {epoch_mins}m {epoch_secs}s')\n",
        "    print(f'\\tTrain Loss: {train_loss:.3f} | Train PPL: {math.exp(train_loss):7.3f}')\n",
        "    print(f'\\t Val. Loss: {valid_loss:.3f} |  Val. PPL: {math.exp(valid_loss):7.3f}')\n",
        "\n",
        "\n",
        "verbose_train_history = [x.item() for x in verbose_train_history]\n",
        "whole_history = {\n",
        "    \"train_history\": train_history,\n",
        "    \"valid_history\": valid_history,\n",
        "    \"verbose_train_history\": verbose_train_history\n",
        "}\n",
        "\n",
        "with open(history_save_path, \"w\") as history_file:\n",
        "    json.dump(whole_history, history_file)"
      ],
      "execution_count": null,
      "outputs": [
        {
          "output_type": "stream",
          "name": "stderr",
          "text": [
            "No handles with labels found to put in legend.\n"
          ]
        },
        {
          "output_type": "display_data",
          "data": {
            "image/png": "[encoded data removed]",
            "text/plain": [
              "<Figure size 1440x576 with 3 Axes>"
            ]
          },
          "metadata": {
            "needs_background": "light"
          }
        },
        {
          "output_type": "stream",
          "name": "stdout",
          "text": [
            "Epoch: 01 | Time: 30m 31s\n",
            "\tTrain Loss: 0.774 | Train PPL:   2.169\n",
            "\t Val. Loss: 1.496 |  Val. PPL:   4.463\n"
          ]
        }
      ]
    },
    {
      "cell_type": "markdown",
      "metadata": {
        "id": "GwtB2aeq2VsQ"
      },
      "source": [
        "##### Полноценное обучение модели целиком\n",
        "\n",
        "Начальный *LEARNING_RATE* равен 2.5e-6."
      ]
    },
    {
      "cell_type": "code",
      "metadata": {
        "id": "SVrGRus72wgR"
      },
      "source": [
        "LEARNING_RATE = 0.0000025\n",
        "\n",
        "optimizer = torch.optim.Adam(model.parameters(), lr=LEARNING_RATE)\n",
        "criterion = nn.CrossEntropyLoss(ignore_index=TRG_PAD_IDX)\n",
        "\n",
        "scheduler = torch.optim.lr_scheduler.ReduceLROnPlateau(\n",
        "    optimizer, factor=0.3, patience=1, threshold=0.1, verbose=True\n",
        ")"
      ],
      "execution_count": null,
      "outputs": []
    },
    {
      "cell_type": "markdown",
      "metadata": {
        "id": "XTBJDhEDkUkz"
      },
      "source": [
        "Во время этой стадии обучения коллаб отключился, отработав первые 2 эпохи. Возобновление обучения осуществляется при помощи кода ниже."
      ]
    },
    {
      "cell_type": "code",
      "metadata": {
        "id": "cbheHljdkT5Y"
      },
      "source": [
        "# use to reload model\n",
        "model_save_path = '/content/drive/MyDrive/Colab Notebooks/girafe-ai assignments/EN-RU models/Pretrained-BERT-enc-2-2.pt'\n",
        "model.load_state_dict(torch.load(model_save_path))\n",
        "\n",
        "# Load histories\n",
        "history_save_path_1 = '/content/drive/MyDrive/Colab Notebooks/girafe-ai assignments/EN-RU models/Pretrained-BERT-enc_history-1.json'\n",
        "with open(history_save_path_1, 'r') as hsp1:\n",
        "    whole_history_1 = json.load(hsp1)\n",
        "\n",
        "history_save_path_2 = '/content/drive/MyDrive/Colab Notebooks/girafe-ai assignments/EN-RU models/Pretrained-BERT-enc_history-2.json'\n",
        "with open(history_save_path_2, 'r') as hsp2:\n",
        "    whole_history_2 = json.load(hsp2)\n",
        "\n",
        "train_history = []\n",
        "valid_history = []\n",
        "verbose_train_history = []\n",
        "\n",
        "train_history.extend(whole_history_1['train_history'])\n",
        "train_history.extend(whole_history_2['train_history'])\n",
        "\n",
        "valid_history.extend(whole_history_1['valid_history'])\n",
        "valid_history.extend(whole_history_2['valid_history'])\n",
        "\n",
        "verbose_train_history.extend(whole_history_1['verbose_train_history'])\n",
        "verbose_train_history.extend(whole_history_2['verbose_train_history'])"
      ],
      "execution_count": null,
      "outputs": []
    },
    {
      "cell_type": "markdown",
      "metadata": {
        "id": "a7Oy31m_lIsy"
      },
      "source": [
        "Лосс с этих двух эпох сохранился только в виде графиков."
      ]
    },
    {
      "cell_type": "code",
      "metadata": {
        "colab": {
          "base_uri": "https://localhost:8080/",
          "height": 513
        },
        "id": "CvZ56jGQ25MI",
        "outputId": "abb2caaa-884f-4053-fc8b-bce74ac33718"
      },
      "source": [
        "train_history = []\n",
        "valid_history = []\n",
        "verbose_train_history = []\n",
        "\n",
        "N_EPOCHS = 10\n",
        "CLIP = 1\n",
        "model_save_path = '/content/drive/MyDrive/Colab Notebooks/girafe-ai assignments/EN-RU models/Pretrained-BERT-enc-2-2.pt'\n",
        "history_save_path = '/content/drive/MyDrive/Colab Notebooks/girafe-ai assignments/EN-RU models/Pretrained-BERT-enc_history-2-2.json'\n",
        "\n",
        "best_valid_loss = float('inf')\n",
        "\n",
        "for epoch in range(N_EPOCHS):\n",
        "    \n",
        "    start_time = time.time()\n",
        "    \n",
        "    train_loss, history = train(model, train_iterator, optimizer,\n",
        "                                criterion, CLIP, SRC.vocab, device,\n",
        "                                train_history=train_history,\n",
        "                                valid_history=valid_history,\n",
        "                                verbose_train_history=verbose_train_history)\n",
        "    \n",
        "    valid_loss = evaluate(model, valid_iterator,\n",
        "                          criterion, SRC.vocab, device)\n",
        "    \n",
        "    end_time = time.time()\n",
        "    \n",
        "    epoch_mins, epoch_secs = epoch_time(start_time, end_time)\n",
        "    \n",
        "    if valid_loss < best_valid_loss:\n",
        "        best_valid_loss = valid_loss\n",
        "        torch.save(model.state_dict(), model_save_path)\n",
        "    \n",
        "    scheduler.step(valid_loss)\n",
        "\n",
        "    train_history.append(train_loss)\n",
        "    valid_history.append(valid_loss)\n",
        "    verbose_train_history.extend(history)\n",
        "    print(f'Epoch: {epoch+1:02} | Time: {epoch_mins}m {epoch_secs}s')\n",
        "    print(f'\\tTrain Loss: {train_loss:.3f} | Train PPL: {math.exp(train_loss):7.3f}')\n",
        "    print(f'\\t Val. Loss: {valid_loss:.3f} |  Val. PPL: {math.exp(valid_loss):7.3f}')\n",
        "\n",
        "\n",
        "verbose_train_history = [x.item() for x in verbose_train_history]\n",
        "whole_history = {\n",
        "    \"train_history\": train_history,\n",
        "    \"valid_history\": valid_history,\n",
        "    \"verbose_train_history\": verbose_train_history\n",
        "}\n",
        "\n",
        "with open(history_save_path, \"w\") as history_file:\n",
        "    json.dump(whole_history, history_file)"
      ],
      "execution_count": null,
      "outputs": [
        {
          "output_type": "display_data",
          "data": {
            "image/png": "[encoded data removed]",
            "text/plain": [
              "<Figure size 1440x576 with 3 Axes>"
            ]
          },
          "metadata": {
            "needs_background": "light"
          }
        }
      ]
    },
    {
      "cell_type": "markdown",
      "metadata": {
        "id": "_lExIltZoEhk"
      },
      "source": [
        "Продолжаем обучение."
      ]
    },
    {
      "cell_type": "code",
      "metadata": {
        "id": "IeWyaJ3aouA2"
      },
      "source": [
        "LEARNING_RATE = 0.0000025 * 0.8\n",
        "\n",
        "optimizer = torch.optim.Adam(model.parameters(), lr=LEARNING_RATE)\n",
        "criterion = nn.CrossEntropyLoss(ignore_index=TRG_PAD_IDX)\n",
        "\n",
        "scheduler = torch.optim.lr_scheduler.ReduceLROnPlateau(\n",
        "    optimizer, factor=0.5, patience=1, threshold=0.1, verbose=True\n",
        ")"
      ],
      "execution_count": null,
      "outputs": []
    },
    {
      "cell_type": "code",
      "metadata": {
        "colab": {
          "base_uri": "https://localhost:8080/",
          "height": 913
        },
        "id": "Qk2QVq8enCqQ",
        "outputId": "580d2a0c-62c4-4f7f-cf0e-baca46b46cb8"
      },
      "source": [
        "N_EPOCHS = 10\n",
        "CLIP = 1\n",
        "model_save_path = '/content/drive/MyDrive/Colab Notebooks/girafe-ai assignments/EN-RU models/Pretrained-BERT-enc-2-3.pt'\n",
        "history_save_path = '/content/drive/MyDrive/Colab Notebooks/girafe-ai assignments/EN-RU models/Pretrained-BERT-enc_history-2-3.json'\n",
        "\n",
        "best_valid_loss = 1.499\n",
        "\n",
        "for epoch in range(N_EPOCHS):\n",
        "    \n",
        "    start_time = time.time()\n",
        "    \n",
        "    train_loss, history = train(model, train_iterator, optimizer,\n",
        "                                criterion, CLIP, SRC.vocab, device,\n",
        "                                train_history=train_history,\n",
        "                                valid_history=valid_history,\n",
        "                                verbose_train_history=verbose_train_history)\n",
        "    \n",
        "    valid_loss = evaluate(model, valid_iterator,\n",
        "                          criterion, SRC.vocab, device)\n",
        "    \n",
        "    end_time = time.time()\n",
        "    \n",
        "    epoch_mins, epoch_secs = epoch_time(start_time, end_time)\n",
        "    \n",
        "    if valid_loss < best_valid_loss:\n",
        "        best_valid_loss = valid_loss\n",
        "        torch.save(model.state_dict(), model_save_path)\n",
        "    \n",
        "    scheduler.step(valid_loss)\n",
        "\n",
        "    train_history.append(train_loss)\n",
        "    valid_history.append(valid_loss)\n",
        "    verbose_train_history.extend(history)\n",
        "    print(f'Epoch: {epoch+1:02} | Time: {epoch_mins}m {epoch_secs}s')\n",
        "    print(f'\\tTrain Loss: {train_loss:.3f} | Train PPL: {math.exp(train_loss):7.3f}')\n",
        "    print(f'\\t Val. Loss: {valid_loss:.3f} |  Val. PPL: {math.exp(valid_loss):7.3f}')"
      ],
      "execution_count": null,
      "outputs": [
        {
          "output_type": "display_data",
          "data": {
            "image/png": "[encoded data removed]",
            "text/plain": [
              "<Figure size 1440x576 with 3 Axes>"
            ]
          },
          "metadata": {
            "needs_background": "light"
          }
        },
        {
          "output_type": "stream",
          "name": "stdout",
          "text": [
            "Epoch: 10 | Time: 29m 19s\n",
            "\tTrain Loss: 0.719 | Train PPL:   2.051\n",
            "\t Val. Loss: 1.481 |  Val. PPL:   4.399\n"
          ]
        },
        {
          "output_type": "error",
          "ename": "AttributeError",
          "evalue": "ignored",
          "traceback": [
            "\u001b[0;31m---------------------------------------------------------------------------\u001b[0m",
            "\u001b[0;31mAttributeError\u001b[0m                            Traceback (most recent call last)",
            "\u001b[0;32m<ipython-input-35-c80a6abbfaa3>\u001b[0m in \u001b[0;36m<module>\u001b[0;34m()\u001b[0m\n\u001b[1;32m     37\u001b[0m \u001b[0;34m\u001b[0m\u001b[0m\n\u001b[1;32m     38\u001b[0m \u001b[0;34m\u001b[0m\u001b[0m\n\u001b[0;32m---> 39\u001b[0;31m \u001b[0mverbose_train_history\u001b[0m \u001b[0;34m=\u001b[0m \u001b[0;34m[\u001b[0m\u001b[0mx\u001b[0m\u001b[0;34m.\u001b[0m\u001b[0mitem\u001b[0m\u001b[0;34m(\u001b[0m\u001b[0;34m)\u001b[0m \u001b[0;32mfor\u001b[0m \u001b[0mx\u001b[0m \u001b[0;32min\u001b[0m \u001b[0mverbose_train_history\u001b[0m\u001b[0;34m]\u001b[0m\u001b[0;34m\u001b[0m\u001b[0;34m\u001b[0m\u001b[0m\n\u001b[0m\u001b[1;32m     40\u001b[0m whole_history = {\n\u001b[1;32m     41\u001b[0m     \u001b[0;34m\"train_history\"\u001b[0m\u001b[0;34m:\u001b[0m \u001b[0mtrain_history\u001b[0m\u001b[0;34m,\u001b[0m\u001b[0;34m\u001b[0m\u001b[0;34m\u001b[0m\u001b[0m\n",
            "\u001b[0;32m<ipython-input-35-c80a6abbfaa3>\u001b[0m in \u001b[0;36m<listcomp>\u001b[0;34m(.0)\u001b[0m\n\u001b[1;32m     37\u001b[0m \u001b[0;34m\u001b[0m\u001b[0m\n\u001b[1;32m     38\u001b[0m \u001b[0;34m\u001b[0m\u001b[0m\n\u001b[0;32m---> 39\u001b[0;31m \u001b[0mverbose_train_history\u001b[0m \u001b[0;34m=\u001b[0m \u001b[0;34m[\u001b[0m\u001b[0mx\u001b[0m\u001b[0;34m.\u001b[0m\u001b[0mitem\u001b[0m\u001b[0;34m(\u001b[0m\u001b[0;34m)\u001b[0m \u001b[0;32mfor\u001b[0m \u001b[0mx\u001b[0m \u001b[0;32min\u001b[0m \u001b[0mverbose_train_history\u001b[0m\u001b[0;34m]\u001b[0m\u001b[0;34m\u001b[0m\u001b[0;34m\u001b[0m\u001b[0m\n\u001b[0m\u001b[1;32m     40\u001b[0m whole_history = {\n\u001b[1;32m     41\u001b[0m     \u001b[0;34m\"train_history\"\u001b[0m\u001b[0;34m:\u001b[0m \u001b[0mtrain_history\u001b[0m\u001b[0;34m,\u001b[0m\u001b[0;34m\u001b[0m\u001b[0;34m\u001b[0m\u001b[0m\n",
            "\u001b[0;31mAttributeError\u001b[0m: 'float' object has no attribute 'item'"
          ]
        }
      ]
    },
    {
      "cell_type": "markdown",
      "metadata": {
        "id": "P1yd54ZWqJ4B"
      },
      "source": [
        "Похоже, что дальше обучать не имеет смысла.\n",
        "\n",
        "На этапе сохранения истории появилась ошибка, так как verbose_train_history состоял из float'ов и numpy массивов из одного элемента. Ниже сохранение отработало корректно. Само обучение завершилось полностью."
      ]
    },
    {
      "cell_type": "code",
      "metadata": {
        "id": "uqMs2lsSsd-7"
      },
      "source": [
        "verbose_train_history = [x if isinstance(x, float) else x.item() for x in verbose_train_history]\n",
        "whole_history = {\n",
        "    \"train_history\": train_history,\n",
        "    \"valid_history\": valid_history,\n",
        "    \"verbose_train_history\": verbose_train_history\n",
        "}\n",
        "\n",
        "with open(history_save_path, \"w\") as history_file:\n",
        "    json.dump(whole_history, history_file)"
      ],
      "execution_count": null,
      "outputs": []
    },
    {
      "cell_type": "markdown",
      "metadata": {
        "id": "BWVTB3bd2Ndf"
      },
      "source": [
        "Проверка лосса на тесте."
      ]
    },
    {
      "cell_type": "code",
      "metadata": {
        "colab": {
          "base_uri": "https://localhost:8080/"
        },
        "id": "Ysb_BhDfKQAs",
        "outputId": "edb3676c-f6a2-472b-8a2c-4af6aba211bc"
      },
      "source": [
        "model_save_path = '/content/drive/MyDrive/Colab Notebooks/girafe-ai assignments/EN-RU models/Pretrained-BERT-enc-2-3.pt'\n",
        "model.load_state_dict(torch.load(model_save_path))\n",
        "\n",
        "start_time = time.time()\n",
        "test_loss = evaluate(model, test_iterator, criterion, SRC.vocab, device)\n",
        "end_time = time.time()\n",
        "\n",
        "eval_mins, eval_secs = epoch_time(start_time, end_time)\n",
        "print(f'Test evaluation time: {eval_mins}m {eval_secs}s')\n",
        "\n",
        "print(f'| Test Loss: {test_loss:.3f} | Test PPL: {math.exp(test_loss):7.3f} |')"
      ],
      "execution_count": null,
      "outputs": [
        {
          "output_type": "stream",
          "name": "stdout",
          "text": [
            "Test evaluation time: 3m 8s\n",
            "| Test Loss: 1.495 | Test PPL:   4.460 |\n"
          ]
        }
      ]
    },
    {
      "cell_type": "markdown",
      "metadata": {
        "id": "4W1e_hLJoqGN"
      },
      "source": [
        "### Результаты обучения"
      ]
    },
    {
      "cell_type": "markdown",
      "metadata": {
        "id": "BAOQggi_o008"
      },
      "source": [
        "#### Примеры работы модели и сравнение с входными данными и ground truth\n"
      ]
    },
    {
      "cell_type": "markdown",
      "metadata": {
        "id": "JEA7j7On2j2w"
      },
      "source": [
        "Функция для инференса модели. Работает как на данных из итераторов, так и на пользовательских предложениях, подаваемых в виде обычной строки."
      ]
    },
    {
      "cell_type": "code",
      "metadata": {
        "id": "JLufSZE9opMP"
      },
      "source": [
        "def translate_sentence(sentence, tokenizer_ru, trg_field, model, device, max_len=100):\n",
        "    \n",
        "    model.eval()\n",
        "        \n",
        "    if isinstance(sentence, str):\n",
        "        tokens = tokenizer_ru.encode(sentence, add_special_tokens=True)\n",
        "    else:\n",
        "        # if sentence is from iterator it's already tokenized\n",
        "        # 0 is pad token, we don't need it\n",
        "        tokens = [token for token in sentence if token != 0]\n",
        "        \n",
        "    # tokens are already numericalized\n",
        "    src_tensor = torch.LongTensor(tokens).unsqueeze(0).to(device)\n",
        "    \n",
        "    src_mask = (src_tensor != 0).unsqueeze(1).unsqueeze(2).type(torch.LongTensor).to(device)\n",
        "    \n",
        "    with torch.no_grad():\n",
        "        enc_src = model.encoder(src_tensor, src_mask)['last_hidden_state']\n",
        "\n",
        "    trg_indexes = [trg_field.vocab.stoi[trg_field.init_token]]\n",
        "\n",
        "    for i in range(max_len):\n",
        "\n",
        "        trg_tensor = torch.LongTensor(trg_indexes).unsqueeze(0).to(device)\n",
        "\n",
        "        trg_mask = model.make_trg_mask(trg_tensor)\n",
        "        \n",
        "        with torch.no_grad():\n",
        "            output = model.decoder(trg_tensor, enc_src, trg_mask, src_mask)\n",
        "        \n",
        "        pred_token = output.argmax(2)[:,-1].item()\n",
        "        \n",
        "        trg_indexes.append(pred_token)\n",
        "\n",
        "        if pred_token == trg_field.vocab.stoi[trg_field.eos_token]:\n",
        "            break\n",
        "    \n",
        "    trg_tokens = [trg_field.vocab.itos[i] for i in trg_indexes]\n",
        "    \n",
        "    return trg_tokens[1:]"
      ],
      "execution_count": null,
      "outputs": []
    },
    {
      "cell_type": "code",
      "metadata": {
        "colab": {
          "base_uri": "https://localhost:8080/"
        },
        "id": "e6-_pVoG_6VY",
        "outputId": "293633fc-1c63-493c-91c0-910ee598cec9"
      },
      "source": [
        "print(\"Custom sentence example:\")\n",
        "sentence = \"Сегодня я живу в отеле\"\n",
        "print(translate_sentence(sentence, tokenizer_ru, TRG, model, device, max_len=100))\n",
        "print()\n",
        "\n",
        "\n",
        "print(\"Example from iterators:\")\n",
        "example_idx = 8\n",
        "\n",
        "src = vars(train_data.examples[example_idx])['src']\n",
        "trg = vars(train_data.examples[example_idx])['trg']\n",
        "print(f'src = {src}')\n",
        "print(f'trg = {trg}')\n",
        "\n",
        "translation = translate_sentence(src, tokenizer_ru, TRG, model, device)\n",
        "\n",
        "print(f'predicted trg = {translation}')"
      ],
      "execution_count": null,
      "outputs": [
        {
          "output_type": "stream",
          "name": "stdout",
          "text": [
            "Custom sentence example:\n",
            "['the', 'hotel', 'is', 'open', 'every', 'day', '.', '<eos>']\n",
            "\n",
            "Example from iterators:\n",
            "src = [11, 137, 2656, 184, 2680, 1375, 2894, 6693, 457, 26, 2266, 13807, 173, 165, 13812, 7377, 10778, 9056, 63, 393, 2713, 1251, 10, 972, 1267, 779, 184, 11683, 1146, 173, 175, 9340, 1451, 674, 10524, 26, 175, 9340, 1451, 182, 186, 9835, 10185, 657, 3119, 173, 180, 10125, 877, 182, 10486, 8409, 288, 5040, 9960, 2831, 27, 12, 0, 0, 0, 0, 0, 0, 0, 0, 0, 0, 0, 0, 0, 0, 0, 0, 0, 0, 0, 0, 0, 0, 0, 0, 0, 0, 0, 0, 0, 0, 0, 0, 0, 0, 0, 0, 0, 0, 0, 0, 0, 0, 0, 0, 0, 0, 0, 0, 0, 0, 0, 0, 0, 0, 0, 0, 0, 0, 0, 0, 0, 0, 0, 0, 0, 0, 0, 0, 0, 0, 0, 0, 0, 0, 0, 0, 0, 0, 0, 0, 0, 0, 0, 0, 0, 0, 0, 0, 0, 0, 0, 0, 0, 0]\n",
            "trg = ['each', 'of', 'the', 'résidence', '’s', 'apartments', 'and', 'studios', 'has', 'a', 'kitchen', 'or', 'kitchenette', 'equipped', 'with', 'a', 'fridge', ',', 'cooker', 'and', 'electric', 'hobs', '.', 'there', 'is', 'also', 'a', 'seating', 'area', 'in', 'each', '.']\n",
            "predicted trg = ['each', 'studio', 'at', 'résidence', '<unk>', 'comes', 'with', 'a', 'seating', 'area', 'and', 'a', 'kitchen', 'equipped', 'with', 'a', 'fridge', 'and', 'a', 'stovetop', '.', 'there', 'is', 'also', 'a', 'kitchenette', 'with', 'electric', 'hobs', '.', '<eos>']\n"
          ]
        }
      ]
    },
    {
      "cell_type": "markdown",
      "metadata": {
        "id": "iK89v3yA3SEX"
      },
      "source": [
        "Читать листы из сток можно, но гораздо лучше читать что-то более приближенное к обычным предложениям. Функции ниже частично решают эту задачу, хотя предложения на русском языке декодировать обратно оказалось не самой тривиальной задачей."
      ]
    },
    {
      "cell_type": "code",
      "metadata": {
        "id": "LOidpR3srh12"
      },
      "source": [
        "def remove_tech_tokens(mystr, tokens_to_remove=['<eos>', '<sos>',\n",
        "                                                '<unk>', '<pad>',\n",
        "                                                '[CLS]', '[UNK]',\n",
        "                                                '[SEP]', '[PAD]']):\n",
        "    return [x for x in mystr if x not in tokens_to_remove]\n",
        "\n",
        "\n",
        "# знаки пунктуации, пищущиеся со словами слитно\n",
        "punct_signs = ['.', '.\\n', ',', ',\\n', '?', '?\\n', '!', '!\\n', '»', '»\\n',\n",
        "               ';', ';\\n', '«']\n",
        "\n",
        "def unsplit_punct(sentence):\n",
        "    changed_sent = list()\n",
        "    for word in sentence.split(\" \"):\n",
        "        if word in punct_signs[:-1] and len(changed_sent) > 0:\n",
        "            changed_sent[-1] += word\n",
        "        elif len(changed_sent) > 0 and changed_sent[-1] == punct_signs[-1]:\n",
        "            changed_sent[-1] += word\n",
        "        else:\n",
        "            changed_sent.append(word)\n",
        "        \n",
        "    return \" \".join(changed_sent)\n",
        "\n",
        "\n",
        "def print_human_readable_translations(sentence, tokenizer_ru, trg_field, model,\n",
        "                                      device, max_len=100, real_translation=None):\n",
        "\n",
        "    translation = translate_sentence(sentence, tokenizer_ru, trg_field, model, device, max_len=100)\n",
        "    translation = remove_tech_tokens(translation)\n",
        "    translation = \" \".join(translation)\n",
        "    translation = unsplit_punct(translation)\n",
        "\n",
        "    # Sentence not from dataset\n",
        "    if isinstance(sentence, str):\n",
        "        print(\"Given sentence:\", sentence)\n",
        "        print(\"Model translation:\", translation)\n",
        "    else:\n",
        "        # Sentence from dataset\n",
        "        sentence = [tokenizer_ru.convert_ids_to_tokens(token) for token in sentence]\n",
        "        sentence = remove_tech_tokens(sentence)\n",
        "        sentence = unsplit_punct(\" \".join(sentence))\n",
        "        print(\"Given sentence:\", sentence)\n",
        "\n",
        "        if real_translation is not None:\n",
        "            real_translation = remove_tech_tokens(real_translation)\n",
        "            real_translation = unsplit_punct(\" \".join(real_translation))\n",
        "            print(\"Real translation:\", real_translation)\n",
        "\n",
        "        print(\"Model translation:\", translation)"
      ],
      "execution_count": null,
      "outputs": []
    },
    {
      "cell_type": "code",
      "metadata": {
        "colab": {
          "base_uri": "https://localhost:8080/"
        },
        "id": "4nL_bsDDBoOa",
        "outputId": "a6d0c92d-9960-49ec-c5ca-d7ccd54b824d"
      },
      "source": [
        "print_human_readable_translations(sentence, tokenizer_ru, TRG, model,\n",
        "                                  device, max_len=100, real_translation=None)"
      ],
      "execution_count": null,
      "outputs": [
        {
          "output_type": "stream",
          "name": "stdout",
          "text": [
            "Given sentence: Сегодня я живу в отеле\n",
            "Model translation: the hotel is open every day.\n"
          ]
        }
      ]
    },
    {
      "cell_type": "code",
      "metadata": {
        "colab": {
          "base_uri": "https://localhost:8080/"
        },
        "id": "4ez-MneBBxq1",
        "outputId": "4e1f4b41-6262-48d7-9c85-29c9cd8ade27"
      },
      "source": [
        "print_human_readable_translations(src, tokenizer_ru, TRG, model,\n",
        "                                  device, max_len=100, real_translation=trg)"
      ],
      "execution_count": null,
      "outputs": [
        {
          "output_type": "stream",
          "name": "stdout",
          "text": [
            "Given sentence: В числе у ##до ##б ##ств номер ##ов - ст ##удио и а ##пар ##там ##ентов комплекса R ##é ##side ##nce го ##сти ##ный у ##гол ##ок и к ##ух ##ня или мини - к ##ух ##ня с х ##оло ##дил ##ь ##ником и п ##лит ##ой с электр ##ическим ##и кон ##фор ##ками.\n",
            "Real translation: each of the résidence ’s apartments and studios has a kitchen or kitchenette equipped with a fridge, cooker and electric hobs. there is also a seating area in each.\n",
            "Model translation: each studio at résidence comes with a seating area and a kitchen equipped with a fridge and a stovetop. there is also a kitchenette with electric hobs.\n"
          ]
        }
      ]
    },
    {
      "cell_type": "markdown",
      "metadata": {
        "id": "NvQDANOxoicH"
      },
      "source": [
        "#### BLEU score"
      ]
    },
    {
      "cell_type": "markdown",
      "metadata": {
        "id": "6VKz1m-s36jo"
      },
      "source": [
        "Посчитаем финальное качество нашей модели."
      ]
    },
    {
      "cell_type": "code",
      "metadata": {
        "id": "-mrx5q4UoeH3"
      },
      "source": [
        "import tqdm\n",
        "from torchtext.data.metrics import bleu_score\n",
        "from nltk.translate.bleu_score import corpus_bleu\n",
        "\n",
        "def calculate_bleu(data, tokenizer_ru, trg_field, model, device, max_len=100):\n",
        "    \n",
        "    trgs = []\n",
        "    pred_trgs = []\n",
        "    \n",
        "    for datum in tqdm.tqdm(data):\n",
        "        \n",
        "        src = vars(datum)['src']\n",
        "        trg = vars(datum)['trg']\n",
        "        \n",
        "        pred_trg = translate_sentence(src, tokenizer_ru, trg_field, model, device, max_len=100)\n",
        "        \n",
        "        #cut off <eos> token\n",
        "        pred_trg = pred_trg[:-1]\n",
        "        \n",
        "        pred_trgs.append(pred_trg)\n",
        "        trgs.append([trg])\n",
        "        \n",
        "    return bleu_score(pred_trgs, trgs), corpus_bleu(trgs, pred_trgs)"
      ],
      "execution_count": null,
      "outputs": []
    },
    {
      "cell_type": "code",
      "metadata": {
        "colab": {
          "base_uri": "https://localhost:8080/"
        },
        "id": "zzslIFI56g6g",
        "outputId": "3f3f9a02-e84c-4187-e2dc-cd9c3169e2a2"
      },
      "source": [
        "# Note: this takes around 10-20 minutes\n",
        "\n",
        "bleu_score, corpus_bleu_score = calculate_bleu(test_data, tokenizer_ru, TRG, model, device, max_len=100)\n",
        "print(f'BLEU score torchtext = {bleu_score*100:.2f}')\n",
        "print(f'BLEU score nltk = {corpus_bleu_score*100:.2f}')"
      ],
      "execution_count": null,
      "outputs": [
        {
          "output_type": "stream",
          "name": "stderr",
          "text": [
            "100%|██████████| 7500/7500 [16:50<00:00,  7.42it/s]\n"
          ]
        },
        {
          "output_type": "stream",
          "name": "stdout",
          "text": [
            "BLEU score torchtext = 32.12\n",
            "BLEU score nltk = 32.12\n"
          ]
        }
      ]
    }
  ]
}